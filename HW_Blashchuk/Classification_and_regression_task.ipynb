{
 "cells": [
  {
   "cell_type": "markdown",
   "id": "a0b5946d",
   "metadata": {},
   "source": [
    "## Условие задачи\n",
    "\n",
    "На основании данных о пассажирах, которые воспользовались метро дважды за сутки, при\n",
    "наличии информации о первом заходе в метро, необходимо предсказать, **на какой станции**\n",
    "и **через какой промежуток времени**, этот пассажир воспользуется метро повторно. \n",
    "\n",
    "В данных присутствуют только те люди, которые совершили ровно две поездки в день,\n",
    "при этом статистика валидаций взята за несколько дней.\n",
    "- `train.csv` — файл, содержащий данные о валидациях для обучения;\n",
    "-`test.csv` — файл, содержащий данные для предсказания;\n",
    "- `subway. csv` — вспомогательный файл содержащий информацию о всех\n",
    "возможных способах попасть со станции «А» на станцию «Б»; "
   ]
  },
  {
   "cell_type": "markdown",
   "id": "d3e68d57",
   "metadata": {},
   "source": [
    "### Описание датасетов:\n",
    "- `id` : уникальный идентификатор столбца;\n",
    "- `ticket_id` : уникальный идентификатор билета, считается, что у одного билета один владелец\n",
    "- `ticket_type_nm` : тип билета\n",
    "- `entrance_id` : уникальный id входа в станцию\n",
    "- `entrance_nm` : название\n",
    "- `station_id` : уникальное id станции захода\n",
    "- `station_nm` : наименование станции захода\n",
    "- `line_id` : уникальный id ветки на, которой находится станция\n",
    "- `line_nm` : наименование ветки, на которой находится станция\n",
    "- `pass_dttm` : дата валидации\n",
    "- `time_to_under` (столбец для предсказания) : сколько времени прошло между первой и второй валидацией\n",
    "- `label (столбец для предсказания)` : id второй станции, на которой произошла валидация "
   ]
  },
  {
   "cell_type": "markdown",
   "id": "32b09a89",
   "metadata": {},
   "source": [
    "## Подготовка данных для задачи классификации"
   ]
  },
  {
   "cell_type": "code",
   "execution_count": 15,
   "id": "e12a6877",
   "metadata": {},
   "outputs": [],
   "source": [
    "# Импортируем нужные библиотеки\n",
    "import pandas as pd, numpy as np, time\n",
    "import xgboost as xgb\n",
    "import catboost as cb\n",
    "import matplotlib.pyplot as plt\n",
    "from catboost import CatBoostRegressor, cv, Pool, CatBoostClassifier\n",
    "from sklearn import metrics\n",
    "from sklearn.model_selection import train_test_split\n",
    "from sklearn.model_selection import GridSearchCV\n",
    "from sklearn.metrics import silhouette_score\n",
    "import plotly.graph_objects as go\n",
    "import plotly.express as px"
   ]
  },
  {
   "cell_type": "code",
   "execution_count": 3,
   "id": "59747ff7",
   "metadata": {},
   "outputs": [],
   "source": [
    "# Читаем датасет и оставляем 10000 строк\n",
    "df = pd.read_csv('train_dataset_train.csv', sep=',')\n",
    "df = df.drop(df.index[range(10000, 1091021)])"
   ]
  },
  {
   "cell_type": "code",
   "execution_count": 4,
   "id": "387d39b5",
   "metadata": {},
   "outputs": [
    {
     "name": "stdout",
     "output_type": "stream",
     "text": [
      "(10000, 12)\n"
     ]
    }
   ],
   "source": [
    "print(df.shape) # размер оставленного датасета"
   ]
  },
  {
   "cell_type": "code",
   "execution_count": 5,
   "id": "f50f7ca3",
   "metadata": {},
   "outputs": [
    {
     "data": {
      "text/html": [
       "<div>\n",
       "<style scoped>\n",
       "    .dataframe tbody tr th:only-of-type {\n",
       "        vertical-align: middle;\n",
       "    }\n",
       "\n",
       "    .dataframe tbody tr th {\n",
       "        vertical-align: top;\n",
       "    }\n",
       "\n",
       "    .dataframe thead th {\n",
       "        text-align: right;\n",
       "    }\n",
       "</style>\n",
       "<table border=\"1\" class=\"dataframe\">\n",
       "  <thead>\n",
       "    <tr style=\"text-align: right;\">\n",
       "      <th></th>\n",
       "      <th>id</th>\n",
       "      <th>ticket_id</th>\n",
       "      <th>ticket_type_nm</th>\n",
       "      <th>entrance_id</th>\n",
       "      <th>entrance_nm</th>\n",
       "      <th>station_id</th>\n",
       "      <th>station_nm</th>\n",
       "      <th>line_id</th>\n",
       "      <th>line_nm</th>\n",
       "      <th>pass_dttm</th>\n",
       "      <th>time_to_under</th>\n",
       "      <th>label</th>\n",
       "    </tr>\n",
       "  </thead>\n",
       "  <tbody>\n",
       "    <tr>\n",
       "      <th>0</th>\n",
       "      <td>1</td>\n",
       "      <td>40BD89EC85646EFB69E283F39C298E60</td>\n",
       "      <td>Пропуск FacePay</td>\n",
       "      <td>2402</td>\n",
       "      <td>Лефортово БКЛ</td>\n",
       "      <td>11007</td>\n",
       "      <td>Лефортово</td>\n",
       "      <td>11</td>\n",
       "      <td>Большая кольцевая</td>\n",
       "      <td>2022-09-12 05:00:13</td>\n",
       "      <td>216.316667</td>\n",
       "      <td>8001</td>\n",
       "    </tr>\n",
       "    <tr>\n",
       "      <th>1</th>\n",
       "      <td>2</td>\n",
       "      <td>126727A96489CC976A8C08E5CEB00542</td>\n",
       "      <td>СК учащегося 30 дней</td>\n",
       "      <td>110</td>\n",
       "      <td>Войковская ( Южный )</td>\n",
       "      <td>2006</td>\n",
       "      <td>Войковская</td>\n",
       "      <td>2</td>\n",
       "      <td>Замоскворецкая</td>\n",
       "      <td>2022-09-12 05:00:54</td>\n",
       "      <td>648.183333</td>\n",
       "      <td>9011</td>\n",
       "    </tr>\n",
       "    <tr>\n",
       "      <th>2</th>\n",
       "      <td>3</td>\n",
       "      <td>D28CE6A9E0E5B6D213470A97CFF32485</td>\n",
       "      <td>БСК дружинника г.Москвы</td>\n",
       "      <td>110</td>\n",
       "      <td>Войковская ( Южный )</td>\n",
       "      <td>2006</td>\n",
       "      <td>Войковская</td>\n",
       "      <td>2</td>\n",
       "      <td>Замоскворецкая</td>\n",
       "      <td>2022-09-12 05:00:55</td>\n",
       "      <td>865.333333</td>\n",
       "      <td>7022</td>\n",
       "    </tr>\n",
       "    <tr>\n",
       "      <th>3</th>\n",
       "      <td>4</td>\n",
       "      <td>015DA44B523C062B5BFEFF3FB0E64B9E</td>\n",
       "      <td>30 дней</td>\n",
       "      <td>110</td>\n",
       "      <td>Войковская ( Южный )</td>\n",
       "      <td>2006</td>\n",
       "      <td>Войковская</td>\n",
       "      <td>2</td>\n",
       "      <td>Замоскворецкая</td>\n",
       "      <td>2022-09-12 05:01:13</td>\n",
       "      <td>1048.233333</td>\n",
       "      <td>2022</td>\n",
       "    </tr>\n",
       "    <tr>\n",
       "      <th>4</th>\n",
       "      <td>5</td>\n",
       "      <td>95B19C6F3A504727AC3EA56EB7E3E80F</td>\n",
       "      <td>КОШЕЛЕК</td>\n",
       "      <td>110</td>\n",
       "      <td>Войковская ( Южный )</td>\n",
       "      <td>2006</td>\n",
       "      <td>Войковская</td>\n",
       "      <td>2</td>\n",
       "      <td>Замоскворецкая</td>\n",
       "      <td>2022-09-12 05:02:55</td>\n",
       "      <td>965.600000</td>\n",
       "      <td>2017</td>\n",
       "    </tr>\n",
       "  </tbody>\n",
       "</table>\n",
       "</div>"
      ],
      "text/plain": [
       "   id                         ticket_id           ticket_type_nm  entrance_id  \\\n",
       "0   1  40BD89EC85646EFB69E283F39C298E60          Пропуск FacePay         2402   \n",
       "1   2  126727A96489CC976A8C08E5CEB00542     СК учащегося 30 дней          110   \n",
       "2   3  D28CE6A9E0E5B6D213470A97CFF32485  БСК дружинника г.Москвы          110   \n",
       "3   4  015DA44B523C062B5BFEFF3FB0E64B9E                  30 дней          110   \n",
       "4   5  95B19C6F3A504727AC3EA56EB7E3E80F                  КОШЕЛЕК          110   \n",
       "\n",
       "            entrance_nm  station_id  station_nm  line_id            line_nm  \\\n",
       "0         Лефортово БКЛ       11007   Лефортово       11  Большая кольцевая   \n",
       "1  Войковская ( Южный )        2006  Войковская        2     Замоскворецкая   \n",
       "2  Войковская ( Южный )        2006  Войковская        2     Замоскворецкая   \n",
       "3  Войковская ( Южный )        2006  Войковская        2     Замоскворецкая   \n",
       "4  Войковская ( Южный )        2006  Войковская        2     Замоскворецкая   \n",
       "\n",
       "             pass_dttm  time_to_under  label  \n",
       "0  2022-09-12 05:00:13     216.316667   8001  \n",
       "1  2022-09-12 05:00:54     648.183333   9011  \n",
       "2  2022-09-12 05:00:55     865.333333   7022  \n",
       "3  2022-09-12 05:01:13    1048.233333   2022  \n",
       "4  2022-09-12 05:02:55     965.600000   2017  "
      ]
     },
     "execution_count": 5,
     "metadata": {},
     "output_type": "execute_result"
    }
   ],
   "source": [
    "df.head() "
   ]
  },
  {
   "cell_type": "markdown",
   "id": "d0275837",
   "metadata": {},
   "source": [
    "### Исследование"
   ]
  },
  {
   "cell_type": "markdown",
   "id": "25c94ab8",
   "metadata": {},
   "source": [
    "Обратим внимание на типы проездного билета. Можно заметить, что существуют типы билетов, которые дублируются. Например, `30 дней СК учащегося` и `СК учащегося 30 дней`. Таких пар всего 11. Заменим дубликаты — это поможет сократить количество категорий билета с 43 до 36, а также уменьшит число выбросов."
   ]
  },
  {
   "cell_type": "code",
   "execution_count": 6,
   "id": "ccf9836a",
   "metadata": {},
   "outputs": [
    {
     "data": {
      "text/plain": [
       "array(['Пропуск FacePay', 'СК учащегося 30 дней',\n",
       "       'БСК дружинника г.Москвы', '30 дней', 'КОШЕЛЕК',\n",
       "       'СК студента 30 дней', '90 дней', '90 дней ЕДИНЫЙ ТК',\n",
       "       '30 дней СК учащегося', '90 дней СК студента',\n",
       "       '30 дней СК студента', 'ББК', 'СК аспиранта 90 дней',\n",
       "       'Социальная карта москвича', '30 дней ЕДИНЫЙ ТК',\n",
       "       'Социальная карта жителя Моск. области', '30 дней Пригород ТК',\n",
       "       'Социальная карта москвича с сопровождающим',\n",
       "       'Пропуск сотрудника УВД по охране Метрополитена',\n",
       "       '60 поездок ЕДИНЫЙ ТК', 'СК для сотрудника ГУВД г.Москвы',\n",
       "       '365 дней ЕДИНЫЙ ТК', 'ВЕСБ МОСКВА (7мин)', 'СК студента 90 дней',\n",
       "       '90 дней Пригород ТК', '30 дней  Пригород', '365 дней Пригород ТК',\n",
       "       '365 дней', 'СК ординатора 30 дней', '30 дней СК аспиранта',\n",
       "       '30 дней СК ординатора', '90 дней СК ординатора',\n",
       "       'ВЕСБ МО (7 мин)', 'ВЕСБ МО (тип 5)', 'СК ординатора 90 дней',\n",
       "       'СК аспиранта 30 дней', '90 дней СК учащегося',\n",
       "       'Временный билет ММ',\n",
       "       'Социальная карта жителя Моск. области с сопровождающим',\n",
       "       'СК учащегося 90 дней', '3 суток Единый ТК',\n",
       "       'Пропуск сотрудника  метрополитена', 'ВЕСБ МОСКВА'], dtype=object)"
      ]
     },
     "execution_count": 6,
     "metadata": {},
     "output_type": "execute_result"
    }
   ],
   "source": [
    "df.ticket_type_nm.unique() "
   ]
  },
  {
   "cell_type": "code",
   "execution_count": 7,
   "id": "a9154aef",
   "metadata": {},
   "outputs": [
    {
     "data": {
      "text/plain": [
       "43"
      ]
     },
     "execution_count": 7,
     "metadata": {},
     "output_type": "execute_result"
    }
   ],
   "source": [
    "df.ticket_type_nm.nunique() #количество различных типов билетов до удаления дубликатов"
   ]
  },
  {
   "cell_type": "code",
   "execution_count": 8,
   "id": "20e794f8",
   "metadata": {},
   "outputs": [],
   "source": [
    "df.replace({'30 дней СК учащегося':'СК учащегося 30 дней', \n",
    "              '30 дней СК студента': 'СК студента 30 дней',\n",
    "              '90 дней СК студента':'СК студента 90 дней',\n",
    "              '90 дней СК учащегося':'СК учащегося 90 дней',\n",
    "              '3 суток Единый ТК':'Билет 3 суток ЕДИНЫЙ',\n",
    "              '30 дней СК ассистента-стажера':'СК ассистента-стажера 30 дней',\n",
    "              '90 дней СК аспиранта':'СК аспиранта 90 дней',\n",
    "              '30 дней СК аспиранта':'СК аспиранта 30 дней',\n",
    "              '90 дней СК аспиранта':'СК аспиранта 90 дней',\n",
    "              '30 дней СК ординатора':'СК ординатора 30 дней',\n",
    "              '90 дней СК ординатора':'СК ординатора 90 дней'}, inplace=True)"
   ]
  },
  {
   "cell_type": "code",
   "execution_count": 9,
   "id": "a693ef90",
   "metadata": {},
   "outputs": [
    {
     "data": {
      "text/plain": [
       "36"
      ]
     },
     "execution_count": 9,
     "metadata": {},
     "output_type": "execute_result"
    }
   ],
   "source": [
    "df.ticket_type_nm.nunique() #количество различных типов билетов после удаления дубликатов"
   ]
  },
  {
   "cell_type": "markdown",
   "id": "841b4953",
   "metadata": {},
   "source": [
    "Это преобразование оптимизирует расчеты при использовании, например, OheHotEncoder, для дальнейшего решение задачи с помощью метода линейной регрессии. Однако выбранный для работы метод Catboost сам занимается подготовкой категориальных переменных. Было выяснено империческим путем, что данное преобразование внутри `ticket_type_nm` понижает процент угадываний, поэтому от него было принято решение отказаться."
   ]
  },
  {
   "cell_type": "markdown",
   "id": "64ba7371",
   "metadata": {},
   "source": [
    "#### Построим график зависимости времени до следующей валидации от типа проездного билета."
   ]
  },
  {
   "cell_type": "code",
   "execution_count": 12,
   "id": "8f89444c",
   "metadata": {},
   "outputs": [],
   "source": [
    "df['ticket_type_nm'] = df.ticket_type_nm.apply(lambda x: x.split(' ')[0])"
   ]
  },
  {
   "cell_type": "code",
   "execution_count": 41,
   "id": "ba2173e2",
   "metadata": {},
   "outputs": [],
   "source": [
    "stats1 = df.groupby(['ticket_type_nm'], as_index=False)[['time_to_under']].mean()"
   ]
  },
  {
   "cell_type": "code",
   "execution_count": 91,
   "id": "6c52ee42",
   "metadata": {},
   "outputs": [
    {
     "data": {
      "application/vnd.plotly.v1+json": {
       "config": {
        "plotlyServerURL": "https://plot.ly"
       },
       "data": [
        {
         "alignmentgroup": "True",
         "hovertemplate": "%{y} минут",
         "legendgroup": "",
         "marker": {
          "color": "blue",
          "pattern": {
           "shape": ""
          }
         },
         "name": "",
         "offsetgroup": "",
         "orientation": "v",
         "showlegend": false,
         "textangle": 0,
         "textposition": "auto",
         "texttemplate": "%{y:.2s}",
         "type": "bar",
         "x": [
          "30",
          "365",
          "60",
          "90",
          "ББК",
          "БСК",
          "Билет",
          "ВЕСБ",
          "Временный",
          "КОШЕЛЕК",
          "Пропуск",
          "СК",
          "Социальная"
         ],
         "xaxis": "x",
         "y": [
          739.9040474741327,
          694.8112903225806,
          698.5932055749129,
          749.9214830970557,
          686.9415770609319,
          687.8742424242424,
          138.86666666666667,
          639.3575757575758,
          300.01666666666665,
          705.7873088685016,
          360.7348148148148,
          620.0098429951692,
          617.0984098082059
         ],
         "yaxis": "y"
        }
       ],
       "layout": {
        "barmode": "relative",
        "height": 400,
        "legend": {
         "tracegroupgap": 0
        },
        "template": {
         "data": {
          "bar": [
           {
            "error_x": {
             "color": "#2a3f5f"
            },
            "error_y": {
             "color": "#2a3f5f"
            },
            "marker": {
             "line": {
              "color": "white",
              "width": 0.5
             },
             "pattern": {
              "fillmode": "overlay",
              "size": 10,
              "solidity": 0.2
             }
            },
            "type": "bar"
           }
          ],
          "barpolar": [
           {
            "marker": {
             "line": {
              "color": "white",
              "width": 0.5
             },
             "pattern": {
              "fillmode": "overlay",
              "size": 10,
              "solidity": 0.2
             }
            },
            "type": "barpolar"
           }
          ],
          "carpet": [
           {
            "aaxis": {
             "endlinecolor": "#2a3f5f",
             "gridcolor": "#C8D4E3",
             "linecolor": "#C8D4E3",
             "minorgridcolor": "#C8D4E3",
             "startlinecolor": "#2a3f5f"
            },
            "baxis": {
             "endlinecolor": "#2a3f5f",
             "gridcolor": "#C8D4E3",
             "linecolor": "#C8D4E3",
             "minorgridcolor": "#C8D4E3",
             "startlinecolor": "#2a3f5f"
            },
            "type": "carpet"
           }
          ],
          "choropleth": [
           {
            "colorbar": {
             "outlinewidth": 0,
             "ticks": ""
            },
            "type": "choropleth"
           }
          ],
          "contour": [
           {
            "colorbar": {
             "outlinewidth": 0,
             "ticks": ""
            },
            "colorscale": [
             [
              0,
              "#0d0887"
             ],
             [
              0.1111111111111111,
              "#46039f"
             ],
             [
              0.2222222222222222,
              "#7201a8"
             ],
             [
              0.3333333333333333,
              "#9c179e"
             ],
             [
              0.4444444444444444,
              "#bd3786"
             ],
             [
              0.5555555555555556,
              "#d8576b"
             ],
             [
              0.6666666666666666,
              "#ed7953"
             ],
             [
              0.7777777777777778,
              "#fb9f3a"
             ],
             [
              0.8888888888888888,
              "#fdca26"
             ],
             [
              1,
              "#f0f921"
             ]
            ],
            "type": "contour"
           }
          ],
          "contourcarpet": [
           {
            "colorbar": {
             "outlinewidth": 0,
             "ticks": ""
            },
            "type": "contourcarpet"
           }
          ],
          "heatmap": [
           {
            "colorbar": {
             "outlinewidth": 0,
             "ticks": ""
            },
            "colorscale": [
             [
              0,
              "#0d0887"
             ],
             [
              0.1111111111111111,
              "#46039f"
             ],
             [
              0.2222222222222222,
              "#7201a8"
             ],
             [
              0.3333333333333333,
              "#9c179e"
             ],
             [
              0.4444444444444444,
              "#bd3786"
             ],
             [
              0.5555555555555556,
              "#d8576b"
             ],
             [
              0.6666666666666666,
              "#ed7953"
             ],
             [
              0.7777777777777778,
              "#fb9f3a"
             ],
             [
              0.8888888888888888,
              "#fdca26"
             ],
             [
              1,
              "#f0f921"
             ]
            ],
            "type": "heatmap"
           }
          ],
          "heatmapgl": [
           {
            "colorbar": {
             "outlinewidth": 0,
             "ticks": ""
            },
            "colorscale": [
             [
              0,
              "#0d0887"
             ],
             [
              0.1111111111111111,
              "#46039f"
             ],
             [
              0.2222222222222222,
              "#7201a8"
             ],
             [
              0.3333333333333333,
              "#9c179e"
             ],
             [
              0.4444444444444444,
              "#bd3786"
             ],
             [
              0.5555555555555556,
              "#d8576b"
             ],
             [
              0.6666666666666666,
              "#ed7953"
             ],
             [
              0.7777777777777778,
              "#fb9f3a"
             ],
             [
              0.8888888888888888,
              "#fdca26"
             ],
             [
              1,
              "#f0f921"
             ]
            ],
            "type": "heatmapgl"
           }
          ],
          "histogram": [
           {
            "marker": {
             "pattern": {
              "fillmode": "overlay",
              "size": 10,
              "solidity": 0.2
             }
            },
            "type": "histogram"
           }
          ],
          "histogram2d": [
           {
            "colorbar": {
             "outlinewidth": 0,
             "ticks": ""
            },
            "colorscale": [
             [
              0,
              "#0d0887"
             ],
             [
              0.1111111111111111,
              "#46039f"
             ],
             [
              0.2222222222222222,
              "#7201a8"
             ],
             [
              0.3333333333333333,
              "#9c179e"
             ],
             [
              0.4444444444444444,
              "#bd3786"
             ],
             [
              0.5555555555555556,
              "#d8576b"
             ],
             [
              0.6666666666666666,
              "#ed7953"
             ],
             [
              0.7777777777777778,
              "#fb9f3a"
             ],
             [
              0.8888888888888888,
              "#fdca26"
             ],
             [
              1,
              "#f0f921"
             ]
            ],
            "type": "histogram2d"
           }
          ],
          "histogram2dcontour": [
           {
            "colorbar": {
             "outlinewidth": 0,
             "ticks": ""
            },
            "colorscale": [
             [
              0,
              "#0d0887"
             ],
             [
              0.1111111111111111,
              "#46039f"
             ],
             [
              0.2222222222222222,
              "#7201a8"
             ],
             [
              0.3333333333333333,
              "#9c179e"
             ],
             [
              0.4444444444444444,
              "#bd3786"
             ],
             [
              0.5555555555555556,
              "#d8576b"
             ],
             [
              0.6666666666666666,
              "#ed7953"
             ],
             [
              0.7777777777777778,
              "#fb9f3a"
             ],
             [
              0.8888888888888888,
              "#fdca26"
             ],
             [
              1,
              "#f0f921"
             ]
            ],
            "type": "histogram2dcontour"
           }
          ],
          "mesh3d": [
           {
            "colorbar": {
             "outlinewidth": 0,
             "ticks": ""
            },
            "type": "mesh3d"
           }
          ],
          "parcoords": [
           {
            "line": {
             "colorbar": {
              "outlinewidth": 0,
              "ticks": ""
             }
            },
            "type": "parcoords"
           }
          ],
          "pie": [
           {
            "automargin": true,
            "type": "pie"
           }
          ],
          "scatter": [
           {
            "fillpattern": {
             "fillmode": "overlay",
             "size": 10,
             "solidity": 0.2
            },
            "type": "scatter"
           }
          ],
          "scatter3d": [
           {
            "line": {
             "colorbar": {
              "outlinewidth": 0,
              "ticks": ""
             }
            },
            "marker": {
             "colorbar": {
              "outlinewidth": 0,
              "ticks": ""
             }
            },
            "type": "scatter3d"
           }
          ],
          "scattercarpet": [
           {
            "marker": {
             "colorbar": {
              "outlinewidth": 0,
              "ticks": ""
             }
            },
            "type": "scattercarpet"
           }
          ],
          "scattergeo": [
           {
            "marker": {
             "colorbar": {
              "outlinewidth": 0,
              "ticks": ""
             }
            },
            "type": "scattergeo"
           }
          ],
          "scattergl": [
           {
            "marker": {
             "colorbar": {
              "outlinewidth": 0,
              "ticks": ""
             }
            },
            "type": "scattergl"
           }
          ],
          "scattermapbox": [
           {
            "marker": {
             "colorbar": {
              "outlinewidth": 0,
              "ticks": ""
             }
            },
            "type": "scattermapbox"
           }
          ],
          "scatterpolar": [
           {
            "marker": {
             "colorbar": {
              "outlinewidth": 0,
              "ticks": ""
             }
            },
            "type": "scatterpolar"
           }
          ],
          "scatterpolargl": [
           {
            "marker": {
             "colorbar": {
              "outlinewidth": 0,
              "ticks": ""
             }
            },
            "type": "scatterpolargl"
           }
          ],
          "scatterternary": [
           {
            "marker": {
             "colorbar": {
              "outlinewidth": 0,
              "ticks": ""
             }
            },
            "type": "scatterternary"
           }
          ],
          "surface": [
           {
            "colorbar": {
             "outlinewidth": 0,
             "ticks": ""
            },
            "colorscale": [
             [
              0,
              "#0d0887"
             ],
             [
              0.1111111111111111,
              "#46039f"
             ],
             [
              0.2222222222222222,
              "#7201a8"
             ],
             [
              0.3333333333333333,
              "#9c179e"
             ],
             [
              0.4444444444444444,
              "#bd3786"
             ],
             [
              0.5555555555555556,
              "#d8576b"
             ],
             [
              0.6666666666666666,
              "#ed7953"
             ],
             [
              0.7777777777777778,
              "#fb9f3a"
             ],
             [
              0.8888888888888888,
              "#fdca26"
             ],
             [
              1,
              "#f0f921"
             ]
            ],
            "type": "surface"
           }
          ],
          "table": [
           {
            "cells": {
             "fill": {
              "color": "#EBF0F8"
             },
             "line": {
              "color": "white"
             }
            },
            "header": {
             "fill": {
              "color": "#C8D4E3"
             },
             "line": {
              "color": "white"
             }
            },
            "type": "table"
           }
          ]
         },
         "layout": {
          "annotationdefaults": {
           "arrowcolor": "#2a3f5f",
           "arrowhead": 0,
           "arrowwidth": 1
          },
          "autotypenumbers": "strict",
          "coloraxis": {
           "colorbar": {
            "outlinewidth": 0,
            "ticks": ""
           }
          },
          "colorscale": {
           "diverging": [
            [
             0,
             "#8e0152"
            ],
            [
             0.1,
             "#c51b7d"
            ],
            [
             0.2,
             "#de77ae"
            ],
            [
             0.3,
             "#f1b6da"
            ],
            [
             0.4,
             "#fde0ef"
            ],
            [
             0.5,
             "#f7f7f7"
            ],
            [
             0.6,
             "#e6f5d0"
            ],
            [
             0.7,
             "#b8e186"
            ],
            [
             0.8,
             "#7fbc41"
            ],
            [
             0.9,
             "#4d9221"
            ],
            [
             1,
             "#276419"
            ]
           ],
           "sequential": [
            [
             0,
             "#0d0887"
            ],
            [
             0.1111111111111111,
             "#46039f"
            ],
            [
             0.2222222222222222,
             "#7201a8"
            ],
            [
             0.3333333333333333,
             "#9c179e"
            ],
            [
             0.4444444444444444,
             "#bd3786"
            ],
            [
             0.5555555555555556,
             "#d8576b"
            ],
            [
             0.6666666666666666,
             "#ed7953"
            ],
            [
             0.7777777777777778,
             "#fb9f3a"
            ],
            [
             0.8888888888888888,
             "#fdca26"
            ],
            [
             1,
             "#f0f921"
            ]
           ],
           "sequentialminus": [
            [
             0,
             "#0d0887"
            ],
            [
             0.1111111111111111,
             "#46039f"
            ],
            [
             0.2222222222222222,
             "#7201a8"
            ],
            [
             0.3333333333333333,
             "#9c179e"
            ],
            [
             0.4444444444444444,
             "#bd3786"
            ],
            [
             0.5555555555555556,
             "#d8576b"
            ],
            [
             0.6666666666666666,
             "#ed7953"
            ],
            [
             0.7777777777777778,
             "#fb9f3a"
            ],
            [
             0.8888888888888888,
             "#fdca26"
            ],
            [
             1,
             "#f0f921"
            ]
           ]
          },
          "colorway": [
           "#636efa",
           "#EF553B",
           "#00cc96",
           "#ab63fa",
           "#FFA15A",
           "#19d3f3",
           "#FF6692",
           "#B6E880",
           "#FF97FF",
           "#FECB52"
          ],
          "font": {
           "color": "#2a3f5f"
          },
          "geo": {
           "bgcolor": "white",
           "lakecolor": "white",
           "landcolor": "white",
           "showlakes": true,
           "showland": true,
           "subunitcolor": "#C8D4E3"
          },
          "hoverlabel": {
           "align": "left"
          },
          "hovermode": "closest",
          "mapbox": {
           "style": "light"
          },
          "paper_bgcolor": "white",
          "plot_bgcolor": "white",
          "polar": {
           "angularaxis": {
            "gridcolor": "#EBF0F8",
            "linecolor": "#EBF0F8",
            "ticks": ""
           },
           "bgcolor": "white",
           "radialaxis": {
            "gridcolor": "#EBF0F8",
            "linecolor": "#EBF0F8",
            "ticks": ""
           }
          },
          "scene": {
           "xaxis": {
            "backgroundcolor": "white",
            "gridcolor": "#DFE8F3",
            "gridwidth": 2,
            "linecolor": "#EBF0F8",
            "showbackground": true,
            "ticks": "",
            "zerolinecolor": "#EBF0F8"
           },
           "yaxis": {
            "backgroundcolor": "white",
            "gridcolor": "#DFE8F3",
            "gridwidth": 2,
            "linecolor": "#EBF0F8",
            "showbackground": true,
            "ticks": "",
            "zerolinecolor": "#EBF0F8"
           },
           "zaxis": {
            "backgroundcolor": "white",
            "gridcolor": "#DFE8F3",
            "gridwidth": 2,
            "linecolor": "#EBF0F8",
            "showbackground": true,
            "ticks": "",
            "zerolinecolor": "#EBF0F8"
           }
          },
          "shapedefaults": {
           "line": {
            "color": "#2a3f5f"
           }
          },
          "ternary": {
           "aaxis": {
            "gridcolor": "#DFE8F3",
            "linecolor": "#A2B1C6",
            "ticks": ""
           },
           "baxis": {
            "gridcolor": "#DFE8F3",
            "linecolor": "#A2B1C6",
            "ticks": ""
           },
           "bgcolor": "white",
           "caxis": {
            "gridcolor": "#DFE8F3",
            "linecolor": "#A2B1C6",
            "ticks": ""
           }
          },
          "title": {
           "x": 0.05
          },
          "xaxis": {
           "automargin": true,
           "gridcolor": "#EBF0F8",
           "linecolor": "#EBF0F8",
           "ticks": "",
           "title": {
            "standoff": 15
           },
           "zerolinecolor": "#EBF0F8",
           "zerolinewidth": 2
          },
          "yaxis": {
           "automargin": true,
           "gridcolor": "#EBF0F8",
           "linecolor": "#EBF0F8",
           "ticks": "",
           "title": {
            "standoff": 15
           },
           "zerolinecolor": "#EBF0F8",
           "zerolinewidth": 2
          }
         }
        },
        "title": {
         "text": "Зависимость времени до второй валидации от типа билета"
        },
        "width": 950,
        "xaxis": {
         "anchor": "y",
         "domain": [
          0,
          1
         ],
         "tickangle": 60,
         "title": {
          "text": "ticket_type_nm"
         }
        },
        "yaxis": {
         "anchor": "x",
         "domain": [
          0,
          1
         ],
         "title": {
          "text": "time_to_under"
         }
        }
       }
      },
      "text/html": [
       "<div>                            <div id=\"99aa5255-def9-4f45-93c8-338cedada04d\" class=\"plotly-graph-div\" style=\"height:400px; width:950px;\"></div>            <script type=\"text/javascript\">                require([\"plotly\"], function(Plotly) {                    window.PLOTLYENV=window.PLOTLYENV || {};                                    if (document.getElementById(\"99aa5255-def9-4f45-93c8-338cedada04d\")) {                    Plotly.newPlot(                        \"99aa5255-def9-4f45-93c8-338cedada04d\",                        [{\"alignmentgroup\":\"True\",\"hovertemplate\":\"%{y} \\u043c\\u0438\\u043d\\u0443\\u0442\",\"legendgroup\":\"\",\"marker\":{\"color\":\"blue\",\"pattern\":{\"shape\":\"\"}},\"name\":\"\",\"offsetgroup\":\"\",\"orientation\":\"v\",\"showlegend\":false,\"textposition\":\"auto\",\"texttemplate\":\"%{y:.2s}\",\"x\":[\"30\",\"365\",\"60\",\"90\",\"\\u0411\\u0411\\u041a\",\"\\u0411\\u0421\\u041a\",\"\\u0411\\u0438\\u043b\\u0435\\u0442\",\"\\u0412\\u0415\\u0421\\u0411\",\"\\u0412\\u0440\\u0435\\u043c\\u0435\\u043d\\u043d\\u044b\\u0439\",\"\\u041a\\u041e\\u0428\\u0415\\u041b\\u0415\\u041a\",\"\\u041f\\u0440\\u043e\\u043f\\u0443\\u0441\\u043a\",\"\\u0421\\u041a\",\"\\u0421\\u043e\\u0446\\u0438\\u0430\\u043b\\u044c\\u043d\\u0430\\u044f\"],\"xaxis\":\"x\",\"y\":[739.9040474741327,694.8112903225806,698.5932055749129,749.9214830970557,686.9415770609319,687.8742424242424,138.86666666666667,639.3575757575758,300.01666666666665,705.7873088685016,360.7348148148148,620.0098429951692,617.0984098082059],\"yaxis\":\"y\",\"type\":\"bar\",\"textangle\":0}],                        {\"template\":{\"data\":{\"barpolar\":[{\"marker\":{\"line\":{\"color\":\"white\",\"width\":0.5},\"pattern\":{\"fillmode\":\"overlay\",\"size\":10,\"solidity\":0.2}},\"type\":\"barpolar\"}],\"bar\":[{\"error_x\":{\"color\":\"#2a3f5f\"},\"error_y\":{\"color\":\"#2a3f5f\"},\"marker\":{\"line\":{\"color\":\"white\",\"width\":0.5},\"pattern\":{\"fillmode\":\"overlay\",\"size\":10,\"solidity\":0.2}},\"type\":\"bar\"}],\"carpet\":[{\"aaxis\":{\"endlinecolor\":\"#2a3f5f\",\"gridcolor\":\"#C8D4E3\",\"linecolor\":\"#C8D4E3\",\"minorgridcolor\":\"#C8D4E3\",\"startlinecolor\":\"#2a3f5f\"},\"baxis\":{\"endlinecolor\":\"#2a3f5f\",\"gridcolor\":\"#C8D4E3\",\"linecolor\":\"#C8D4E3\",\"minorgridcolor\":\"#C8D4E3\",\"startlinecolor\":\"#2a3f5f\"},\"type\":\"carpet\"}],\"choropleth\":[{\"colorbar\":{\"outlinewidth\":0,\"ticks\":\"\"},\"type\":\"choropleth\"}],\"contourcarpet\":[{\"colorbar\":{\"outlinewidth\":0,\"ticks\":\"\"},\"type\":\"contourcarpet\"}],\"contour\":[{\"colorbar\":{\"outlinewidth\":0,\"ticks\":\"\"},\"colorscale\":[[0.0,\"#0d0887\"],[0.1111111111111111,\"#46039f\"],[0.2222222222222222,\"#7201a8\"],[0.3333333333333333,\"#9c179e\"],[0.4444444444444444,\"#bd3786\"],[0.5555555555555556,\"#d8576b\"],[0.6666666666666666,\"#ed7953\"],[0.7777777777777778,\"#fb9f3a\"],[0.8888888888888888,\"#fdca26\"],[1.0,\"#f0f921\"]],\"type\":\"contour\"}],\"heatmapgl\":[{\"colorbar\":{\"outlinewidth\":0,\"ticks\":\"\"},\"colorscale\":[[0.0,\"#0d0887\"],[0.1111111111111111,\"#46039f\"],[0.2222222222222222,\"#7201a8\"],[0.3333333333333333,\"#9c179e\"],[0.4444444444444444,\"#bd3786\"],[0.5555555555555556,\"#d8576b\"],[0.6666666666666666,\"#ed7953\"],[0.7777777777777778,\"#fb9f3a\"],[0.8888888888888888,\"#fdca26\"],[1.0,\"#f0f921\"]],\"type\":\"heatmapgl\"}],\"heatmap\":[{\"colorbar\":{\"outlinewidth\":0,\"ticks\":\"\"},\"colorscale\":[[0.0,\"#0d0887\"],[0.1111111111111111,\"#46039f\"],[0.2222222222222222,\"#7201a8\"],[0.3333333333333333,\"#9c179e\"],[0.4444444444444444,\"#bd3786\"],[0.5555555555555556,\"#d8576b\"],[0.6666666666666666,\"#ed7953\"],[0.7777777777777778,\"#fb9f3a\"],[0.8888888888888888,\"#fdca26\"],[1.0,\"#f0f921\"]],\"type\":\"heatmap\"}],\"histogram2dcontour\":[{\"colorbar\":{\"outlinewidth\":0,\"ticks\":\"\"},\"colorscale\":[[0.0,\"#0d0887\"],[0.1111111111111111,\"#46039f\"],[0.2222222222222222,\"#7201a8\"],[0.3333333333333333,\"#9c179e\"],[0.4444444444444444,\"#bd3786\"],[0.5555555555555556,\"#d8576b\"],[0.6666666666666666,\"#ed7953\"],[0.7777777777777778,\"#fb9f3a\"],[0.8888888888888888,\"#fdca26\"],[1.0,\"#f0f921\"]],\"type\":\"histogram2dcontour\"}],\"histogram2d\":[{\"colorbar\":{\"outlinewidth\":0,\"ticks\":\"\"},\"colorscale\":[[0.0,\"#0d0887\"],[0.1111111111111111,\"#46039f\"],[0.2222222222222222,\"#7201a8\"],[0.3333333333333333,\"#9c179e\"],[0.4444444444444444,\"#bd3786\"],[0.5555555555555556,\"#d8576b\"],[0.6666666666666666,\"#ed7953\"],[0.7777777777777778,\"#fb9f3a\"],[0.8888888888888888,\"#fdca26\"],[1.0,\"#f0f921\"]],\"type\":\"histogram2d\"}],\"histogram\":[{\"marker\":{\"pattern\":{\"fillmode\":\"overlay\",\"size\":10,\"solidity\":0.2}},\"type\":\"histogram\"}],\"mesh3d\":[{\"colorbar\":{\"outlinewidth\":0,\"ticks\":\"\"},\"type\":\"mesh3d\"}],\"parcoords\":[{\"line\":{\"colorbar\":{\"outlinewidth\":0,\"ticks\":\"\"}},\"type\":\"parcoords\"}],\"pie\":[{\"automargin\":true,\"type\":\"pie\"}],\"scatter3d\":[{\"line\":{\"colorbar\":{\"outlinewidth\":0,\"ticks\":\"\"}},\"marker\":{\"colorbar\":{\"outlinewidth\":0,\"ticks\":\"\"}},\"type\":\"scatter3d\"}],\"scattercarpet\":[{\"marker\":{\"colorbar\":{\"outlinewidth\":0,\"ticks\":\"\"}},\"type\":\"scattercarpet\"}],\"scattergeo\":[{\"marker\":{\"colorbar\":{\"outlinewidth\":0,\"ticks\":\"\"}},\"type\":\"scattergeo\"}],\"scattergl\":[{\"marker\":{\"colorbar\":{\"outlinewidth\":0,\"ticks\":\"\"}},\"type\":\"scattergl\"}],\"scattermapbox\":[{\"marker\":{\"colorbar\":{\"outlinewidth\":0,\"ticks\":\"\"}},\"type\":\"scattermapbox\"}],\"scatterpolargl\":[{\"marker\":{\"colorbar\":{\"outlinewidth\":0,\"ticks\":\"\"}},\"type\":\"scatterpolargl\"}],\"scatterpolar\":[{\"marker\":{\"colorbar\":{\"outlinewidth\":0,\"ticks\":\"\"}},\"type\":\"scatterpolar\"}],\"scatter\":[{\"fillpattern\":{\"fillmode\":\"overlay\",\"size\":10,\"solidity\":0.2},\"type\":\"scatter\"}],\"scatterternary\":[{\"marker\":{\"colorbar\":{\"outlinewidth\":0,\"ticks\":\"\"}},\"type\":\"scatterternary\"}],\"surface\":[{\"colorbar\":{\"outlinewidth\":0,\"ticks\":\"\"},\"colorscale\":[[0.0,\"#0d0887\"],[0.1111111111111111,\"#46039f\"],[0.2222222222222222,\"#7201a8\"],[0.3333333333333333,\"#9c179e\"],[0.4444444444444444,\"#bd3786\"],[0.5555555555555556,\"#d8576b\"],[0.6666666666666666,\"#ed7953\"],[0.7777777777777778,\"#fb9f3a\"],[0.8888888888888888,\"#fdca26\"],[1.0,\"#f0f921\"]],\"type\":\"surface\"}],\"table\":[{\"cells\":{\"fill\":{\"color\":\"#EBF0F8\"},\"line\":{\"color\":\"white\"}},\"header\":{\"fill\":{\"color\":\"#C8D4E3\"},\"line\":{\"color\":\"white\"}},\"type\":\"table\"}]},\"layout\":{\"annotationdefaults\":{\"arrowcolor\":\"#2a3f5f\",\"arrowhead\":0,\"arrowwidth\":1},\"autotypenumbers\":\"strict\",\"coloraxis\":{\"colorbar\":{\"outlinewidth\":0,\"ticks\":\"\"}},\"colorscale\":{\"diverging\":[[0,\"#8e0152\"],[0.1,\"#c51b7d\"],[0.2,\"#de77ae\"],[0.3,\"#f1b6da\"],[0.4,\"#fde0ef\"],[0.5,\"#f7f7f7\"],[0.6,\"#e6f5d0\"],[0.7,\"#b8e186\"],[0.8,\"#7fbc41\"],[0.9,\"#4d9221\"],[1,\"#276419\"]],\"sequential\":[[0.0,\"#0d0887\"],[0.1111111111111111,\"#46039f\"],[0.2222222222222222,\"#7201a8\"],[0.3333333333333333,\"#9c179e\"],[0.4444444444444444,\"#bd3786\"],[0.5555555555555556,\"#d8576b\"],[0.6666666666666666,\"#ed7953\"],[0.7777777777777778,\"#fb9f3a\"],[0.8888888888888888,\"#fdca26\"],[1.0,\"#f0f921\"]],\"sequentialminus\":[[0.0,\"#0d0887\"],[0.1111111111111111,\"#46039f\"],[0.2222222222222222,\"#7201a8\"],[0.3333333333333333,\"#9c179e\"],[0.4444444444444444,\"#bd3786\"],[0.5555555555555556,\"#d8576b\"],[0.6666666666666666,\"#ed7953\"],[0.7777777777777778,\"#fb9f3a\"],[0.8888888888888888,\"#fdca26\"],[1.0,\"#f0f921\"]]},\"colorway\":[\"#636efa\",\"#EF553B\",\"#00cc96\",\"#ab63fa\",\"#FFA15A\",\"#19d3f3\",\"#FF6692\",\"#B6E880\",\"#FF97FF\",\"#FECB52\"],\"font\":{\"color\":\"#2a3f5f\"},\"geo\":{\"bgcolor\":\"white\",\"lakecolor\":\"white\",\"landcolor\":\"white\",\"showlakes\":true,\"showland\":true,\"subunitcolor\":\"#C8D4E3\"},\"hoverlabel\":{\"align\":\"left\"},\"hovermode\":\"closest\",\"mapbox\":{\"style\":\"light\"},\"paper_bgcolor\":\"white\",\"plot_bgcolor\":\"white\",\"polar\":{\"angularaxis\":{\"gridcolor\":\"#EBF0F8\",\"linecolor\":\"#EBF0F8\",\"ticks\":\"\"},\"bgcolor\":\"white\",\"radialaxis\":{\"gridcolor\":\"#EBF0F8\",\"linecolor\":\"#EBF0F8\",\"ticks\":\"\"}},\"scene\":{\"xaxis\":{\"backgroundcolor\":\"white\",\"gridcolor\":\"#DFE8F3\",\"gridwidth\":2,\"linecolor\":\"#EBF0F8\",\"showbackground\":true,\"ticks\":\"\",\"zerolinecolor\":\"#EBF0F8\"},\"yaxis\":{\"backgroundcolor\":\"white\",\"gridcolor\":\"#DFE8F3\",\"gridwidth\":2,\"linecolor\":\"#EBF0F8\",\"showbackground\":true,\"ticks\":\"\",\"zerolinecolor\":\"#EBF0F8\"},\"zaxis\":{\"backgroundcolor\":\"white\",\"gridcolor\":\"#DFE8F3\",\"gridwidth\":2,\"linecolor\":\"#EBF0F8\",\"showbackground\":true,\"ticks\":\"\",\"zerolinecolor\":\"#EBF0F8\"}},\"shapedefaults\":{\"line\":{\"color\":\"#2a3f5f\"}},\"ternary\":{\"aaxis\":{\"gridcolor\":\"#DFE8F3\",\"linecolor\":\"#A2B1C6\",\"ticks\":\"\"},\"baxis\":{\"gridcolor\":\"#DFE8F3\",\"linecolor\":\"#A2B1C6\",\"ticks\":\"\"},\"bgcolor\":\"white\",\"caxis\":{\"gridcolor\":\"#DFE8F3\",\"linecolor\":\"#A2B1C6\",\"ticks\":\"\"}},\"title\":{\"x\":0.05},\"xaxis\":{\"automargin\":true,\"gridcolor\":\"#EBF0F8\",\"linecolor\":\"#EBF0F8\",\"ticks\":\"\",\"title\":{\"standoff\":15},\"zerolinecolor\":\"#EBF0F8\",\"zerolinewidth\":2},\"yaxis\":{\"automargin\":true,\"gridcolor\":\"#EBF0F8\",\"linecolor\":\"#EBF0F8\",\"ticks\":\"\",\"title\":{\"standoff\":15},\"zerolinecolor\":\"#EBF0F8\",\"zerolinewidth\":2}}},\"xaxis\":{\"anchor\":\"y\",\"domain\":[0.0,1.0],\"title\":{\"text\":\"ticket_type_nm\"},\"tickangle\":60},\"yaxis\":{\"anchor\":\"x\",\"domain\":[0.0,1.0],\"title\":{\"text\":\"time_to_under\"}},\"legend\":{\"tracegroupgap\":0},\"title\":{\"text\":\"\\u0417\\u0430\\u0432\\u0438\\u0441\\u0438\\u043c\\u043e\\u0441\\u0442\\u044c \\u0432\\u0440\\u0435\\u043c\\u0435\\u043d\\u0438 \\u0434\\u043e \\u0432\\u0442\\u043e\\u0440\\u043e\\u0439 \\u0432\\u0430\\u043b\\u0438\\u0434\\u0430\\u0446\\u0438\\u0438 \\u043e\\u0442 \\u0442\\u0438\\u043f\\u0430 \\u0431\\u0438\\u043b\\u0435\\u0442\\u0430\"},\"barmode\":\"relative\",\"height\":400,\"width\":950},                        {\"responsive\": true}                    ).then(function(){\n",
       "                            \n",
       "var gd = document.getElementById('99aa5255-def9-4f45-93c8-338cedada04d');\n",
       "var x = new MutationObserver(function (mutations, observer) {{\n",
       "        var display = window.getComputedStyle(gd).display;\n",
       "        if (!display || display === 'none') {{\n",
       "            console.log([gd, 'removed!']);\n",
       "            Plotly.purge(gd);\n",
       "            observer.disconnect();\n",
       "        }}\n",
       "}});\n",
       "\n",
       "// Listen for the removal of the full notebook cells\n",
       "var notebookContainer = gd.closest('#notebook-container');\n",
       "if (notebookContainer) {{\n",
       "    x.observe(notebookContainer, {childList: true});\n",
       "}}\n",
       "\n",
       "// Listen for the clearing of the current output cell\n",
       "var outputEl = gd.closest('.output');\n",
       "if (outputEl) {{\n",
       "    x.observe(outputEl, {childList: true});\n",
       "}}\n",
       "\n",
       "                        })                };                });            </script>        </div>"
      ]
     },
     "metadata": {},
     "output_type": "display_data"
    }
   ],
   "source": [
    "gr1 = pd.DataFrame(stats1,columns=['ticket_type_nm','time_to_under'])\n",
    "fig = px.bar(gr1,y='time_to_under',x='ticket_type_nm', text_auto='.2s',\n",
    "            title='Зависимость времени до второй валидации от типа билета')\n",
    "fig.update_traces(textangle=0,\n",
    "    hovertemplate = '%{y} минут',\n",
    "    marker_color='blue',\n",
    "\n",
    "    )\n",
    "fig.update_xaxes(\n",
    "        tickangle = 60)\n",
    "fig.update_yaxes(\n",
    ")\n",
    "fig.update_layout(template=\"plotly_white\",height=400, width=950)\n",
    "fig.show()"
   ]
  },
  {
   "cell_type": "markdown",
   "id": "345bba09",
   "metadata": {},
   "source": [
    "Из графика можно заметить, что люди, обладабщие проездными на фиксированное количество дней, пользуются метро реже, чем те, у кого проедной не ограничен по времени."
   ]
  },
  {
   "cell_type": "markdown",
   "id": "98d92c3e",
   "metadata": {},
   "source": [
    "## Подготовка данных для задачи классификации"
   ]
  },
  {
   "cell_type": "markdown",
   "id": "8f9893ba",
   "metadata": {},
   "source": [
    "Исключим:\n",
    "- столбцы с не численными, не категориальными переменными - `id`,`ticket_id`,\n",
    "- дублирующиеся, с точки зрения обучения, столбцы - `station_nm`,`line_id`,`entrance_nm`,\n",
    "И для задачи классификации - столбцы со временем `pass_dttm`,`time_to_under`."
   ]
  },
  {
   "cell_type": "code",
   "execution_count": 45,
   "id": "acfb5725",
   "metadata": {},
   "outputs": [],
   "source": [
    "df.drop(columns=['id','ticket_id','station_nm','line_id','pass_dttm','time_to_under','entrance_nm'],inplace=True)"
   ]
  },
  {
   "cell_type": "code",
   "execution_count": 5,
   "id": "492c13af",
   "metadata": {},
   "outputs": [],
   "source": [
    "cols = ['ticket_type_nm', 'entrance_id', 'station_id','line_nm']\n",
    "for item in cols:\n",
    "    df[item] = df[item].astype(\"category\").cat.codes +1"
   ]
  },
  {
   "cell_type": "code",
   "execution_count": 6,
   "id": "ac1e9951",
   "metadata": {},
   "outputs": [
    {
     "data": {
      "text/html": [
       "<div>\n",
       "<style scoped>\n",
       "    .dataframe tbody tr th:only-of-type {\n",
       "        vertical-align: middle;\n",
       "    }\n",
       "\n",
       "    .dataframe tbody tr th {\n",
       "        vertical-align: top;\n",
       "    }\n",
       "\n",
       "    .dataframe thead th {\n",
       "        text-align: right;\n",
       "    }\n",
       "</style>\n",
       "<table border=\"1\" class=\"dataframe\">\n",
       "  <thead>\n",
       "    <tr style=\"text-align: right;\">\n",
       "      <th></th>\n",
       "      <th>ticket_type_nm</th>\n",
       "      <th>entrance_id</th>\n",
       "      <th>station_id</th>\n",
       "      <th>line_nm</th>\n",
       "      <th>label</th>\n",
       "    </tr>\n",
       "  </thead>\n",
       "  <tbody>\n",
       "    <tr>\n",
       "      <th>0</th>\n",
       "      <td>28</td>\n",
       "      <td>385</td>\n",
       "      <td>198</td>\n",
       "      <td>2</td>\n",
       "      <td>8001</td>\n",
       "    </tr>\n",
       "    <tr>\n",
       "      <th>1</th>\n",
       "      <td>38</td>\n",
       "      <td>53</td>\n",
       "      <td>30</td>\n",
       "      <td>4</td>\n",
       "      <td>9011</td>\n",
       "    </tr>\n",
       "    <tr>\n",
       "      <th>2</th>\n",
       "      <td>21</td>\n",
       "      <td>53</td>\n",
       "      <td>30</td>\n",
       "      <td>4</td>\n",
       "      <td>7022</td>\n",
       "    </tr>\n",
       "    <tr>\n",
       "      <th>3</th>\n",
       "      <td>2</td>\n",
       "      <td>53</td>\n",
       "      <td>30</td>\n",
       "      <td>4</td>\n",
       "      <td>2022</td>\n",
       "    </tr>\n",
       "    <tr>\n",
       "      <th>4</th>\n",
       "      <td>27</td>\n",
       "      <td>53</td>\n",
       "      <td>30</td>\n",
       "      <td>4</td>\n",
       "      <td>2017</td>\n",
       "    </tr>\n",
       "  </tbody>\n",
       "</table>\n",
       "</div>"
      ],
      "text/plain": [
       "   ticket_type_nm  entrance_id  station_id  line_nm  label\n",
       "0              28          385         198        2   8001\n",
       "1              38           53          30        4   9011\n",
       "2              21           53          30        4   7022\n",
       "3               2           53          30        4   2022\n",
       "4              27           53          30        4   2017"
      ]
     },
     "execution_count": 6,
     "metadata": {},
     "output_type": "execute_result"
    }
   ],
   "source": [
    "df.head()"
   ]
  },
  {
   "cell_type": "markdown",
   "id": "a19ffd59",
   "metadata": {},
   "source": [
    "## Классификация Catboost'ом"
   ]
  },
  {
   "cell_type": "code",
   "execution_count": 7,
   "id": "03123ad7",
   "metadata": {},
   "outputs": [],
   "source": [
    "train, test, y_train, y_test = train_test_split(df.drop([\"label\"], axis=1), df[\"label\"],\n",
    "                                                random_state=10, test_size=0.2)"
   ]
  },
  {
   "cell_type": "code",
   "execution_count": 8,
   "id": "bdf13e21",
   "metadata": {},
   "outputs": [],
   "source": [
    "#cat_features_index = [0,1,2,3,4,5,6]"
   ]
  },
  {
   "cell_type": "code",
   "execution_count": 9,
   "id": "33207942",
   "metadata": {},
   "outputs": [
    {
     "name": "stderr",
     "output_type": "stream",
     "text": [
      "C:\\Users\\blach\\AppData\\Local\\Programs\\Python\\Python310\\lib\\site-packages\\sklearn\\model_selection\\_split.py:700: UserWarning: The least populated class in y has only 1 members, which is less than n_splits=3.\n",
      "  warnings.warn(\n"
     ]
    },
    {
     "name": "stdout",
     "output_type": "stream",
     "text": [
      "0:\tlearn: 5.5713420\ttotal: 359ms\tremaining: 3.23s\n",
      "1:\tlearn: 5.5440303\ttotal: 594ms\tremaining: 2.38s\n",
      "2:\tlearn: 5.5182055\ttotal: 776ms\tremaining: 1.81s\n",
      "3:\tlearn: 5.4944294\ttotal: 985ms\tremaining: 1.48s\n",
      "4:\tlearn: 5.4721407\ttotal: 1.18s\tremaining: 1.18s\n",
      "5:\tlearn: 5.4522270\ttotal: 1.37s\tremaining: 913ms\n",
      "6:\tlearn: 5.4300917\ttotal: 1.57s\tremaining: 672ms\n",
      "7:\tlearn: 5.4089648\ttotal: 1.76s\tremaining: 440ms\n",
      "8:\tlearn: 5.3892194\ttotal: 1.96s\tremaining: 217ms\n",
      "9:\tlearn: 5.3700426\ttotal: 2.16s\tremaining: 0us\n"
     ]
    },
    {
     "name": "stderr",
     "output_type": "stream",
     "text": [
      "C:\\Users\\blach\\AppData\\Local\\Programs\\Python\\Python310\\lib\\site-packages\\sklearn\\model_selection\\_validation.py:776: UserWarning: Scoring failed. The score on this train-test partition for these parameters will be set to nan. Details: \n",
      "Traceback (most recent call last):\n",
      "  File \"C:\\Users\\blach\\AppData\\Local\\Programs\\Python\\Python310\\lib\\site-packages\\sklearn\\model_selection\\_validation.py\", line 767, in _score\n",
      "    scores = scorer(estimator, X_test, y_test)\n",
      "  File \"C:\\Users\\blach\\AppData\\Local\\Programs\\Python\\Python310\\lib\\site-packages\\sklearn\\metrics\\_scorer.py\", line 220, in __call__\n",
      "    return self._score(\n",
      "  File \"C:\\Users\\blach\\AppData\\Local\\Programs\\Python\\Python310\\lib\\site-packages\\sklearn\\metrics\\_scorer.py\", line 353, in _score\n",
      "    raise ValueError(\"{0} format is not supported\".format(y_type))\n",
      "ValueError: multiclass format is not supported\n",
      "\n",
      "  warnings.warn(\n"
     ]
    },
    {
     "name": "stdout",
     "output_type": "stream",
     "text": [
      "0:\tlearn: 5.5670966\ttotal: 206ms\tremaining: 1.85s\n",
      "1:\tlearn: 5.5399091\ttotal: 434ms\tremaining: 1.74s\n",
      "2:\tlearn: 5.5139078\ttotal: 620ms\tremaining: 1.45s\n",
      "3:\tlearn: 5.4906840\ttotal: 813ms\tremaining: 1.22s\n",
      "4:\tlearn: 5.4665904\ttotal: 1.01s\tremaining: 1.01s\n",
      "5:\tlearn: 5.4455299\ttotal: 1.2s\tremaining: 799ms\n",
      "6:\tlearn: 5.4259217\ttotal: 1.39s\tremaining: 597ms\n",
      "7:\tlearn: 5.4044883\ttotal: 1.58s\tremaining: 394ms\n",
      "8:\tlearn: 5.3853018\ttotal: 1.77s\tremaining: 197ms\n",
      "9:\tlearn: 5.3669764\ttotal: 1.97s\tremaining: 0us\n"
     ]
    },
    {
     "name": "stderr",
     "output_type": "stream",
     "text": [
      "C:\\Users\\blach\\AppData\\Local\\Programs\\Python\\Python310\\lib\\site-packages\\sklearn\\model_selection\\_validation.py:776: UserWarning: Scoring failed. The score on this train-test partition for these parameters will be set to nan. Details: \n",
      "Traceback (most recent call last):\n",
      "  File \"C:\\Users\\blach\\AppData\\Local\\Programs\\Python\\Python310\\lib\\site-packages\\sklearn\\model_selection\\_validation.py\", line 767, in _score\n",
      "    scores = scorer(estimator, X_test, y_test)\n",
      "  File \"C:\\Users\\blach\\AppData\\Local\\Programs\\Python\\Python310\\lib\\site-packages\\sklearn\\metrics\\_scorer.py\", line 220, in __call__\n",
      "    return self._score(\n",
      "  File \"C:\\Users\\blach\\AppData\\Local\\Programs\\Python\\Python310\\lib\\site-packages\\sklearn\\metrics\\_scorer.py\", line 353, in _score\n",
      "    raise ValueError(\"{0} format is not supported\".format(y_type))\n",
      "ValueError: multiclass format is not supported\n",
      "\n",
      "  warnings.warn(\n"
     ]
    },
    {
     "name": "stdout",
     "output_type": "stream",
     "text": [
      "0:\tlearn: 5.5737334\ttotal: 213ms\tremaining: 1.92s\n",
      "1:\tlearn: 5.5460075\ttotal: 441ms\tremaining: 1.76s\n",
      "2:\tlearn: 5.5193292\ttotal: 623ms\tremaining: 1.45s\n",
      "3:\tlearn: 5.4957777\ttotal: 826ms\tremaining: 1.24s\n",
      "4:\tlearn: 5.4727274\ttotal: 1.03s\tremaining: 1.03s\n",
      "5:\tlearn: 5.4505157\ttotal: 1.23s\tremaining: 820ms\n",
      "6:\tlearn: 5.4276298\ttotal: 1.43s\tremaining: 612ms\n",
      "7:\tlearn: 5.4054386\ttotal: 1.62s\tremaining: 405ms\n",
      "8:\tlearn: 5.3857787\ttotal: 1.82s\tremaining: 202ms\n",
      "9:\tlearn: 5.3673168\ttotal: 2.01s\tremaining: 0us\n"
     ]
    },
    {
     "name": "stderr",
     "output_type": "stream",
     "text": [
      "C:\\Users\\blach\\AppData\\Local\\Programs\\Python\\Python310\\lib\\site-packages\\sklearn\\model_selection\\_validation.py:776: UserWarning: Scoring failed. The score on this train-test partition for these parameters will be set to nan. Details: \n",
      "Traceback (most recent call last):\n",
      "  File \"C:\\Users\\blach\\AppData\\Local\\Programs\\Python\\Python310\\lib\\site-packages\\sklearn\\model_selection\\_validation.py\", line 767, in _score\n",
      "    scores = scorer(estimator, X_test, y_test)\n",
      "  File \"C:\\Users\\blach\\AppData\\Local\\Programs\\Python\\Python310\\lib\\site-packages\\sklearn\\metrics\\_scorer.py\", line 220, in __call__\n",
      "    return self._score(\n",
      "  File \"C:\\Users\\blach\\AppData\\Local\\Programs\\Python\\Python310\\lib\\site-packages\\sklearn\\metrics\\_scorer.py\", line 353, in _score\n",
      "    raise ValueError(\"{0} format is not supported\".format(y_type))\n",
      "ValueError: multiclass format is not supported\n",
      "\n",
      "  warnings.warn(\n"
     ]
    },
    {
     "name": "stdout",
     "output_type": "stream",
     "text": [
      "0:\tlearn: 5.5693397\ttotal: 625ms\tremaining: 5.62s\n",
      "1:\tlearn: 5.5390992\ttotal: 1.29s\tremaining: 5.17s\n",
      "2:\tlearn: 5.5089251\ttotal: 2.01s\tremaining: 4.69s\n",
      "3:\tlearn: 5.4820387\ttotal: 2.64s\tremaining: 3.96s\n",
      "4:\tlearn: 5.4593092\ttotal: 3.31s\tremaining: 3.31s\n",
      "5:\tlearn: 5.4349747\ttotal: 3.93s\tremaining: 2.62s\n",
      "6:\tlearn: 5.4107485\ttotal: 4.61s\tremaining: 1.98s\n",
      "7:\tlearn: 5.3873460\ttotal: 5.29s\tremaining: 1.32s\n",
      "8:\tlearn: 5.3658875\ttotal: 5.95s\tremaining: 661ms\n",
      "9:\tlearn: 5.3434854\ttotal: 6.63s\tremaining: 0us\n"
     ]
    },
    {
     "name": "stderr",
     "output_type": "stream",
     "text": [
      "C:\\Users\\blach\\AppData\\Local\\Programs\\Python\\Python310\\lib\\site-packages\\sklearn\\model_selection\\_validation.py:776: UserWarning: Scoring failed. The score on this train-test partition for these parameters will be set to nan. Details: \n",
      "Traceback (most recent call last):\n",
      "  File \"C:\\Users\\blach\\AppData\\Local\\Programs\\Python\\Python310\\lib\\site-packages\\sklearn\\model_selection\\_validation.py\", line 767, in _score\n",
      "    scores = scorer(estimator, X_test, y_test)\n",
      "  File \"C:\\Users\\blach\\AppData\\Local\\Programs\\Python\\Python310\\lib\\site-packages\\sklearn\\metrics\\_scorer.py\", line 220, in __call__\n",
      "    return self._score(\n",
      "  File \"C:\\Users\\blach\\AppData\\Local\\Programs\\Python\\Python310\\lib\\site-packages\\sklearn\\metrics\\_scorer.py\", line 353, in _score\n",
      "    raise ValueError(\"{0} format is not supported\".format(y_type))\n",
      "ValueError: multiclass format is not supported\n",
      "\n",
      "  warnings.warn(\n"
     ]
    },
    {
     "name": "stdout",
     "output_type": "stream",
     "text": [
      "0:\tlearn: 5.5634607\ttotal: 660ms\tremaining: 5.94s\n",
      "1:\tlearn: 5.5331895\ttotal: 1.25s\tremaining: 4.99s\n",
      "2:\tlearn: 5.5043329\ttotal: 1.91s\tremaining: 4.46s\n",
      "3:\tlearn: 5.4790313\ttotal: 2.54s\tremaining: 3.81s\n",
      "4:\tlearn: 5.4585001\ttotal: 2.74s\tremaining: 2.74s\n",
      "5:\tlearn: 5.4327344\ttotal: 3.47s\tremaining: 2.31s\n",
      "6:\tlearn: 5.4077565\ttotal: 4.13s\tremaining: 1.77s\n",
      "7:\tlearn: 5.3844938\ttotal: 4.72s\tremaining: 1.18s\n",
      "8:\tlearn: 5.3629971\ttotal: 5.31s\tremaining: 591ms\n",
      "9:\tlearn: 5.3414455\ttotal: 6s\tremaining: 0us\n"
     ]
    },
    {
     "name": "stderr",
     "output_type": "stream",
     "text": [
      "C:\\Users\\blach\\AppData\\Local\\Programs\\Python\\Python310\\lib\\site-packages\\sklearn\\model_selection\\_validation.py:776: UserWarning: Scoring failed. The score on this train-test partition for these parameters will be set to nan. Details: \n",
      "Traceback (most recent call last):\n",
      "  File \"C:\\Users\\blach\\AppData\\Local\\Programs\\Python\\Python310\\lib\\site-packages\\sklearn\\model_selection\\_validation.py\", line 767, in _score\n",
      "    scores = scorer(estimator, X_test, y_test)\n",
      "  File \"C:\\Users\\blach\\AppData\\Local\\Programs\\Python\\Python310\\lib\\site-packages\\sklearn\\metrics\\_scorer.py\", line 220, in __call__\n",
      "    return self._score(\n",
      "  File \"C:\\Users\\blach\\AppData\\Local\\Programs\\Python\\Python310\\lib\\site-packages\\sklearn\\metrics\\_scorer.py\", line 353, in _score\n",
      "    raise ValueError(\"{0} format is not supported\".format(y_type))\n",
      "ValueError: multiclass format is not supported\n",
      "\n",
      "  warnings.warn(\n"
     ]
    },
    {
     "name": "stdout",
     "output_type": "stream",
     "text": [
      "0:\tlearn: 5.5700879\ttotal: 732ms\tremaining: 6.59s\n",
      "1:\tlearn: 5.5390000\ttotal: 1.46s\tremaining: 5.83s\n",
      "2:\tlearn: 5.5096103\ttotal: 2.16s\tremaining: 5.05s\n",
      "3:\tlearn: 5.4843124\ttotal: 2.81s\tremaining: 4.22s\n",
      "4:\tlearn: 5.4607947\ttotal: 3.42s\tremaining: 3.42s\n",
      "5:\tlearn: 5.4353040\ttotal: 4.08s\tremaining: 2.72s\n",
      "6:\tlearn: 5.4112490\ttotal: 4.75s\tremaining: 2.04s\n",
      "7:\tlearn: 5.3873552\ttotal: 5.43s\tremaining: 1.36s\n",
      "8:\tlearn: 5.3647461\ttotal: 6.08s\tremaining: 676ms\n",
      "9:\tlearn: 5.3421261\ttotal: 6.75s\tremaining: 0us\n"
     ]
    },
    {
     "name": "stderr",
     "output_type": "stream",
     "text": [
      "C:\\Users\\blach\\AppData\\Local\\Programs\\Python\\Python310\\lib\\site-packages\\sklearn\\model_selection\\_validation.py:776: UserWarning: Scoring failed. The score on this train-test partition for these parameters will be set to nan. Details: \n",
      "Traceback (most recent call last):\n",
      "  File \"C:\\Users\\blach\\AppData\\Local\\Programs\\Python\\Python310\\lib\\site-packages\\sklearn\\model_selection\\_validation.py\", line 767, in _score\n",
      "    scores = scorer(estimator, X_test, y_test)\n",
      "  File \"C:\\Users\\blach\\AppData\\Local\\Programs\\Python\\Python310\\lib\\site-packages\\sklearn\\metrics\\_scorer.py\", line 220, in __call__\n",
      "    return self._score(\n",
      "  File \"C:\\Users\\blach\\AppData\\Local\\Programs\\Python\\Python310\\lib\\site-packages\\sklearn\\metrics\\_scorer.py\", line 353, in _score\n",
      "    raise ValueError(\"{0} format is not supported\".format(y_type))\n",
      "ValueError: multiclass format is not supported\n",
      "\n",
      "  warnings.warn(\n"
     ]
    },
    {
     "name": "stdout",
     "output_type": "stream",
     "text": [
      "0:\tlearn: 5.5688479\ttotal: 5.91s\tremaining: 53.1s\n",
      "1:\tlearn: 5.5388776\ttotal: 9.79s\tremaining: 39.2s\n",
      "2:\tlearn: 5.5118543\ttotal: 13.2s\tremaining: 30.8s\n",
      "3:\tlearn: 5.4829460\ttotal: 16.4s\tremaining: 24.7s\n",
      "4:\tlearn: 5.4566541\ttotal: 19.8s\tremaining: 19.8s\n",
      "5:\tlearn: 5.4292868\ttotal: 23.4s\tremaining: 15.6s\n",
      "6:\tlearn: 5.4045231\ttotal: 27.1s\tremaining: 11.6s\n",
      "7:\tlearn: 5.3796718\ttotal: 30.3s\tremaining: 7.58s\n",
      "8:\tlearn: 5.3557558\ttotal: 33.6s\tremaining: 3.73s\n",
      "9:\tlearn: 5.3335323\ttotal: 36.8s\tremaining: 0us\n"
     ]
    },
    {
     "name": "stderr",
     "output_type": "stream",
     "text": [
      "C:\\Users\\blach\\AppData\\Local\\Programs\\Python\\Python310\\lib\\site-packages\\sklearn\\model_selection\\_validation.py:776: UserWarning: Scoring failed. The score on this train-test partition for these parameters will be set to nan. Details: \n",
      "Traceback (most recent call last):\n",
      "  File \"C:\\Users\\blach\\AppData\\Local\\Programs\\Python\\Python310\\lib\\site-packages\\sklearn\\model_selection\\_validation.py\", line 767, in _score\n",
      "    scores = scorer(estimator, X_test, y_test)\n",
      "  File \"C:\\Users\\blach\\AppData\\Local\\Programs\\Python\\Python310\\lib\\site-packages\\sklearn\\metrics\\_scorer.py\", line 220, in __call__\n",
      "    return self._score(\n",
      "  File \"C:\\Users\\blach\\AppData\\Local\\Programs\\Python\\Python310\\lib\\site-packages\\sklearn\\metrics\\_scorer.py\", line 353, in _score\n",
      "    raise ValueError(\"{0} format is not supported\".format(y_type))\n",
      "ValueError: multiclass format is not supported\n",
      "\n",
      "  warnings.warn(\n"
     ]
    },
    {
     "name": "stdout",
     "output_type": "stream",
     "text": [
      "0:\tlearn: 5.5646823\ttotal: 4.03s\tremaining: 36.3s\n",
      "1:\tlearn: 5.5342073\ttotal: 7.72s\tremaining: 30.9s\n",
      "2:\tlearn: 5.5073681\ttotal: 11.2s\tremaining: 26.2s\n",
      "3:\tlearn: 5.4805319\ttotal: 14.8s\tremaining: 22.2s\n",
      "4:\tlearn: 5.4529718\ttotal: 18.3s\tremaining: 18.3s\n",
      "5:\tlearn: 5.4261387\ttotal: 22s\tremaining: 14.6s\n",
      "6:\tlearn: 5.3996349\ttotal: 25.5s\tremaining: 10.9s\n",
      "7:\tlearn: 5.3753511\ttotal: 29.1s\tremaining: 7.27s\n",
      "8:\tlearn: 5.3505898\ttotal: 32.6s\tremaining: 3.62s\n",
      "9:\tlearn: 5.3295706\ttotal: 36.2s\tremaining: 0us\n"
     ]
    },
    {
     "name": "stderr",
     "output_type": "stream",
     "text": [
      "C:\\Users\\blach\\AppData\\Local\\Programs\\Python\\Python310\\lib\\site-packages\\sklearn\\model_selection\\_validation.py:776: UserWarning: Scoring failed. The score on this train-test partition for these parameters will be set to nan. Details: \n",
      "Traceback (most recent call last):\n",
      "  File \"C:\\Users\\blach\\AppData\\Local\\Programs\\Python\\Python310\\lib\\site-packages\\sklearn\\model_selection\\_validation.py\", line 767, in _score\n",
      "    scores = scorer(estimator, X_test, y_test)\n",
      "  File \"C:\\Users\\blach\\AppData\\Local\\Programs\\Python\\Python310\\lib\\site-packages\\sklearn\\metrics\\_scorer.py\", line 220, in __call__\n",
      "    return self._score(\n",
      "  File \"C:\\Users\\blach\\AppData\\Local\\Programs\\Python\\Python310\\lib\\site-packages\\sklearn\\metrics\\_scorer.py\", line 353, in _score\n",
      "    raise ValueError(\"{0} format is not supported\".format(y_type))\n",
      "ValueError: multiclass format is not supported\n",
      "\n",
      "  warnings.warn(\n"
     ]
    },
    {
     "name": "stdout",
     "output_type": "stream",
     "text": [
      "0:\tlearn: 5.5704436\ttotal: 3.73s\tremaining: 33.6s\n",
      "1:\tlearn: 5.5407312\ttotal: 7.26s\tremaining: 29.1s\n",
      "2:\tlearn: 5.5150425\ttotal: 11.3s\tremaining: 26.3s\n",
      "3:\tlearn: 5.4882218\ttotal: 15s\tremaining: 22.5s\n",
      "4:\tlearn: 5.4599115\ttotal: 18.6s\tremaining: 18.6s\n",
      "5:\tlearn: 5.4321056\ttotal: 22.5s\tremaining: 15s\n",
      "6:\tlearn: 5.4066432\ttotal: 26.4s\tremaining: 11.3s\n",
      "7:\tlearn: 5.3814123\ttotal: 29.9s\tremaining: 7.47s\n",
      "8:\tlearn: 5.3560823\ttotal: 33.7s\tremaining: 3.75s\n",
      "9:\tlearn: 5.3360320\ttotal: 36.6s\tremaining: 0us\n"
     ]
    },
    {
     "name": "stderr",
     "output_type": "stream",
     "text": [
      "C:\\Users\\blach\\AppData\\Local\\Programs\\Python\\Python310\\lib\\site-packages\\sklearn\\model_selection\\_validation.py:776: UserWarning: Scoring failed. The score on this train-test partition for these parameters will be set to nan. Details: \n",
      "Traceback (most recent call last):\n",
      "  File \"C:\\Users\\blach\\AppData\\Local\\Programs\\Python\\Python310\\lib\\site-packages\\sklearn\\model_selection\\_validation.py\", line 767, in _score\n",
      "    scores = scorer(estimator, X_test, y_test)\n",
      "  File \"C:\\Users\\blach\\AppData\\Local\\Programs\\Python\\Python310\\lib\\site-packages\\sklearn\\metrics\\_scorer.py\", line 220, in __call__\n",
      "    return self._score(\n",
      "  File \"C:\\Users\\blach\\AppData\\Local\\Programs\\Python\\Python310\\lib\\site-packages\\sklearn\\metrics\\_scorer.py\", line 353, in _score\n",
      "    raise ValueError(\"{0} format is not supported\".format(y_type))\n",
      "ValueError: multiclass format is not supported\n",
      "\n",
      "  warnings.warn(\n",
      "C:\\Users\\blach\\AppData\\Local\\Programs\\Python\\Python310\\lib\\site-packages\\sklearn\\model_selection\\_search.py:953: UserWarning: One or more of the test scores are non-finite: [nan nan nan]\n",
      "  warnings.warn(\n"
     ]
    },
    {
     "name": "stdout",
     "output_type": "stream",
     "text": [
      "0:\tlearn: 5.5725419\ttotal: 262ms\tremaining: 2.36s\n",
      "1:\tlearn: 5.5468785\ttotal: 563ms\tremaining: 2.25s\n",
      "2:\tlearn: 5.5146047\ttotal: 845ms\tremaining: 1.97s\n",
      "3:\tlearn: 5.4900099\ttotal: 1.14s\tremaining: 1.71s\n",
      "4:\tlearn: 5.4649069\ttotal: 1.44s\tremaining: 1.44s\n",
      "5:\tlearn: 5.4418292\ttotal: 1.7s\tremaining: 1.14s\n",
      "6:\tlearn: 5.4177269\ttotal: 2.07s\tremaining: 888ms\n",
      "7:\tlearn: 5.3953764\ttotal: 2.35s\tremaining: 589ms\n",
      "8:\tlearn: 5.3750754\ttotal: 2.65s\tremaining: 295ms\n",
      "9:\tlearn: 5.3536626\ttotal: 2.98s\tremaining: 0us\n"
     ]
    },
    {
     "data": {
      "text/html": [
       "<style>#sk-container-id-1 {color: black;background-color: white;}#sk-container-id-1 pre{padding: 0;}#sk-container-id-1 div.sk-toggleable {background-color: white;}#sk-container-id-1 label.sk-toggleable__label {cursor: pointer;display: block;width: 100%;margin-bottom: 0;padding: 0.3em;box-sizing: border-box;text-align: center;}#sk-container-id-1 label.sk-toggleable__label-arrow:before {content: \"▸\";float: left;margin-right: 0.25em;color: #696969;}#sk-container-id-1 label.sk-toggleable__label-arrow:hover:before {color: black;}#sk-container-id-1 div.sk-estimator:hover label.sk-toggleable__label-arrow:before {color: black;}#sk-container-id-1 div.sk-toggleable__content {max-height: 0;max-width: 0;overflow: hidden;text-align: left;background-color: #f0f8ff;}#sk-container-id-1 div.sk-toggleable__content pre {margin: 0.2em;color: black;border-radius: 0.25em;background-color: #f0f8ff;}#sk-container-id-1 input.sk-toggleable__control:checked~div.sk-toggleable__content {max-height: 200px;max-width: 100%;overflow: auto;}#sk-container-id-1 input.sk-toggleable__control:checked~label.sk-toggleable__label-arrow:before {content: \"▾\";}#sk-container-id-1 div.sk-estimator input.sk-toggleable__control:checked~label.sk-toggleable__label {background-color: #d4ebff;}#sk-container-id-1 div.sk-label input.sk-toggleable__control:checked~label.sk-toggleable__label {background-color: #d4ebff;}#sk-container-id-1 input.sk-hidden--visually {border: 0;clip: rect(1px 1px 1px 1px);clip: rect(1px, 1px, 1px, 1px);height: 1px;margin: -1px;overflow: hidden;padding: 0;position: absolute;width: 1px;}#sk-container-id-1 div.sk-estimator {font-family: monospace;background-color: #f0f8ff;border: 1px dotted black;border-radius: 0.25em;box-sizing: border-box;margin-bottom: 0.5em;}#sk-container-id-1 div.sk-estimator:hover {background-color: #d4ebff;}#sk-container-id-1 div.sk-parallel-item::after {content: \"\";width: 100%;border-bottom: 1px solid gray;flex-grow: 1;}#sk-container-id-1 div.sk-label:hover label.sk-toggleable__label {background-color: #d4ebff;}#sk-container-id-1 div.sk-serial::before {content: \"\";position: absolute;border-left: 1px solid gray;box-sizing: border-box;top: 0;bottom: 0;left: 50%;z-index: 0;}#sk-container-id-1 div.sk-serial {display: flex;flex-direction: column;align-items: center;background-color: white;padding-right: 0.2em;padding-left: 0.2em;position: relative;}#sk-container-id-1 div.sk-item {position: relative;z-index: 1;}#sk-container-id-1 div.sk-parallel {display: flex;align-items: stretch;justify-content: center;background-color: white;position: relative;}#sk-container-id-1 div.sk-item::before, #sk-container-id-1 div.sk-parallel-item::before {content: \"\";position: absolute;border-left: 1px solid gray;box-sizing: border-box;top: 0;bottom: 0;left: 50%;z-index: -1;}#sk-container-id-1 div.sk-parallel-item {display: flex;flex-direction: column;z-index: 1;position: relative;background-color: white;}#sk-container-id-1 div.sk-parallel-item:first-child::after {align-self: flex-end;width: 50%;}#sk-container-id-1 div.sk-parallel-item:last-child::after {align-self: flex-start;width: 50%;}#sk-container-id-1 div.sk-parallel-item:only-child::after {width: 0;}#sk-container-id-1 div.sk-dashed-wrapped {border: 1px dashed gray;margin: 0 0.4em 0.5em 0.4em;box-sizing: border-box;padding-bottom: 0.4em;background-color: white;}#sk-container-id-1 div.sk-label label {font-family: monospace;font-weight: bold;display: inline-block;line-height: 1.2em;}#sk-container-id-1 div.sk-label-container {text-align: center;}#sk-container-id-1 div.sk-container {/* jupyter's `normalize.less` sets `[hidden] { display: none; }` but bootstrap.min.css set `[hidden] { display: none !important; }` so we also need the `!important` here to be able to override the default hidden behavior on the sphinx rendered scikit-learn.org. See: https://github.com/scikit-learn/scikit-learn/issues/21755 */display: inline-block !important;position: relative;}#sk-container-id-1 div.sk-text-repr-fallback {display: none;}</style><div id=\"sk-container-id-1\" class=\"sk-top-container\"><div class=\"sk-text-repr-fallback\"><pre>GridSearchCV(cv=3,\n",
       "             estimator=&lt;catboost.core.CatBoostClassifier object at 0x000001F650FE5840&gt;,\n",
       "             param_grid={&#x27;depth&#x27;: [4, 7, 10], &#x27;iterations&#x27;: [10],\n",
       "                         &#x27;l2_leaf_reg&#x27;: [3], &#x27;learning_rate&#x27;: [0.03]},\n",
       "             scoring=&#x27;roc_auc&#x27;)</pre><b>In a Jupyter environment, please rerun this cell to show the HTML representation or trust the notebook. <br />On GitHub, the HTML representation is unable to render, please try loading this page with nbviewer.org.</b></div><div class=\"sk-container\" hidden><div class=\"sk-item sk-dashed-wrapped\"><div class=\"sk-label-container\"><div class=\"sk-label sk-toggleable\"><input class=\"sk-toggleable__control sk-hidden--visually\" id=\"sk-estimator-id-1\" type=\"checkbox\" ><label for=\"sk-estimator-id-1\" class=\"sk-toggleable__label sk-toggleable__label-arrow\">GridSearchCV</label><div class=\"sk-toggleable__content\"><pre>GridSearchCV(cv=3,\n",
       "             estimator=&lt;catboost.core.CatBoostClassifier object at 0x000001F650FE5840&gt;,\n",
       "             param_grid={&#x27;depth&#x27;: [4, 7, 10], &#x27;iterations&#x27;: [10],\n",
       "                         &#x27;l2_leaf_reg&#x27;: [3], &#x27;learning_rate&#x27;: [0.03]},\n",
       "             scoring=&#x27;roc_auc&#x27;)</pre></div></div></div><div class=\"sk-parallel\"><div class=\"sk-parallel-item\"><div class=\"sk-item\"><div class=\"sk-label-container\"><div class=\"sk-label sk-toggleable\"><input class=\"sk-toggleable__control sk-hidden--visually\" id=\"sk-estimator-id-2\" type=\"checkbox\" ><label for=\"sk-estimator-id-2\" class=\"sk-toggleable__label sk-toggleable__label-arrow\">estimator: CatBoostClassifier</label><div class=\"sk-toggleable__content\"><pre>&lt;catboost.core.CatBoostClassifier object at 0x000001F650FE5840&gt;</pre></div></div></div><div class=\"sk-serial\"><div class=\"sk-item\"><div class=\"sk-estimator sk-toggleable\"><input class=\"sk-toggleable__control sk-hidden--visually\" id=\"sk-estimator-id-3\" type=\"checkbox\" ><label for=\"sk-estimator-id-3\" class=\"sk-toggleable__label sk-toggleable__label-arrow\">CatBoostClassifier</label><div class=\"sk-toggleable__content\"><pre>&lt;catboost.core.CatBoostClassifier object at 0x000001F650FE5840&gt;</pre></div></div></div></div></div></div></div></div></div></div>"
      ],
      "text/plain": [
       "GridSearchCV(cv=3,\n",
       "             estimator=<catboost.core.CatBoostClassifier object at 0x000001F650FE5840>,\n",
       "             param_grid={'depth': [4, 7, 10], 'iterations': [10],\n",
       "                         'l2_leaf_reg': [3], 'learning_rate': [0.03]},\n",
       "             scoring='roc_auc')"
      ]
     },
     "execution_count": 9,
     "metadata": {},
     "output_type": "execute_result"
    }
   ],
   "source": [
    "params = {'depth': [4, 7, 10],\n",
    "          'learning_rate' : [0.03],\n",
    "         'l2_leaf_reg': [3],\n",
    "         'iterations': [10]}\n",
    "#'verbose': False\n",
    "cb = cb.CatBoostClassifier()\n",
    "cb_model = GridSearchCV(cb, params, scoring=\"roc_auc\", cv = 3)\n",
    "cb_model.fit(train, y_train)"
   ]
  },
  {
   "cell_type": "code",
   "execution_count": 10,
   "id": "877daa35",
   "metadata": {},
   "outputs": [],
   "source": [
    "predict=cb_model.predict(test)"
   ]
  },
  {
   "cell_type": "code",
   "execution_count": 11,
   "id": "923433a4",
   "metadata": {},
   "outputs": [
    {
     "name": "stdout",
     "output_type": "stream",
     "text": [
      " Results from Grid Search \n",
      "\n",
      " The best estimator across ALL searched params:\n",
      " <catboost.core.CatBoostClassifier object at 0x000001F650FE6B30>\n",
      "\n",
      " The best score across ALL searched params:\n",
      " nan\n",
      "\n",
      " The best parameters across ALL searched params:\n",
      " {'depth': 4, 'iterations': 10, 'l2_leaf_reg': 3, 'learning_rate': 0.03}\n"
     ]
    }
   ],
   "source": [
    "print(\" Results from Grid Search \" )\n",
    "print(\"\\n The best estimator across ALL searched params:\\n\",cb_model.best_estimator_)\n",
    "print(\"\\n The best score across ALL searched params:\\n\",cb_model.best_score_)\n",
    "print(\"\\n The best parameters across ALL searched params:\\n\",cb_model.best_params_)"
   ]
  },
  {
   "cell_type": "code",
   "execution_count": 12,
   "id": "72403fc2",
   "metadata": {},
   "outputs": [
    {
     "name": "stdout",
     "output_type": "stream",
     "text": [
      "0:\tlearn: 5.5725419\ttotal: 250ms\tremaining: 8m 20s\n",
      "1:\tlearn: 5.5468785\ttotal: 548ms\tremaining: 9m 7s\n",
      "2:\tlearn: 5.5146047\ttotal: 854ms\tremaining: 9m 28s\n",
      "3:\tlearn: 5.4900099\ttotal: 1.15s\tremaining: 9m 36s\n",
      "4:\tlearn: 5.4649069\ttotal: 1.45s\tremaining: 9m 37s\n",
      "5:\tlearn: 5.4418292\ttotal: 1.73s\tremaining: 9m 35s\n",
      "6:\tlearn: 5.4177269\ttotal: 2.06s\tremaining: 9m 45s\n",
      "7:\tlearn: 5.3953764\ttotal: 2.32s\tremaining: 9m 37s\n",
      "8:\tlearn: 5.3750754\ttotal: 2.6s\tremaining: 9m 36s\n",
      "9:\tlearn: 5.3536626\ttotal: 2.91s\tremaining: 9m 39s\n",
      "10:\tlearn: 5.3343949\ttotal: 3.21s\tremaining: 9m 40s\n",
      "11:\tlearn: 5.3158792\ttotal: 3.52s\tremaining: 9m 43s\n",
      "12:\tlearn: 5.2986260\ttotal: 3.82s\tremaining: 9m 44s\n",
      "13:\tlearn: 5.2840991\ttotal: 4.09s\tremaining: 9m 40s\n",
      "14:\tlearn: 5.2699606\ttotal: 4.37s\tremaining: 9m 38s\n",
      "15:\tlearn: 5.2563182\ttotal: 4.65s\tremaining: 9m 36s\n",
      "16:\tlearn: 5.2416297\ttotal: 4.98s\tremaining: 9m 40s\n",
      "17:\tlearn: 5.2251750\ttotal: 5.34s\tremaining: 9m 47s\n",
      "18:\tlearn: 5.2110288\ttotal: 5.68s\tremaining: 9m 51s\n",
      "19:\tlearn: 5.1978907\ttotal: 5.97s\tremaining: 9m 50s\n",
      "20:\tlearn: 5.1852046\ttotal: 6.29s\tremaining: 9m 52s\n",
      "21:\tlearn: 5.1719915\ttotal: 6.63s\tremaining: 9m 56s\n",
      "22:\tlearn: 5.1589359\ttotal: 6.98s\tremaining: 9m 59s\n",
      "23:\tlearn: 5.1474685\ttotal: 7.26s\tremaining: 9m 57s\n",
      "24:\tlearn: 5.1383150\ttotal: 7.53s\tremaining: 9m 54s\n",
      "25:\tlearn: 5.1284527\ttotal: 7.81s\tremaining: 9m 52s\n",
      "26:\tlearn: 5.1162644\ttotal: 8.11s\tremaining: 9m 52s\n",
      "27:\tlearn: 5.1049378\ttotal: 8.42s\tremaining: 9m 53s\n",
      "28:\tlearn: 5.0960998\ttotal: 8.7s\tremaining: 9m 51s\n",
      "29:\tlearn: 5.0841360\ttotal: 9s\tremaining: 9m 51s\n",
      "30:\tlearn: 5.0750277\ttotal: 9.32s\tremaining: 9m 52s\n",
      "31:\tlearn: 5.0639925\ttotal: 9.67s\tremaining: 9m 54s\n",
      "32:\tlearn: 5.0549891\ttotal: 9.96s\tremaining: 9m 53s\n",
      "33:\tlearn: 5.0462806\ttotal: 10.3s\tremaining: 9m 54s\n",
      "34:\tlearn: 5.0371632\ttotal: 10.6s\tremaining: 9m 55s\n",
      "35:\tlearn: 5.0275937\ttotal: 10.9s\tremaining: 9m 57s\n",
      "36:\tlearn: 5.0197804\ttotal: 11.2s\tremaining: 9m 54s\n",
      "37:\tlearn: 5.0124148\ttotal: 11.5s\tremaining: 9m 54s\n",
      "38:\tlearn: 5.0059432\ttotal: 11.9s\tremaining: 9m 56s\n",
      "39:\tlearn: 4.9977659\ttotal: 12.2s\tremaining: 9m 57s\n",
      "40:\tlearn: 4.9909810\ttotal: 12.5s\tremaining: 9m 57s\n",
      "41:\tlearn: 4.9846722\ttotal: 12.8s\tremaining: 9m 56s\n",
      "42:\tlearn: 4.9777327\ttotal: 13.1s\tremaining: 9m 58s\n",
      "43:\tlearn: 4.9692886\ttotal: 13.5s\tremaining: 9m 59s\n",
      "44:\tlearn: 4.9626362\ttotal: 13.8s\tremaining: 9m 59s\n",
      "45:\tlearn: 4.9541159\ttotal: 14.1s\tremaining: 9m 59s\n",
      "46:\tlearn: 4.9468056\ttotal: 14.4s\tremaining: 9m 58s\n",
      "47:\tlearn: 4.9388032\ttotal: 14.8s\tremaining: 10m\n",
      "48:\tlearn: 4.9327838\ttotal: 15.1s\tremaining: 9m 59s\n",
      "49:\tlearn: 4.9277554\ttotal: 15.3s\tremaining: 9m 57s\n",
      "50:\tlearn: 4.9216384\ttotal: 15.6s\tremaining: 9m 57s\n",
      "51:\tlearn: 4.9152101\ttotal: 16s\tremaining: 9m 58s\n",
      "52:\tlearn: 4.9094818\ttotal: 16.3s\tremaining: 9m 57s\n",
      "53:\tlearn: 4.9031329\ttotal: 16.6s\tremaining: 9m 58s\n",
      "54:\tlearn: 4.8972039\ttotal: 16.9s\tremaining: 9m 59s\n",
      "55:\tlearn: 4.8917442\ttotal: 17.2s\tremaining: 9m 58s\n",
      "56:\tlearn: 4.8868561\ttotal: 17.5s\tremaining: 9m 57s\n",
      "57:\tlearn: 4.8813327\ttotal: 17.8s\tremaining: 9m 57s\n",
      "58:\tlearn: 4.8769402\ttotal: 18.1s\tremaining: 9m 56s\n",
      "59:\tlearn: 4.8709857\ttotal: 18.4s\tremaining: 9m 56s\n",
      "60:\tlearn: 4.8670109\ttotal: 18.7s\tremaining: 9m 55s\n",
      "61:\tlearn: 4.8620578\ttotal: 19s\tremaining: 9m 53s\n",
      "62:\tlearn: 4.8560136\ttotal: 19.3s\tremaining: 9m 54s\n",
      "63:\tlearn: 4.8520176\ttotal: 19.6s\tremaining: 9m 53s\n",
      "64:\tlearn: 4.8471982\ttotal: 19.9s\tremaining: 9m 53s\n",
      "65:\tlearn: 4.8421685\ttotal: 20.2s\tremaining: 9m 53s\n",
      "66:\tlearn: 4.8370302\ttotal: 20.6s\tremaining: 9m 53s\n",
      "67:\tlearn: 4.8327219\ttotal: 20.9s\tremaining: 9m 52s\n",
      "68:\tlearn: 4.8274820\ttotal: 21.2s\tremaining: 9m 53s\n",
      "69:\tlearn: 4.8230051\ttotal: 21.5s\tremaining: 9m 52s\n",
      "70:\tlearn: 4.8181297\ttotal: 21.9s\tremaining: 9m 54s\n",
      "71:\tlearn: 4.8150447\ttotal: 22.2s\tremaining: 9m 53s\n",
      "72:\tlearn: 4.8099305\ttotal: 22.5s\tremaining: 9m 53s\n",
      "73:\tlearn: 4.8054507\ttotal: 22.8s\tremaining: 9m 52s\n",
      "74:\tlearn: 4.8018254\ttotal: 23.1s\tremaining: 9m 52s\n",
      "75:\tlearn: 4.7967354\ttotal: 23.4s\tremaining: 9m 52s\n",
      "76:\tlearn: 4.7929842\ttotal: 23.7s\tremaining: 9m 52s\n",
      "77:\tlearn: 4.7888081\ttotal: 24.1s\tremaining: 9m 53s\n",
      "78:\tlearn: 4.7847519\ttotal: 24.4s\tremaining: 9m 53s\n",
      "79:\tlearn: 4.7801140\ttotal: 24.8s\tremaining: 9m 54s\n",
      "80:\tlearn: 4.7771765\ttotal: 25s\tremaining: 9m 52s\n",
      "81:\tlearn: 4.7735624\ttotal: 25.3s\tremaining: 9m 52s\n",
      "82:\tlearn: 4.7693689\ttotal: 25.7s\tremaining: 9m 52s\n",
      "83:\tlearn: 4.7660665\ttotal: 26s\tremaining: 9m 52s\n",
      "84:\tlearn: 4.7625231\ttotal: 26.3s\tremaining: 9m 51s\n",
      "85:\tlearn: 4.7589396\ttotal: 26.6s\tremaining: 9m 51s\n",
      "86:\tlearn: 4.7558754\ttotal: 26.9s\tremaining: 9m 51s\n",
      "87:\tlearn: 4.7525594\ttotal: 27.2s\tremaining: 9m 50s\n",
      "88:\tlearn: 4.7495989\ttotal: 27.5s\tremaining: 9m 49s\n",
      "89:\tlearn: 4.7464572\ttotal: 27.8s\tremaining: 9m 49s\n",
      "90:\tlearn: 4.7425802\ttotal: 28.1s\tremaining: 9m 49s\n",
      "91:\tlearn: 4.7392532\ttotal: 28.4s\tremaining: 9m 48s\n",
      "92:\tlearn: 4.7362123\ttotal: 28.7s\tremaining: 9m 47s\n",
      "93:\tlearn: 4.7328066\ttotal: 29s\tremaining: 9m 47s\n",
      "94:\tlearn: 4.7288233\ttotal: 29.3s\tremaining: 9m 48s\n",
      "95:\tlearn: 4.7250357\ttotal: 29.7s\tremaining: 9m 48s\n",
      "96:\tlearn: 4.7211453\ttotal: 30s\tremaining: 9m 48s\n",
      "97:\tlearn: 4.7181075\ttotal: 30.3s\tremaining: 9m 47s\n",
      "98:\tlearn: 4.7147778\ttotal: 30.6s\tremaining: 9m 46s\n",
      "99:\tlearn: 4.7122089\ttotal: 30.9s\tremaining: 9m 46s\n",
      "100:\tlearn: 4.7097684\ttotal: 31.1s\tremaining: 9m 45s\n",
      "101:\tlearn: 4.7065440\ttotal: 31.4s\tremaining: 9m 44s\n",
      "102:\tlearn: 4.7031384\ttotal: 31.8s\tremaining: 9m 44s\n",
      "103:\tlearn: 4.7006826\ttotal: 32s\tremaining: 9m 44s\n",
      "104:\tlearn: 4.6981622\ttotal: 32.3s\tremaining: 9m 43s\n",
      "105:\tlearn: 4.6960948\ttotal: 32.6s\tremaining: 9m 42s\n",
      "106:\tlearn: 4.6937554\ttotal: 32.9s\tremaining: 9m 41s\n",
      "107:\tlearn: 4.6910492\ttotal: 33.2s\tremaining: 9m 40s\n",
      "108:\tlearn: 4.6886961\ttotal: 33.4s\tremaining: 9m 40s\n",
      "109:\tlearn: 4.6858432\ttotal: 33.8s\tremaining: 9m 40s\n",
      "110:\tlearn: 4.6834107\ttotal: 34.1s\tremaining: 9m 40s\n",
      "111:\tlearn: 4.6801385\ttotal: 34.4s\tremaining: 9m 39s\n",
      "112:\tlearn: 4.6774051\ttotal: 34.7s\tremaining: 9m 40s\n",
      "113:\tlearn: 4.6753561\ttotal: 35s\tremaining: 9m 39s\n",
      "114:\tlearn: 4.6727507\ttotal: 35.3s\tremaining: 9m 39s\n",
      "115:\tlearn: 4.6711842\ttotal: 35.6s\tremaining: 9m 38s\n",
      "116:\tlearn: 4.6680073\ttotal: 35.9s\tremaining: 9m 38s\n",
      "117:\tlearn: 4.6650774\ttotal: 36.2s\tremaining: 9m 37s\n",
      "118:\tlearn: 4.6622606\ttotal: 36.5s\tremaining: 9m 37s\n",
      "119:\tlearn: 4.6600081\ttotal: 36.8s\tremaining: 9m 36s\n",
      "120:\tlearn: 4.6577773\ttotal: 37.1s\tremaining: 9m 36s\n",
      "121:\tlearn: 4.6559708\ttotal: 37.4s\tremaining: 9m 35s\n",
      "122:\tlearn: 4.6534222\ttotal: 37.6s\tremaining: 9m 34s\n",
      "123:\tlearn: 4.6511310\ttotal: 37.9s\tremaining: 9m 33s\n",
      "124:\tlearn: 4.6486967\ttotal: 38.2s\tremaining: 9m 32s\n",
      "125:\tlearn: 4.6461801\ttotal: 38.5s\tremaining: 9m 32s\n",
      "126:\tlearn: 4.6440088\ttotal: 38.8s\tremaining: 9m 32s\n",
      "127:\tlearn: 4.6410372\ttotal: 39.1s\tremaining: 9m 32s\n",
      "128:\tlearn: 4.6386942\ttotal: 39.4s\tremaining: 9m 31s\n",
      "129:\tlearn: 4.6357458\ttotal: 39.7s\tremaining: 9m 31s\n",
      "130:\tlearn: 4.6331260\ttotal: 40s\tremaining: 9m 31s\n",
      "131:\tlearn: 4.6306664\ttotal: 40.3s\tremaining: 9m 30s\n",
      "132:\tlearn: 4.6284644\ttotal: 40.6s\tremaining: 9m 30s\n",
      "133:\tlearn: 4.6258593\ttotal: 40.9s\tremaining: 9m 30s\n",
      "134:\tlearn: 4.6234556\ttotal: 41.2s\tremaining: 9m 29s\n",
      "135:\tlearn: 4.6215837\ttotal: 41.5s\tremaining: 9m 29s\n",
      "136:\tlearn: 4.6190003\ttotal: 41.9s\tremaining: 9m 29s\n",
      "137:\tlearn: 4.6171896\ttotal: 42.1s\tremaining: 9m 28s\n",
      "138:\tlearn: 4.6148435\ttotal: 42.4s\tremaining: 9m 28s\n",
      "139:\tlearn: 4.6125275\ttotal: 42.8s\tremaining: 9m 28s\n",
      "140:\tlearn: 4.6108264\ttotal: 43.1s\tremaining: 9m 27s\n",
      "141:\tlearn: 4.6082871\ttotal: 43.4s\tremaining: 9m 28s\n",
      "142:\tlearn: 4.6063759\ttotal: 43.7s\tremaining: 9m 27s\n",
      "143:\tlearn: 4.6045072\ttotal: 44s\tremaining: 9m 27s\n",
      "144:\tlearn: 4.6027290\ttotal: 44.3s\tremaining: 9m 26s\n",
      "145:\tlearn: 4.6001904\ttotal: 44.6s\tremaining: 9m 26s\n",
      "146:\tlearn: 4.5975959\ttotal: 44.9s\tremaining: 9m 26s\n",
      "147:\tlearn: 4.5951996\ttotal: 45.2s\tremaining: 9m 25s\n",
      "148:\tlearn: 4.5929172\ttotal: 45.6s\tremaining: 9m 25s\n",
      "149:\tlearn: 4.5903686\ttotal: 45.9s\tremaining: 9m 25s\n",
      "150:\tlearn: 4.5879048\ttotal: 46.2s\tremaining: 9m 25s\n",
      "151:\tlearn: 4.5863516\ttotal: 46.5s\tremaining: 9m 25s\n",
      "152:\tlearn: 4.5850136\ttotal: 46.8s\tremaining: 9m 24s\n",
      "153:\tlearn: 4.5828258\ttotal: 47.1s\tremaining: 9m 24s\n",
      "154:\tlearn: 4.5806859\ttotal: 47.4s\tremaining: 9m 24s\n",
      "155:\tlearn: 4.5785749\ttotal: 47.7s\tremaining: 9m 23s\n",
      "156:\tlearn: 4.5758628\ttotal: 48s\tremaining: 9m 23s\n",
      "157:\tlearn: 4.5749145\ttotal: 48.3s\tremaining: 9m 22s\n"
     ]
    },
    {
     "name": "stdout",
     "output_type": "stream",
     "text": [
      "158:\tlearn: 4.5725927\ttotal: 48.6s\tremaining: 9m 22s\n",
      "159:\tlearn: 4.5700815\ttotal: 48.9s\tremaining: 9m 22s\n",
      "160:\tlearn: 4.5676719\ttotal: 49.2s\tremaining: 9m 22s\n",
      "161:\tlearn: 4.5650307\ttotal: 49.5s\tremaining: 9m 22s\n",
      "162:\tlearn: 4.5638332\ttotal: 49.8s\tremaining: 9m 21s\n",
      "163:\tlearn: 4.5624714\ttotal: 50.1s\tremaining: 9m 20s\n",
      "164:\tlearn: 4.5605715\ttotal: 50.4s\tremaining: 9m 20s\n",
      "165:\tlearn: 4.5586587\ttotal: 50.7s\tremaining: 9m 19s\n",
      "166:\tlearn: 4.5568599\ttotal: 50.9s\tremaining: 9m 19s\n",
      "167:\tlearn: 4.5548137\ttotal: 51.3s\tremaining: 9m 19s\n",
      "168:\tlearn: 4.5531515\ttotal: 51.6s\tremaining: 9m 18s\n",
      "169:\tlearn: 4.5511398\ttotal: 51.9s\tremaining: 9m 18s\n",
      "170:\tlearn: 4.5488652\ttotal: 52.2s\tremaining: 9m 18s\n",
      "171:\tlearn: 4.5471694\ttotal: 52.5s\tremaining: 9m 17s\n",
      "172:\tlearn: 4.5447362\ttotal: 52.8s\tremaining: 9m 17s\n",
      "173:\tlearn: 4.5424614\ttotal: 53.1s\tremaining: 9m 17s\n",
      "174:\tlearn: 4.5401747\ttotal: 53.4s\tremaining: 9m 16s\n",
      "175:\tlearn: 4.5378375\ttotal: 53.7s\tremaining: 9m 16s\n",
      "176:\tlearn: 4.5362495\ttotal: 54.1s\tremaining: 9m 16s\n",
      "177:\tlearn: 4.5341321\ttotal: 54.4s\tremaining: 9m 16s\n",
      "178:\tlearn: 4.5323852\ttotal: 54.6s\tremaining: 9m 15s\n",
      "179:\tlearn: 4.5310664\ttotal: 54.9s\tremaining: 9m 15s\n",
      "180:\tlearn: 4.5301682\ttotal: 55.2s\tremaining: 9m 14s\n",
      "181:\tlearn: 4.5281089\ttotal: 55.5s\tremaining: 9m 13s\n",
      "182:\tlearn: 4.5259637\ttotal: 55.8s\tremaining: 9m 13s\n",
      "183:\tlearn: 4.5246089\ttotal: 56s\tremaining: 9m 13s\n",
      "184:\tlearn: 4.5235786\ttotal: 56.3s\tremaining: 9m 12s\n",
      "185:\tlearn: 4.5215118\ttotal: 56.6s\tremaining: 9m 12s\n",
      "186:\tlearn: 4.5196607\ttotal: 56.9s\tremaining: 9m 11s\n",
      "187:\tlearn: 4.5176903\ttotal: 57.2s\tremaining: 9m 11s\n",
      "188:\tlearn: 4.5159586\ttotal: 57.5s\tremaining: 9m 11s\n",
      "189:\tlearn: 4.5138724\ttotal: 57.8s\tremaining: 9m 10s\n",
      "190:\tlearn: 4.5123808\ttotal: 58.1s\tremaining: 9m 10s\n",
      "191:\tlearn: 4.5106790\ttotal: 58.4s\tremaining: 9m 9s\n",
      "192:\tlearn: 4.5084141\ttotal: 58.7s\tremaining: 9m 9s\n",
      "193:\tlearn: 4.5067360\ttotal: 59.1s\tremaining: 9m 9s\n",
      "194:\tlearn: 4.5052592\ttotal: 59.3s\tremaining: 9m 9s\n",
      "195:\tlearn: 4.5040685\ttotal: 59.7s\tremaining: 9m 9s\n",
      "196:\tlearn: 4.5021227\ttotal: 60s\tremaining: 9m 8s\n",
      "197:\tlearn: 4.5008905\ttotal: 1m\tremaining: 9m 8s\n",
      "198:\tlearn: 4.4995004\ttotal: 1m\tremaining: 9m 7s\n",
      "199:\tlearn: 4.4972729\ttotal: 1m\tremaining: 9m 8s\n",
      "200:\tlearn: 4.4956758\ttotal: 1m 1s\tremaining: 9m 7s\n",
      "201:\tlearn: 4.4941897\ttotal: 1m 1s\tremaining: 9m 7s\n",
      "202:\tlearn: 4.4927887\ttotal: 1m 1s\tremaining: 9m 7s\n",
      "203:\tlearn: 4.4914523\ttotal: 1m 2s\tremaining: 9m 6s\n",
      "204:\tlearn: 4.4902199\ttotal: 1m 2s\tremaining: 9m 6s\n",
      "205:\tlearn: 4.4886373\ttotal: 1m 2s\tremaining: 9m 6s\n",
      "206:\tlearn: 4.4872096\ttotal: 1m 3s\tremaining: 9m 5s\n",
      "207:\tlearn: 4.4862734\ttotal: 1m 3s\tremaining: 9m 5s\n",
      "208:\tlearn: 4.4845720\ttotal: 1m 3s\tremaining: 9m 5s\n",
      "209:\tlearn: 4.4825072\ttotal: 1m 3s\tremaining: 9m 5s\n",
      "210:\tlearn: 4.4811519\ttotal: 1m 4s\tremaining: 9m 4s\n",
      "211:\tlearn: 4.4790171\ttotal: 1m 4s\tremaining: 9m 5s\n",
      "212:\tlearn: 4.4781533\ttotal: 1m 4s\tremaining: 9m 4s\n",
      "213:\tlearn: 4.4771160\ttotal: 1m 5s\tremaining: 9m 4s\n",
      "214:\tlearn: 4.4754011\ttotal: 1m 5s\tremaining: 9m 4s\n",
      "215:\tlearn: 4.4741698\ttotal: 1m 5s\tremaining: 9m 4s\n",
      "216:\tlearn: 4.4733543\ttotal: 1m 6s\tremaining: 9m 3s\n",
      "217:\tlearn: 4.4722181\ttotal: 1m 6s\tremaining: 9m 2s\n",
      "218:\tlearn: 4.4705294\ttotal: 1m 6s\tremaining: 9m 2s\n",
      "219:\tlearn: 4.4693444\ttotal: 1m 7s\tremaining: 9m 2s\n",
      "220:\tlearn: 4.4680546\ttotal: 1m 7s\tremaining: 9m 2s\n",
      "221:\tlearn: 4.4672157\ttotal: 1m 7s\tremaining: 9m 2s\n",
      "222:\tlearn: 4.4655396\ttotal: 1m 8s\tremaining: 9m 1s\n",
      "223:\tlearn: 4.4644692\ttotal: 1m 8s\tremaining: 9m 1s\n",
      "224:\tlearn: 4.4637087\ttotal: 1m 8s\tremaining: 9m 1s\n",
      "225:\tlearn: 4.4615710\ttotal: 1m 8s\tremaining: 9m 1s\n",
      "226:\tlearn: 4.4600380\ttotal: 1m 9s\tremaining: 9m\n",
      "227:\tlearn: 4.4587596\ttotal: 1m 9s\tremaining: 9m\n",
      "228:\tlearn: 4.4572271\ttotal: 1m 9s\tremaining: 9m\n",
      "229:\tlearn: 4.4563072\ttotal: 1m 10s\tremaining: 9m\n",
      "230:\tlearn: 4.4550663\ttotal: 1m 10s\tremaining: 9m\n",
      "231:\tlearn: 4.4538022\ttotal: 1m 10s\tremaining: 8m 59s\n",
      "232:\tlearn: 4.4521115\ttotal: 1m 11s\tremaining: 8m 59s\n",
      "233:\tlearn: 4.4508021\ttotal: 1m 11s\tremaining: 8m 59s\n",
      "234:\tlearn: 4.4496117\ttotal: 1m 11s\tremaining: 8m 58s\n",
      "235:\tlearn: 4.4477381\ttotal: 1m 12s\tremaining: 8m 58s\n",
      "236:\tlearn: 4.4468217\ttotal: 1m 12s\tremaining: 8m 58s\n",
      "237:\tlearn: 4.4452994\ttotal: 1m 12s\tremaining: 8m 58s\n",
      "238:\tlearn: 4.4439595\ttotal: 1m 12s\tremaining: 8m 57s\n",
      "239:\tlearn: 4.4429691\ttotal: 1m 13s\tremaining: 8m 57s\n",
      "240:\tlearn: 4.4416203\ttotal: 1m 13s\tremaining: 8m 56s\n",
      "241:\tlearn: 4.4408051\ttotal: 1m 13s\tremaining: 8m 56s\n",
      "242:\tlearn: 4.4398210\ttotal: 1m 14s\tremaining: 8m 55s\n",
      "243:\tlearn: 4.4379582\ttotal: 1m 14s\tremaining: 8m 55s\n",
      "244:\tlearn: 4.4368955\ttotal: 1m 14s\tremaining: 8m 55s\n",
      "245:\tlearn: 4.4346881\ttotal: 1m 15s\tremaining: 8m 55s\n",
      "246:\tlearn: 4.4333365\ttotal: 1m 15s\tremaining: 8m 54s\n",
      "247:\tlearn: 4.4323931\ttotal: 1m 15s\tremaining: 8m 54s\n",
      "248:\tlearn: 4.4310961\ttotal: 1m 15s\tremaining: 8m 53s\n",
      "249:\tlearn: 4.4301599\ttotal: 1m 16s\tremaining: 8m 53s\n",
      "250:\tlearn: 4.4290527\ttotal: 1m 16s\tremaining: 8m 53s\n",
      "251:\tlearn: 4.4281333\ttotal: 1m 16s\tremaining: 8m 52s\n",
      "252:\tlearn: 4.4266459\ttotal: 1m 17s\tremaining: 8m 52s\n",
      "253:\tlearn: 4.4252184\ttotal: 1m 17s\tremaining: 8m 52s\n",
      "254:\tlearn: 4.4244139\ttotal: 1m 17s\tremaining: 8m 51s\n",
      "255:\tlearn: 4.4224056\ttotal: 1m 18s\tremaining: 8m 51s\n",
      "256:\tlearn: 4.4209131\ttotal: 1m 18s\tremaining: 8m 51s\n",
      "257:\tlearn: 4.4199110\ttotal: 1m 18s\tremaining: 8m 51s\n",
      "258:\tlearn: 4.4183689\ttotal: 1m 18s\tremaining: 8m 50s\n",
      "259:\tlearn: 4.4171042\ttotal: 1m 19s\tremaining: 8m 50s\n",
      "260:\tlearn: 4.4157898\ttotal: 1m 19s\tremaining: 8m 50s\n",
      "261:\tlearn: 4.4145209\ttotal: 1m 19s\tremaining: 8m 50s\n",
      "262:\tlearn: 4.4127871\ttotal: 1m 20s\tremaining: 8m 50s\n",
      "263:\tlearn: 4.4114926\ttotal: 1m 20s\tremaining: 8m 49s\n",
      "264:\tlearn: 4.4100527\ttotal: 1m 20s\tremaining: 8m 49s\n",
      "265:\tlearn: 4.4088588\ttotal: 1m 21s\tremaining: 8m 49s\n",
      "266:\tlearn: 4.4080124\ttotal: 1m 21s\tremaining: 8m 48s\n",
      "267:\tlearn: 4.4070685\ttotal: 1m 21s\tremaining: 8m 48s\n",
      "268:\tlearn: 4.4060524\ttotal: 1m 22s\tremaining: 8m 47s\n",
      "269:\tlearn: 4.4046671\ttotal: 1m 22s\tremaining: 8m 47s\n",
      "270:\tlearn: 4.4029304\ttotal: 1m 22s\tremaining: 8m 47s\n",
      "271:\tlearn: 4.4019443\ttotal: 1m 22s\tremaining: 8m 46s\n",
      "272:\tlearn: 4.4014266\ttotal: 1m 23s\tremaining: 8m 46s\n",
      "273:\tlearn: 4.4001244\ttotal: 1m 23s\tremaining: 8m 45s\n",
      "274:\tlearn: 4.3990675\ttotal: 1m 23s\tremaining: 8m 45s\n",
      "275:\tlearn: 4.3976869\ttotal: 1m 24s\tremaining: 8m 45s\n",
      "276:\tlearn: 4.3969654\ttotal: 1m 24s\tremaining: 8m 44s\n",
      "277:\tlearn: 4.3957144\ttotal: 1m 24s\tremaining: 8m 44s\n",
      "278:\tlearn: 4.3943168\ttotal: 1m 25s\tremaining: 8m 44s\n",
      "279:\tlearn: 4.3935911\ttotal: 1m 25s\tremaining: 8m 43s\n",
      "280:\tlearn: 4.3926864\ttotal: 1m 25s\tremaining: 8m 43s\n",
      "281:\tlearn: 4.3909963\ttotal: 1m 25s\tremaining: 8m 43s\n",
      "282:\tlearn: 4.3900660\ttotal: 1m 26s\tremaining: 8m 42s\n",
      "283:\tlearn: 4.3887742\ttotal: 1m 26s\tremaining: 8m 42s\n",
      "284:\tlearn: 4.3878927\ttotal: 1m 26s\tremaining: 8m 42s\n",
      "285:\tlearn: 4.3866961\ttotal: 1m 27s\tremaining: 8m 42s\n",
      "286:\tlearn: 4.3853589\ttotal: 1m 27s\tremaining: 8m 41s\n",
      "287:\tlearn: 4.3843376\ttotal: 1m 27s\tremaining: 8m 41s\n",
      "288:\tlearn: 4.3832707\ttotal: 1m 27s\tremaining: 8m 40s\n",
      "289:\tlearn: 4.3820993\ttotal: 1m 28s\tremaining: 8m 40s\n",
      "290:\tlearn: 4.3814791\ttotal: 1m 28s\tremaining: 8m 39s\n",
      "291:\tlearn: 4.3803385\ttotal: 1m 28s\tremaining: 8m 39s\n",
      "292:\tlearn: 4.3793815\ttotal: 1m 29s\tremaining: 8m 39s\n",
      "293:\tlearn: 4.3781546\ttotal: 1m 29s\tremaining: 8m 38s\n",
      "294:\tlearn: 4.3772299\ttotal: 1m 29s\tremaining: 8m 38s\n",
      "295:\tlearn: 4.3755328\ttotal: 1m 30s\tremaining: 8m 38s\n",
      "296:\tlearn: 4.3745820\ttotal: 1m 30s\tremaining: 8m 38s\n",
      "297:\tlearn: 4.3736971\ttotal: 1m 30s\tremaining: 8m 37s\n",
      "298:\tlearn: 4.3721650\ttotal: 1m 31s\tremaining: 8m 37s\n",
      "299:\tlearn: 4.3707338\ttotal: 1m 31s\tremaining: 8m 37s\n",
      "300:\tlearn: 4.3699596\ttotal: 1m 31s\tremaining: 8m 37s\n",
      "301:\tlearn: 4.3687140\ttotal: 1m 31s\tremaining: 8m 37s\n",
      "302:\tlearn: 4.3682968\ttotal: 1m 32s\tremaining: 8m 36s\n",
      "303:\tlearn: 4.3674546\ttotal: 1m 32s\tremaining: 8m 36s\n",
      "304:\tlearn: 4.3665856\ttotal: 1m 32s\tremaining: 8m 36s\n",
      "305:\tlearn: 4.3654606\ttotal: 1m 33s\tremaining: 8m 36s\n",
      "306:\tlearn: 4.3645835\ttotal: 1m 33s\tremaining: 8m 36s\n",
      "307:\tlearn: 4.3635398\ttotal: 1m 33s\tremaining: 8m 35s\n",
      "308:\tlearn: 4.3620455\ttotal: 1m 34s\tremaining: 8m 35s\n",
      "309:\tlearn: 4.3605671\ttotal: 1m 34s\tremaining: 8m 35s\n",
      "310:\tlearn: 4.3591232\ttotal: 1m 34s\tremaining: 8m 35s\n",
      "311:\tlearn: 4.3582152\ttotal: 1m 35s\tremaining: 8m 35s\n",
      "312:\tlearn: 4.3576309\ttotal: 1m 35s\tremaining: 8m 34s\n"
     ]
    },
    {
     "name": "stdout",
     "output_type": "stream",
     "text": [
      "313:\tlearn: 4.3566210\ttotal: 1m 35s\tremaining: 8m 34s\n",
      "314:\tlearn: 4.3554735\ttotal: 1m 36s\tremaining: 8m 33s\n",
      "315:\tlearn: 4.3544376\ttotal: 1m 36s\tremaining: 8m 33s\n",
      "316:\tlearn: 4.3528944\ttotal: 1m 36s\tremaining: 8m 33s\n",
      "317:\tlearn: 4.3518997\ttotal: 1m 36s\tremaining: 8m 32s\n",
      "318:\tlearn: 4.3504100\ttotal: 1m 37s\tremaining: 8m 32s\n",
      "319:\tlearn: 4.3497045\ttotal: 1m 37s\tremaining: 8m 32s\n",
      "320:\tlearn: 4.3489129\ttotal: 1m 37s\tremaining: 8m 31s\n",
      "321:\tlearn: 4.3479901\ttotal: 1m 38s\tremaining: 8m 31s\n",
      "322:\tlearn: 4.3472177\ttotal: 1m 38s\tremaining: 8m 30s\n",
      "323:\tlearn: 4.3467040\ttotal: 1m 38s\tremaining: 8m 30s\n",
      "324:\tlearn: 4.3457238\ttotal: 1m 38s\tremaining: 8m 30s\n",
      "325:\tlearn: 4.3441315\ttotal: 1m 39s\tremaining: 8m 30s\n",
      "326:\tlearn: 4.3430291\ttotal: 1m 39s\tremaining: 8m 29s\n",
      "327:\tlearn: 4.3413896\ttotal: 1m 39s\tremaining: 8m 29s\n",
      "328:\tlearn: 4.3402681\ttotal: 1m 40s\tremaining: 8m 29s\n",
      "329:\tlearn: 4.3393141\ttotal: 1m 40s\tremaining: 8m 29s\n",
      "330:\tlearn: 4.3389361\ttotal: 1m 40s\tremaining: 8m 28s\n",
      "331:\tlearn: 4.3379141\ttotal: 1m 41s\tremaining: 8m 28s\n",
      "332:\tlearn: 4.3367338\ttotal: 1m 41s\tremaining: 8m 28s\n",
      "333:\tlearn: 4.3356887\ttotal: 1m 41s\tremaining: 8m 27s\n",
      "334:\tlearn: 4.3344331\ttotal: 1m 42s\tremaining: 8m 27s\n",
      "335:\tlearn: 4.3334567\ttotal: 1m 42s\tremaining: 8m 27s\n",
      "336:\tlearn: 4.3326298\ttotal: 1m 42s\tremaining: 8m 27s\n",
      "337:\tlearn: 4.3315484\ttotal: 1m 43s\tremaining: 8m 26s\n",
      "338:\tlearn: 4.3309711\ttotal: 1m 43s\tremaining: 8m 26s\n",
      "339:\tlearn: 4.3304281\ttotal: 1m 43s\tremaining: 8m 25s\n",
      "340:\tlearn: 4.3297587\ttotal: 1m 43s\tremaining: 8m 25s\n",
      "341:\tlearn: 4.3288324\ttotal: 1m 44s\tremaining: 8m 24s\n",
      "342:\tlearn: 4.3284901\ttotal: 1m 44s\tremaining: 8m 24s\n",
      "343:\tlearn: 4.3276256\ttotal: 1m 44s\tremaining: 8m 24s\n",
      "344:\tlearn: 4.3267786\ttotal: 1m 44s\tremaining: 8m 23s\n",
      "345:\tlearn: 4.3255031\ttotal: 1m 45s\tremaining: 8m 23s\n",
      "346:\tlearn: 4.3245540\ttotal: 1m 45s\tremaining: 8m 22s\n",
      "347:\tlearn: 4.3239972\ttotal: 1m 45s\tremaining: 8m 22s\n",
      "348:\tlearn: 4.3233421\ttotal: 1m 46s\tremaining: 8m 22s\n",
      "349:\tlearn: 4.3229322\ttotal: 1m 46s\tremaining: 8m 21s\n",
      "350:\tlearn: 4.3221122\ttotal: 1m 46s\tremaining: 8m 20s\n",
      "351:\tlearn: 4.3214380\ttotal: 1m 46s\tremaining: 8m 20s\n",
      "352:\tlearn: 4.3202752\ttotal: 1m 47s\tremaining: 8m 20s\n",
      "353:\tlearn: 4.3196941\ttotal: 1m 47s\tremaining: 8m 19s\n",
      "354:\tlearn: 4.3187786\ttotal: 1m 47s\tremaining: 8m 19s\n",
      "355:\tlearn: 4.3181133\ttotal: 1m 47s\tremaining: 8m 18s\n",
      "356:\tlearn: 4.3174328\ttotal: 1m 48s\tremaining: 8m 18s\n",
      "357:\tlearn: 4.3166766\ttotal: 1m 48s\tremaining: 8m 17s\n",
      "358:\tlearn: 4.3149401\ttotal: 1m 48s\tremaining: 8m 17s\n",
      "359:\tlearn: 4.3140785\ttotal: 1m 49s\tremaining: 8m 17s\n",
      "360:\tlearn: 4.3130389\ttotal: 1m 49s\tremaining: 8m 16s\n",
      "361:\tlearn: 4.3121529\ttotal: 1m 49s\tremaining: 8m 16s\n",
      "362:\tlearn: 4.3116998\ttotal: 1m 49s\tremaining: 8m 15s\n",
      "363:\tlearn: 4.3109584\ttotal: 1m 50s\tremaining: 8m 15s\n",
      "364:\tlearn: 4.3101351\ttotal: 1m 50s\tremaining: 8m 14s\n",
      "365:\tlearn: 4.3093857\ttotal: 1m 50s\tremaining: 8m 14s\n",
      "366:\tlearn: 4.3087136\ttotal: 1m 51s\tremaining: 8m 14s\n",
      "367:\tlearn: 4.3081100\ttotal: 1m 51s\tremaining: 8m 13s\n",
      "368:\tlearn: 4.3073210\ttotal: 1m 51s\tremaining: 8m 13s\n",
      "369:\tlearn: 4.3068147\ttotal: 1m 51s\tremaining: 8m 12s\n",
      "370:\tlearn: 4.3060419\ttotal: 1m 52s\tremaining: 8m 12s\n",
      "371:\tlearn: 4.3055385\ttotal: 1m 52s\tremaining: 8m 11s\n",
      "372:\tlearn: 4.3049849\ttotal: 1m 52s\tremaining: 8m 11s\n",
      "373:\tlearn: 4.3042971\ttotal: 1m 52s\tremaining: 8m 11s\n",
      "374:\tlearn: 4.3034891\ttotal: 1m 53s\tremaining: 8m 10s\n",
      "375:\tlearn: 4.3030820\ttotal: 1m 53s\tremaining: 8m 10s\n",
      "376:\tlearn: 4.3024107\ttotal: 1m 53s\tremaining: 8m 10s\n",
      "377:\tlearn: 4.3018449\ttotal: 1m 54s\tremaining: 8m 9s\n",
      "378:\tlearn: 4.3012970\ttotal: 1m 54s\tremaining: 8m 9s\n",
      "379:\tlearn: 4.3008657\ttotal: 1m 54s\tremaining: 8m 8s\n",
      "380:\tlearn: 4.3003434\ttotal: 1m 54s\tremaining: 8m 8s\n",
      "381:\tlearn: 4.2996341\ttotal: 1m 55s\tremaining: 8m 7s\n",
      "382:\tlearn: 4.2990580\ttotal: 1m 55s\tremaining: 8m 7s\n",
      "383:\tlearn: 4.2980568\ttotal: 1m 55s\tremaining: 8m 7s\n",
      "384:\tlearn: 4.2974837\ttotal: 1m 56s\tremaining: 8m 6s\n",
      "385:\tlearn: 4.2967208\ttotal: 1m 56s\tremaining: 8m 6s\n",
      "386:\tlearn: 4.2963573\ttotal: 1m 56s\tremaining: 8m 5s\n",
      "387:\tlearn: 4.2956850\ttotal: 1m 56s\tremaining: 8m 5s\n",
      "388:\tlearn: 4.2951680\ttotal: 1m 57s\tremaining: 8m 4s\n",
      "389:\tlearn: 4.2946521\ttotal: 1m 57s\tremaining: 8m 4s\n",
      "390:\tlearn: 4.2940624\ttotal: 1m 57s\tremaining: 8m 4s\n",
      "391:\tlearn: 4.2935501\ttotal: 1m 57s\tremaining: 8m 3s\n",
      "392:\tlearn: 4.2929180\ttotal: 1m 58s\tremaining: 8m 3s\n",
      "393:\tlearn: 4.2923446\ttotal: 1m 58s\tremaining: 8m 2s\n",
      "394:\tlearn: 4.2917324\ttotal: 1m 58s\tremaining: 8m 2s\n",
      "395:\tlearn: 4.2913834\ttotal: 1m 59s\tremaining: 8m 2s\n",
      "396:\tlearn: 4.2910815\ttotal: 1m 59s\tremaining: 8m 1s\n",
      "397:\tlearn: 4.2901668\ttotal: 1m 59s\tremaining: 8m 1s\n",
      "398:\tlearn: 4.2896482\ttotal: 1m 59s\tremaining: 8m\n",
      "399:\tlearn: 4.2889843\ttotal: 2m\tremaining: 8m\n",
      "400:\tlearn: 4.2886134\ttotal: 2m\tremaining: 8m\n",
      "401:\tlearn: 4.2879834\ttotal: 2m\tremaining: 7m 59s\n",
      "402:\tlearn: 4.2872023\ttotal: 2m\tremaining: 7m 59s\n",
      "403:\tlearn: 4.2865462\ttotal: 2m 1s\tremaining: 7m 58s\n",
      "404:\tlearn: 4.2861814\ttotal: 2m 1s\tremaining: 7m 58s\n",
      "405:\tlearn: 4.2856818\ttotal: 2m 1s\tremaining: 7m 58s\n",
      "406:\tlearn: 4.2850522\ttotal: 2m 2s\tremaining: 7m 57s\n",
      "407:\tlearn: 4.2845201\ttotal: 2m 2s\tremaining: 7m 57s\n",
      "408:\tlearn: 4.2841331\ttotal: 2m 2s\tremaining: 7m 56s\n",
      "409:\tlearn: 4.2835999\ttotal: 2m 2s\tremaining: 7m 56s\n",
      "410:\tlearn: 4.2830724\ttotal: 2m 3s\tremaining: 7m 55s\n",
      "411:\tlearn: 4.2827040\ttotal: 2m 3s\tremaining: 7m 55s\n",
      "412:\tlearn: 4.2818096\ttotal: 2m 3s\tremaining: 7m 55s\n",
      "413:\tlearn: 4.2810830\ttotal: 2m 3s\tremaining: 7m 54s\n",
      "414:\tlearn: 4.2807078\ttotal: 2m 4s\tremaining: 7m 54s\n",
      "415:\tlearn: 4.2801695\ttotal: 2m 4s\tremaining: 7m 53s\n",
      "416:\tlearn: 4.2798097\ttotal: 2m 4s\tremaining: 7m 53s\n",
      "417:\tlearn: 4.2793492\ttotal: 2m 4s\tremaining: 7m 52s\n",
      "418:\tlearn: 4.2789976\ttotal: 2m 5s\tremaining: 7m 52s\n",
      "419:\tlearn: 4.2783840\ttotal: 2m 5s\tremaining: 7m 52s\n",
      "420:\tlearn: 4.2779087\ttotal: 2m 5s\tremaining: 7m 51s\n",
      "421:\tlearn: 4.2773067\ttotal: 2m 6s\tremaining: 7m 51s\n",
      "422:\tlearn: 4.2768093\ttotal: 2m 6s\tremaining: 7m 50s\n",
      "423:\tlearn: 4.2762219\ttotal: 2m 6s\tremaining: 7m 50s\n",
      "424:\tlearn: 4.2757375\ttotal: 2m 6s\tremaining: 7m 49s\n",
      "425:\tlearn: 4.2748676\ttotal: 2m 7s\tremaining: 7m 49s\n",
      "426:\tlearn: 4.2745444\ttotal: 2m 7s\tremaining: 7m 49s\n",
      "427:\tlearn: 4.2742281\ttotal: 2m 7s\tremaining: 7m 48s\n",
      "428:\tlearn: 4.2733004\ttotal: 2m 7s\tremaining: 7m 48s\n",
      "429:\tlearn: 4.2728318\ttotal: 2m 8s\tremaining: 7m 47s\n",
      "430:\tlearn: 4.2724819\ttotal: 2m 8s\tremaining: 7m 47s\n",
      "431:\tlearn: 4.2718664\ttotal: 2m 8s\tremaining: 7m 47s\n",
      "432:\tlearn: 4.2712545\ttotal: 2m 8s\tremaining: 7m 46s\n",
      "433:\tlearn: 4.2706798\ttotal: 2m 9s\tremaining: 7m 46s\n",
      "434:\tlearn: 4.2703226\ttotal: 2m 9s\tremaining: 7m 45s\n",
      "435:\tlearn: 4.2699991\ttotal: 2m 9s\tremaining: 7m 45s\n",
      "436:\tlearn: 4.2694369\ttotal: 2m 10s\tremaining: 7m 45s\n",
      "437:\tlearn: 4.2688238\ttotal: 2m 10s\tremaining: 7m 44s\n",
      "438:\tlearn: 4.2680963\ttotal: 2m 10s\tremaining: 7m 44s\n",
      "439:\tlearn: 4.2675527\ttotal: 2m 10s\tremaining: 7m 44s\n",
      "440:\tlearn: 4.2669367\ttotal: 2m 11s\tremaining: 7m 43s\n",
      "441:\tlearn: 4.2664043\ttotal: 2m 11s\tremaining: 7m 43s\n",
      "442:\tlearn: 4.2653773\ttotal: 2m 11s\tremaining: 7m 43s\n",
      "443:\tlearn: 4.2647672\ttotal: 2m 12s\tremaining: 7m 42s\n",
      "444:\tlearn: 4.2639865\ttotal: 2m 12s\tremaining: 7m 42s\n",
      "445:\tlearn: 4.2635652\ttotal: 2m 12s\tremaining: 7m 41s\n",
      "446:\tlearn: 4.2628462\ttotal: 2m 12s\tremaining: 7m 41s\n",
      "447:\tlearn: 4.2622960\ttotal: 2m 13s\tremaining: 7m 41s\n",
      "448:\tlearn: 4.2619936\ttotal: 2m 13s\tremaining: 7m 40s\n",
      "449:\tlearn: 4.2615383\ttotal: 2m 13s\tremaining: 7m 40s\n",
      "450:\tlearn: 4.2609907\ttotal: 2m 13s\tremaining: 7m 40s\n",
      "451:\tlearn: 4.2605371\ttotal: 2m 14s\tremaining: 7m 39s\n",
      "452:\tlearn: 4.2602762\ttotal: 2m 14s\tremaining: 7m 39s\n",
      "453:\tlearn: 4.2598821\ttotal: 2m 14s\tremaining: 7m 38s\n",
      "454:\tlearn: 4.2593524\ttotal: 2m 15s\tremaining: 7m 38s\n",
      "455:\tlearn: 4.2584224\ttotal: 2m 15s\tremaining: 7m 38s\n",
      "456:\tlearn: 4.2577604\ttotal: 2m 15s\tremaining: 7m 37s\n",
      "457:\tlearn: 4.2572298\ttotal: 2m 15s\tremaining: 7m 37s\n",
      "458:\tlearn: 4.2566773\ttotal: 2m 16s\tremaining: 7m 37s\n",
      "459:\tlearn: 4.2561001\ttotal: 2m 16s\tremaining: 7m 36s\n",
      "460:\tlearn: 4.2553326\ttotal: 2m 16s\tremaining: 7m 36s\n",
      "461:\tlearn: 4.2547724\ttotal: 2m 16s\tremaining: 7m 35s\n",
      "462:\tlearn: 4.2543573\ttotal: 2m 17s\tremaining: 7m 35s\n",
      "463:\tlearn: 4.2538572\ttotal: 2m 17s\tremaining: 7m 35s\n",
      "464:\tlearn: 4.2534378\ttotal: 2m 17s\tremaining: 7m 34s\n",
      "465:\tlearn: 4.2525265\ttotal: 2m 18s\tremaining: 7m 34s\n",
      "466:\tlearn: 4.2520830\ttotal: 2m 18s\tremaining: 7m 34s\n"
     ]
    },
    {
     "name": "stdout",
     "output_type": "stream",
     "text": [
      "467:\tlearn: 4.2516785\ttotal: 2m 18s\tremaining: 7m 33s\n",
      "468:\tlearn: 4.2510331\ttotal: 2m 18s\tremaining: 7m 33s\n",
      "469:\tlearn: 4.2503854\ttotal: 2m 19s\tremaining: 7m 32s\n",
      "470:\tlearn: 4.2499651\ttotal: 2m 19s\tremaining: 7m 32s\n",
      "471:\tlearn: 4.2497315\ttotal: 2m 19s\tremaining: 7m 32s\n",
      "472:\tlearn: 4.2492381\ttotal: 2m 19s\tremaining: 7m 31s\n",
      "473:\tlearn: 4.2487861\ttotal: 2m 20s\tremaining: 7m 31s\n",
      "474:\tlearn: 4.2484233\ttotal: 2m 20s\tremaining: 7m 30s\n",
      "475:\tlearn: 4.2479071\ttotal: 2m 20s\tremaining: 7m 30s\n",
      "476:\tlearn: 4.2474522\ttotal: 2m 20s\tremaining: 7m 30s\n",
      "477:\tlearn: 4.2468509\ttotal: 2m 21s\tremaining: 7m 29s\n",
      "478:\tlearn: 4.2464019\ttotal: 2m 21s\tremaining: 7m 29s\n",
      "479:\tlearn: 4.2459442\ttotal: 2m 21s\tremaining: 7m 29s\n",
      "480:\tlearn: 4.2455185\ttotal: 2m 22s\tremaining: 7m 28s\n",
      "481:\tlearn: 4.2451841\ttotal: 2m 22s\tremaining: 7m 28s\n",
      "482:\tlearn: 4.2449315\ttotal: 2m 22s\tremaining: 7m 27s\n",
      "483:\tlearn: 4.2442125\ttotal: 2m 22s\tremaining: 7m 27s\n",
      "484:\tlearn: 4.2439539\ttotal: 2m 23s\tremaining: 7m 27s\n",
      "485:\tlearn: 4.2436862\ttotal: 2m 23s\tremaining: 7m 26s\n",
      "486:\tlearn: 4.2429047\ttotal: 2m 23s\tremaining: 7m 26s\n",
      "487:\tlearn: 4.2426989\ttotal: 2m 23s\tremaining: 7m 25s\n",
      "488:\tlearn: 4.2420103\ttotal: 2m 24s\tremaining: 7m 25s\n",
      "489:\tlearn: 4.2415663\ttotal: 2m 24s\tremaining: 7m 25s\n",
      "490:\tlearn: 4.2410899\ttotal: 2m 24s\tremaining: 7m 24s\n",
      "491:\tlearn: 4.2407009\ttotal: 2m 25s\tremaining: 7m 24s\n",
      "492:\tlearn: 4.2403696\ttotal: 2m 25s\tremaining: 7m 24s\n",
      "493:\tlearn: 4.2398670\ttotal: 2m 25s\tremaining: 7m 23s\n",
      "494:\tlearn: 4.2389915\ttotal: 2m 25s\tremaining: 7m 23s\n",
      "495:\tlearn: 4.2386777\ttotal: 2m 26s\tremaining: 7m 23s\n",
      "496:\tlearn: 4.2378942\ttotal: 2m 26s\tremaining: 7m 22s\n",
      "497:\tlearn: 4.2374041\ttotal: 2m 26s\tremaining: 7m 22s\n",
      "498:\tlearn: 4.2371914\ttotal: 2m 26s\tremaining: 7m 22s\n",
      "499:\tlearn: 4.2367157\ttotal: 2m 27s\tremaining: 7m 21s\n",
      "500:\tlearn: 4.2357361\ttotal: 2m 27s\tremaining: 7m 21s\n",
      "501:\tlearn: 4.2352645\ttotal: 2m 27s\tremaining: 7m 21s\n",
      "502:\tlearn: 4.2348001\ttotal: 2m 28s\tremaining: 7m 20s\n",
      "503:\tlearn: 4.2343937\ttotal: 2m 28s\tremaining: 7m 20s\n",
      "504:\tlearn: 4.2341350\ttotal: 2m 28s\tremaining: 7m 20s\n",
      "505:\tlearn: 4.2337159\ttotal: 2m 28s\tremaining: 7m 19s\n",
      "506:\tlearn: 4.2333475\ttotal: 2m 29s\tremaining: 7m 19s\n",
      "507:\tlearn: 4.2323491\ttotal: 2m 29s\tremaining: 7m 19s\n",
      "508:\tlearn: 4.2321110\ttotal: 2m 29s\tremaining: 7m 18s\n",
      "509:\tlearn: 4.2317734\ttotal: 2m 30s\tremaining: 7m 18s\n",
      "510:\tlearn: 4.2311612\ttotal: 2m 30s\tremaining: 7m 18s\n",
      "511:\tlearn: 4.2308323\ttotal: 2m 30s\tremaining: 7m 17s\n",
      "512:\tlearn: 4.2304212\ttotal: 2m 30s\tremaining: 7m 17s\n",
      "513:\tlearn: 4.2299740\ttotal: 2m 31s\tremaining: 7m 17s\n",
      "514:\tlearn: 4.2293970\ttotal: 2m 31s\tremaining: 7m 16s\n",
      "515:\tlearn: 4.2289867\ttotal: 2m 31s\tremaining: 7m 16s\n",
      "516:\tlearn: 4.2285649\ttotal: 2m 31s\tremaining: 7m 15s\n",
      "517:\tlearn: 4.2280915\ttotal: 2m 32s\tremaining: 7m 15s\n",
      "518:\tlearn: 4.2277811\ttotal: 2m 32s\tremaining: 7m 15s\n",
      "519:\tlearn: 4.2269964\ttotal: 2m 32s\tremaining: 7m 14s\n",
      "520:\tlearn: 4.2265831\ttotal: 2m 33s\tremaining: 7m 14s\n",
      "521:\tlearn: 4.2262315\ttotal: 2m 33s\tremaining: 7m 14s\n",
      "522:\tlearn: 4.2260271\ttotal: 2m 33s\tremaining: 7m 13s\n",
      "523:\tlearn: 4.2256257\ttotal: 2m 33s\tremaining: 7m 13s\n",
      "524:\tlearn: 4.2252463\ttotal: 2m 34s\tremaining: 7m 13s\n",
      "525:\tlearn: 4.2248005\ttotal: 2m 34s\tremaining: 7m 12s\n",
      "526:\tlearn: 4.2240243\ttotal: 2m 34s\tremaining: 7m 12s\n",
      "527:\tlearn: 4.2237011\ttotal: 2m 35s\tremaining: 7m 12s\n",
      "528:\tlearn: 4.2232608\ttotal: 2m 35s\tremaining: 7m 12s\n",
      "529:\tlearn: 4.2228680\ttotal: 2m 35s\tremaining: 7m 11s\n",
      "530:\tlearn: 4.2225101\ttotal: 2m 35s\tremaining: 7m 11s\n",
      "531:\tlearn: 4.2218022\ttotal: 2m 36s\tremaining: 7m 11s\n",
      "532:\tlearn: 4.2209620\ttotal: 2m 36s\tremaining: 7m 10s\n",
      "533:\tlearn: 4.2204933\ttotal: 2m 36s\tremaining: 7m 10s\n",
      "534:\tlearn: 4.2202752\ttotal: 2m 37s\tremaining: 7m 10s\n",
      "535:\tlearn: 4.2198645\ttotal: 2m 37s\tremaining: 7m 9s\n",
      "536:\tlearn: 4.2195681\ttotal: 2m 37s\tremaining: 7m 9s\n",
      "537:\tlearn: 4.2186928\ttotal: 2m 37s\tremaining: 7m 9s\n",
      "538:\tlearn: 4.2183920\ttotal: 2m 38s\tremaining: 7m 8s\n",
      "539:\tlearn: 4.2178195\ttotal: 2m 38s\tremaining: 7m 8s\n",
      "540:\tlearn: 4.2174573\ttotal: 2m 38s\tremaining: 7m 8s\n",
      "541:\tlearn: 4.2170437\ttotal: 2m 39s\tremaining: 7m 7s\n",
      "542:\tlearn: 4.2165833\ttotal: 2m 39s\tremaining: 7m 7s\n",
      "543:\tlearn: 4.2161238\ttotal: 2m 39s\tremaining: 7m 7s\n",
      "544:\tlearn: 4.2158122\ttotal: 2m 39s\tremaining: 7m 6s\n",
      "545:\tlearn: 4.2155927\ttotal: 2m 40s\tremaining: 7m 6s\n",
      "546:\tlearn: 4.2150975\ttotal: 2m 40s\tremaining: 7m 6s\n",
      "547:\tlearn: 4.2148484\ttotal: 2m 40s\tremaining: 7m 5s\n",
      "548:\tlearn: 4.2145087\ttotal: 2m 40s\tremaining: 7m 5s\n",
      "549:\tlearn: 4.2136893\ttotal: 2m 41s\tremaining: 7m 5s\n",
      "550:\tlearn: 4.2130835\ttotal: 2m 41s\tremaining: 7m 4s\n",
      "551:\tlearn: 4.2127960\ttotal: 2m 41s\tremaining: 7m 4s\n",
      "552:\tlearn: 4.2122932\ttotal: 2m 42s\tremaining: 7m 4s\n",
      "553:\tlearn: 4.2121215\ttotal: 2m 42s\tremaining: 7m 3s\n",
      "554:\tlearn: 4.2118560\ttotal: 2m 42s\tremaining: 7m 3s\n",
      "555:\tlearn: 4.2115925\ttotal: 2m 42s\tremaining: 7m 3s\n",
      "556:\tlearn: 4.2113374\ttotal: 2m 43s\tremaining: 7m 2s\n",
      "557:\tlearn: 4.2111660\ttotal: 2m 43s\tremaining: 7m 2s\n",
      "558:\tlearn: 4.2107531\ttotal: 2m 43s\tremaining: 7m 1s\n",
      "559:\tlearn: 4.2102931\ttotal: 2m 43s\tremaining: 7m 1s\n",
      "560:\tlearn: 4.2098443\ttotal: 2m 44s\tremaining: 7m 1s\n",
      "561:\tlearn: 4.2094753\ttotal: 2m 44s\tremaining: 7m\n",
      "562:\tlearn: 4.2088124\ttotal: 2m 44s\tremaining: 7m\n",
      "563:\tlearn: 4.2083522\ttotal: 2m 45s\tremaining: 7m\n",
      "564:\tlearn: 4.2079926\ttotal: 2m 45s\tremaining: 6m 59s\n",
      "565:\tlearn: 4.2074341\ttotal: 2m 45s\tremaining: 6m 59s\n",
      "566:\tlearn: 4.2068091\ttotal: 2m 45s\tremaining: 6m 59s\n",
      "567:\tlearn: 4.2061288\ttotal: 2m 46s\tremaining: 6m 58s\n",
      "568:\tlearn: 4.2056908\ttotal: 2m 46s\tremaining: 6m 58s\n",
      "569:\tlearn: 4.2052848\ttotal: 2m 46s\tremaining: 6m 58s\n",
      "570:\tlearn: 4.2043969\ttotal: 2m 47s\tremaining: 6m 57s\n",
      "571:\tlearn: 4.2038856\ttotal: 2m 47s\tremaining: 6m 57s\n",
      "572:\tlearn: 4.2031844\ttotal: 2m 47s\tremaining: 6m 57s\n",
      "573:\tlearn: 4.2023541\ttotal: 2m 47s\tremaining: 6m 57s\n",
      "574:\tlearn: 4.2017405\ttotal: 2m 48s\tremaining: 6m 56s\n",
      "575:\tlearn: 4.2013467\ttotal: 2m 48s\tremaining: 6m 56s\n",
      "576:\tlearn: 4.2011407\ttotal: 2m 48s\tremaining: 6m 56s\n",
      "577:\tlearn: 4.2006256\ttotal: 2m 48s\tremaining: 6m 55s\n",
      "578:\tlearn: 4.2001918\ttotal: 2m 49s\tremaining: 6m 55s\n",
      "579:\tlearn: 4.1998092\ttotal: 2m 49s\tremaining: 6m 54s\n",
      "580:\tlearn: 4.1995792\ttotal: 2m 49s\tremaining: 6m 54s\n",
      "581:\tlearn: 4.1988168\ttotal: 2m 50s\tremaining: 6m 54s\n",
      "582:\tlearn: 4.1986146\ttotal: 2m 50s\tremaining: 6m 53s\n",
      "583:\tlearn: 4.1981907\ttotal: 2m 50s\tremaining: 6m 53s\n",
      "584:\tlearn: 4.1979207\ttotal: 2m 50s\tremaining: 6m 53s\n",
      "585:\tlearn: 4.1975959\ttotal: 2m 51s\tremaining: 6m 52s\n",
      "586:\tlearn: 4.1968734\ttotal: 2m 51s\tremaining: 6m 52s\n",
      "587:\tlearn: 4.1963741\ttotal: 2m 51s\tremaining: 6m 52s\n",
      "588:\tlearn: 4.1958244\ttotal: 2m 51s\tremaining: 6m 51s\n",
      "589:\tlearn: 4.1955482\ttotal: 2m 52s\tremaining: 6m 51s\n",
      "590:\tlearn: 4.1952968\ttotal: 2m 52s\tremaining: 6m 51s\n",
      "591:\tlearn: 4.1949631\ttotal: 2m 52s\tremaining: 6m 50s\n",
      "592:\tlearn: 4.1944201\ttotal: 2m 52s\tremaining: 6m 50s\n",
      "593:\tlearn: 4.1937157\ttotal: 2m 53s\tremaining: 6m 50s\n",
      "594:\tlearn: 4.1933604\ttotal: 2m 53s\tremaining: 6m 49s\n",
      "595:\tlearn: 4.1927834\ttotal: 2m 53s\tremaining: 6m 49s\n",
      "596:\tlearn: 4.1919514\ttotal: 2m 54s\tremaining: 6m 49s\n",
      "597:\tlearn: 4.1911819\ttotal: 2m 54s\tremaining: 6m 48s\n",
      "598:\tlearn: 4.1907512\ttotal: 2m 54s\tremaining: 6m 48s\n",
      "599:\tlearn: 4.1905786\ttotal: 2m 54s\tremaining: 6m 48s\n",
      "600:\tlearn: 4.1903138\ttotal: 2m 55s\tremaining: 6m 47s\n",
      "601:\tlearn: 4.1899494\ttotal: 2m 55s\tremaining: 6m 47s\n",
      "602:\tlearn: 4.1895434\ttotal: 2m 55s\tremaining: 6m 47s\n",
      "603:\tlearn: 4.1891614\ttotal: 2m 55s\tremaining: 6m 46s\n",
      "604:\tlearn: 4.1889487\ttotal: 2m 56s\tremaining: 6m 46s\n",
      "605:\tlearn: 4.1883191\ttotal: 2m 56s\tremaining: 6m 46s\n",
      "606:\tlearn: 4.1876219\ttotal: 2m 56s\tremaining: 6m 45s\n",
      "607:\tlearn: 4.1873941\ttotal: 2m 57s\tremaining: 6m 45s\n",
      "608:\tlearn: 4.1870183\ttotal: 2m 57s\tremaining: 6m 45s\n",
      "609:\tlearn: 4.1865355\ttotal: 2m 57s\tremaining: 6m 44s\n",
      "610:\tlearn: 4.1857888\ttotal: 2m 57s\tremaining: 6m 44s\n",
      "611:\tlearn: 4.1854219\ttotal: 2m 58s\tremaining: 6m 44s\n",
      "612:\tlearn: 4.1852907\ttotal: 2m 58s\tremaining: 6m 43s\n",
      "613:\tlearn: 4.1846465\ttotal: 2m 58s\tremaining: 6m 43s\n",
      "614:\tlearn: 4.1843093\ttotal: 2m 59s\tremaining: 6m 43s\n",
      "615:\tlearn: 4.1839946\ttotal: 2m 59s\tremaining: 6m 43s\n",
      "616:\tlearn: 4.1834441\ttotal: 2m 59s\tremaining: 6m 42s\n",
      "617:\tlearn: 4.1832229\ttotal: 2m 59s\tremaining: 6m 42s\n",
      "618:\tlearn: 4.1829918\ttotal: 3m\tremaining: 6m 41s\n",
      "619:\tlearn: 4.1823604\ttotal: 3m\tremaining: 6m 41s\n"
     ]
    },
    {
     "name": "stdout",
     "output_type": "stream",
     "text": [
      "620:\tlearn: 4.1819906\ttotal: 3m\tremaining: 6m 41s\n",
      "621:\tlearn: 4.1816810\ttotal: 3m 1s\tremaining: 6m 40s\n",
      "622:\tlearn: 4.1807802\ttotal: 3m 1s\tremaining: 6m 40s\n",
      "623:\tlearn: 4.1801593\ttotal: 3m 1s\tremaining: 6m 40s\n",
      "624:\tlearn: 4.1798800\ttotal: 3m 1s\tremaining: 6m 40s\n",
      "625:\tlearn: 4.1794661\ttotal: 3m 2s\tremaining: 6m 39s\n",
      "626:\tlearn: 4.1793293\ttotal: 3m 2s\tremaining: 6m 39s\n",
      "627:\tlearn: 4.1789171\ttotal: 3m 2s\tremaining: 6m 39s\n",
      "628:\tlearn: 4.1781503\ttotal: 3m 3s\tremaining: 6m 38s\n",
      "629:\tlearn: 4.1779363\ttotal: 3m 3s\tremaining: 6m 38s\n",
      "630:\tlearn: 4.1775629\ttotal: 3m 3s\tremaining: 6m 38s\n",
      "631:\tlearn: 4.1774268\ttotal: 3m 3s\tremaining: 6m 38s\n",
      "632:\tlearn: 4.1772411\ttotal: 3m 4s\tremaining: 6m 37s\n",
      "633:\tlearn: 4.1768834\ttotal: 3m 4s\tremaining: 6m 37s\n",
      "634:\tlearn: 4.1763641\ttotal: 3m 4s\tremaining: 6m 37s\n",
      "635:\tlearn: 4.1757837\ttotal: 3m 5s\tremaining: 6m 36s\n",
      "636:\tlearn: 4.1754082\ttotal: 3m 5s\tremaining: 6m 36s\n",
      "637:\tlearn: 4.1749362\ttotal: 3m 5s\tremaining: 6m 36s\n",
      "638:\tlearn: 4.1747120\ttotal: 3m 6s\tremaining: 6m 36s\n",
      "639:\tlearn: 4.1743481\ttotal: 3m 6s\tremaining: 6m 36s\n",
      "640:\tlearn: 4.1739415\ttotal: 3m 6s\tremaining: 6m 35s\n",
      "641:\tlearn: 4.1734286\ttotal: 3m 6s\tremaining: 6m 35s\n",
      "642:\tlearn: 4.1731805\ttotal: 3m 7s\tremaining: 6m 35s\n",
      "643:\tlearn: 4.1728663\ttotal: 3m 7s\tremaining: 6m 34s\n",
      "644:\tlearn: 4.1723965\ttotal: 3m 7s\tremaining: 6m 34s\n",
      "645:\tlearn: 4.1718055\ttotal: 3m 8s\tremaining: 6m 34s\n",
      "646:\tlearn: 4.1715849\ttotal: 3m 8s\tremaining: 6m 33s\n",
      "647:\tlearn: 4.1713718\ttotal: 3m 8s\tremaining: 6m 33s\n",
      "648:\tlearn: 4.1710374\ttotal: 3m 9s\tremaining: 6m 33s\n",
      "649:\tlearn: 4.1706575\ttotal: 3m 9s\tremaining: 6m 33s\n",
      "650:\tlearn: 4.1699111\ttotal: 3m 9s\tremaining: 6m 33s\n",
      "651:\tlearn: 4.1697986\ttotal: 3m 10s\tremaining: 6m 32s\n",
      "652:\tlearn: 4.1691556\ttotal: 3m 10s\tremaining: 6m 32s\n",
      "653:\tlearn: 4.1689143\ttotal: 3m 10s\tremaining: 6m 32s\n",
      "654:\tlearn: 4.1683215\ttotal: 3m 11s\tremaining: 6m 32s\n",
      "655:\tlearn: 4.1675395\ttotal: 3m 11s\tremaining: 6m 32s\n",
      "656:\tlearn: 4.1672476\ttotal: 3m 11s\tremaining: 6m 32s\n",
      "657:\tlearn: 4.1667190\ttotal: 3m 12s\tremaining: 6m 32s\n",
      "658:\tlearn: 4.1662303\ttotal: 3m 12s\tremaining: 6m 32s\n",
      "659:\tlearn: 4.1658296\ttotal: 3m 13s\tremaining: 6m 31s\n",
      "660:\tlearn: 4.1655916\ttotal: 3m 13s\tremaining: 6m 31s\n",
      "661:\tlearn: 4.1648556\ttotal: 3m 13s\tremaining: 6m 31s\n",
      "662:\tlearn: 4.1643347\ttotal: 3m 14s\tremaining: 6m 31s\n",
      "663:\tlearn: 4.1641374\ttotal: 3m 14s\tremaining: 6m 31s\n",
      "664:\tlearn: 4.1637187\ttotal: 3m 14s\tremaining: 6m 30s\n",
      "665:\tlearn: 4.1628272\ttotal: 3m 15s\tremaining: 6m 30s\n",
      "666:\tlearn: 4.1623320\ttotal: 3m 15s\tremaining: 6m 30s\n",
      "667:\tlearn: 4.1618384\ttotal: 3m 15s\tremaining: 6m 30s\n",
      "668:\tlearn: 4.1614274\ttotal: 3m 15s\tremaining: 6m 29s\n",
      "669:\tlearn: 4.1612908\ttotal: 3m 16s\tremaining: 6m 29s\n",
      "670:\tlearn: 4.1609207\ttotal: 3m 16s\tremaining: 6m 29s\n",
      "671:\tlearn: 4.1605834\ttotal: 3m 16s\tremaining: 6m 29s\n",
      "672:\tlearn: 4.1603981\ttotal: 3m 17s\tremaining: 6m 28s\n",
      "673:\tlearn: 4.1600459\ttotal: 3m 17s\tremaining: 6m 28s\n",
      "674:\tlearn: 4.1596356\ttotal: 3m 17s\tremaining: 6m 28s\n",
      "675:\tlearn: 4.1591148\ttotal: 3m 18s\tremaining: 6m 27s\n",
      "676:\tlearn: 4.1585804\ttotal: 3m 18s\tremaining: 6m 27s\n",
      "677:\tlearn: 4.1582215\ttotal: 3m 18s\tremaining: 6m 27s\n",
      "678:\tlearn: 4.1578493\ttotal: 3m 18s\tremaining: 6m 26s\n",
      "679:\tlearn: 4.1576035\ttotal: 3m 19s\tremaining: 6m 26s\n",
      "680:\tlearn: 4.1573474\ttotal: 3m 19s\tremaining: 6m 26s\n",
      "681:\tlearn: 4.1568345\ttotal: 3m 19s\tremaining: 6m 26s\n",
      "682:\tlearn: 4.1566686\ttotal: 3m 20s\tremaining: 6m 25s\n",
      "683:\tlearn: 4.1559106\ttotal: 3m 20s\tremaining: 6m 25s\n",
      "684:\tlearn: 4.1556190\ttotal: 3m 20s\tremaining: 6m 25s\n",
      "685:\tlearn: 4.1551249\ttotal: 3m 20s\tremaining: 6m 24s\n",
      "686:\tlearn: 4.1549239\ttotal: 3m 21s\tremaining: 6m 24s\n",
      "687:\tlearn: 4.1542224\ttotal: 3m 21s\tremaining: 6m 24s\n",
      "688:\tlearn: 4.1538269\ttotal: 3m 21s\tremaining: 6m 23s\n",
      "689:\tlearn: 4.1536641\ttotal: 3m 22s\tremaining: 6m 23s\n",
      "690:\tlearn: 4.1529152\ttotal: 3m 22s\tremaining: 6m 23s\n",
      "691:\tlearn: 4.1525727\ttotal: 3m 22s\tremaining: 6m 22s\n",
      "692:\tlearn: 4.1524575\ttotal: 3m 22s\tremaining: 6m 22s\n",
      "693:\tlearn: 4.1521521\ttotal: 3m 23s\tremaining: 6m 22s\n",
      "694:\tlearn: 4.1514456\ttotal: 3m 23s\tremaining: 6m 21s\n",
      "695:\tlearn: 4.1507884\ttotal: 3m 23s\tremaining: 6m 21s\n",
      "696:\tlearn: 4.1504838\ttotal: 3m 23s\tremaining: 6m 21s\n",
      "697:\tlearn: 4.1497547\ttotal: 3m 24s\tremaining: 6m 21s\n",
      "698:\tlearn: 4.1493077\ttotal: 3m 24s\tremaining: 6m 20s\n",
      "699:\tlearn: 4.1485942\ttotal: 3m 24s\tremaining: 6m 20s\n",
      "700:\tlearn: 4.1477959\ttotal: 3m 25s\tremaining: 6m 20s\n",
      "701:\tlearn: 4.1472329\ttotal: 3m 25s\tremaining: 6m 19s\n",
      "702:\tlearn: 4.1468525\ttotal: 3m 25s\tremaining: 6m 19s\n",
      "703:\tlearn: 4.1459924\ttotal: 3m 25s\tremaining: 6m 19s\n",
      "704:\tlearn: 4.1456480\ttotal: 3m 26s\tremaining: 6m 18s\n",
      "705:\tlearn: 4.1449527\ttotal: 3m 26s\tremaining: 6m 18s\n",
      "706:\tlearn: 4.1442257\ttotal: 3m 26s\tremaining: 6m 18s\n",
      "707:\tlearn: 4.1434637\ttotal: 3m 27s\tremaining: 6m 18s\n",
      "708:\tlearn: 4.1428846\ttotal: 3m 27s\tremaining: 6m 17s\n",
      "709:\tlearn: 4.1426354\ttotal: 3m 27s\tremaining: 6m 17s\n",
      "710:\tlearn: 4.1421736\ttotal: 3m 27s\tremaining: 6m 17s\n",
      "711:\tlearn: 4.1418280\ttotal: 3m 28s\tremaining: 6m 16s\n",
      "712:\tlearn: 4.1413027\ttotal: 3m 28s\tremaining: 6m 16s\n",
      "713:\tlearn: 4.1405698\ttotal: 3m 28s\tremaining: 6m 16s\n",
      "714:\tlearn: 4.1402330\ttotal: 3m 29s\tremaining: 6m 15s\n",
      "715:\tlearn: 4.1400036\ttotal: 3m 29s\tremaining: 6m 15s\n",
      "716:\tlearn: 4.1390645\ttotal: 3m 29s\tremaining: 6m 15s\n",
      "717:\tlearn: 4.1385034\ttotal: 3m 30s\tremaining: 6m 15s\n",
      "718:\tlearn: 4.1382282\ttotal: 3m 30s\tremaining: 6m 14s\n",
      "719:\tlearn: 4.1379133\ttotal: 3m 30s\tremaining: 6m 14s\n",
      "720:\tlearn: 4.1377654\ttotal: 3m 30s\tremaining: 6m 14s\n",
      "721:\tlearn: 4.1371071\ttotal: 3m 31s\tremaining: 6m 13s\n",
      "722:\tlearn: 4.1369805\ttotal: 3m 31s\tremaining: 6m 13s\n",
      "723:\tlearn: 4.1365179\ttotal: 3m 31s\tremaining: 6m 13s\n",
      "724:\tlearn: 4.1360200\ttotal: 3m 32s\tremaining: 6m 13s\n",
      "725:\tlearn: 4.1356706\ttotal: 3m 32s\tremaining: 6m 12s\n",
      "726:\tlearn: 4.1350232\ttotal: 3m 32s\tremaining: 6m 12s\n",
      "727:\tlearn: 4.1342841\ttotal: 3m 33s\tremaining: 6m 12s\n",
      "728:\tlearn: 4.1340623\ttotal: 3m 33s\tremaining: 6m 11s\n",
      "729:\tlearn: 4.1337008\ttotal: 3m 33s\tremaining: 6m 11s\n",
      "730:\tlearn: 4.1334065\ttotal: 3m 33s\tremaining: 6m 11s\n",
      "731:\tlearn: 4.1330385\ttotal: 3m 34s\tremaining: 6m 10s\n",
      "732:\tlearn: 4.1321464\ttotal: 3m 34s\tremaining: 6m 10s\n",
      "733:\tlearn: 4.1318624\ttotal: 3m 34s\tremaining: 6m 10s\n",
      "734:\tlearn: 4.1311475\ttotal: 3m 35s\tremaining: 6m 10s\n",
      "735:\tlearn: 4.1305645\ttotal: 3m 35s\tremaining: 6m 9s\n",
      "736:\tlearn: 4.1303134\ttotal: 3m 35s\tremaining: 6m 9s\n",
      "737:\tlearn: 4.1293775\ttotal: 3m 35s\tremaining: 6m 9s\n",
      "738:\tlearn: 4.1290503\ttotal: 3m 36s\tremaining: 6m 8s\n",
      "739:\tlearn: 4.1288116\ttotal: 3m 36s\tremaining: 6m 8s\n",
      "740:\tlearn: 4.1281344\ttotal: 3m 36s\tremaining: 6m 8s\n",
      "741:\tlearn: 4.1278594\ttotal: 3m 37s\tremaining: 6m 7s\n",
      "742:\tlearn: 4.1275450\ttotal: 3m 37s\tremaining: 6m 7s\n",
      "743:\tlearn: 4.1269673\ttotal: 3m 37s\tremaining: 6m 7s\n",
      "744:\tlearn: 4.1265579\ttotal: 3m 37s\tremaining: 6m 6s\n",
      "745:\tlearn: 4.1263520\ttotal: 3m 38s\tremaining: 6m 6s\n",
      "746:\tlearn: 4.1261285\ttotal: 3m 38s\tremaining: 6m 6s\n",
      "747:\tlearn: 4.1253786\ttotal: 3m 38s\tremaining: 6m 6s\n",
      "748:\tlearn: 4.1249969\ttotal: 3m 38s\tremaining: 6m 5s\n",
      "749:\tlearn: 4.1244246\ttotal: 3m 39s\tremaining: 6m 5s\n",
      "750:\tlearn: 4.1240888\ttotal: 3m 39s\tremaining: 6m 5s\n",
      "751:\tlearn: 4.1238049\ttotal: 3m 39s\tremaining: 6m 4s\n",
      "752:\tlearn: 4.1231835\ttotal: 3m 40s\tremaining: 6m 4s\n",
      "753:\tlearn: 4.1230913\ttotal: 3m 40s\tremaining: 6m 4s\n",
      "754:\tlearn: 4.1228211\ttotal: 3m 40s\tremaining: 6m 3s\n",
      "755:\tlearn: 4.1222695\ttotal: 3m 40s\tremaining: 6m 3s\n",
      "756:\tlearn: 4.1218539\ttotal: 3m 41s\tremaining: 6m 3s\n",
      "757:\tlearn: 4.1217037\ttotal: 3m 41s\tremaining: 6m 3s\n",
      "758:\tlearn: 4.1214720\ttotal: 3m 41s\tremaining: 6m 2s\n",
      "759:\tlearn: 4.1211045\ttotal: 3m 42s\tremaining: 6m 2s\n",
      "760:\tlearn: 4.1210169\ttotal: 3m 42s\tremaining: 6m 2s\n",
      "761:\tlearn: 4.1207700\ttotal: 3m 42s\tremaining: 6m 1s\n",
      "762:\tlearn: 4.1204626\ttotal: 3m 42s\tremaining: 6m 1s\n",
      "763:\tlearn: 4.1200749\ttotal: 3m 43s\tremaining: 6m 1s\n",
      "764:\tlearn: 4.1198879\ttotal: 3m 43s\tremaining: 6m\n",
      "765:\tlearn: 4.1195242\ttotal: 3m 43s\tremaining: 6m\n",
      "766:\tlearn: 4.1191841\ttotal: 3m 44s\tremaining: 6m\n",
      "767:\tlearn: 4.1186091\ttotal: 3m 44s\tremaining: 5m 59s\n",
      "768:\tlearn: 4.1182554\ttotal: 3m 44s\tremaining: 5m 59s\n",
      "769:\tlearn: 4.1175966\ttotal: 3m 44s\tremaining: 5m 59s\n",
      "770:\tlearn: 4.1172520\ttotal: 3m 45s\tremaining: 5m 59s\n",
      "771:\tlearn: 4.1169415\ttotal: 3m 45s\tremaining: 5m 58s\n",
      "772:\tlearn: 4.1166467\ttotal: 3m 45s\tremaining: 5m 58s\n",
      "773:\tlearn: 4.1164218\ttotal: 3m 46s\tremaining: 5m 58s\n"
     ]
    },
    {
     "name": "stdout",
     "output_type": "stream",
     "text": [
      "774:\tlearn: 4.1162170\ttotal: 3m 46s\tremaining: 5m 57s\n",
      "775:\tlearn: 4.1156433\ttotal: 3m 46s\tremaining: 5m 57s\n",
      "776:\tlearn: 4.1155465\ttotal: 3m 46s\tremaining: 5m 57s\n",
      "777:\tlearn: 4.1153460\ttotal: 3m 47s\tremaining: 5m 56s\n",
      "778:\tlearn: 4.1151533\ttotal: 3m 47s\tremaining: 5m 56s\n",
      "779:\tlearn: 4.1148302\ttotal: 3m 47s\tremaining: 5m 56s\n",
      "780:\tlearn: 4.1145744\ttotal: 3m 47s\tremaining: 5m 55s\n",
      "781:\tlearn: 4.1142558\ttotal: 3m 48s\tremaining: 5m 55s\n",
      "782:\tlearn: 4.1139178\ttotal: 3m 48s\tremaining: 5m 55s\n",
      "783:\tlearn: 4.1137126\ttotal: 3m 48s\tremaining: 5m 54s\n",
      "784:\tlearn: 4.1134021\ttotal: 3m 49s\tremaining: 5m 54s\n",
      "785:\tlearn: 4.1131646\ttotal: 3m 49s\tremaining: 5m 54s\n",
      "786:\tlearn: 4.1130483\ttotal: 3m 49s\tremaining: 5m 53s\n",
      "787:\tlearn: 4.1123879\ttotal: 3m 49s\tremaining: 5m 53s\n",
      "788:\tlearn: 4.1120612\ttotal: 3m 50s\tremaining: 5m 53s\n",
      "789:\tlearn: 4.1114258\ttotal: 3m 50s\tremaining: 5m 53s\n",
      "790:\tlearn: 4.1106794\ttotal: 3m 50s\tremaining: 5m 52s\n",
      "791:\tlearn: 4.1104219\ttotal: 3m 51s\tremaining: 5m 52s\n",
      "792:\tlearn: 4.1102825\ttotal: 3m 51s\tremaining: 5m 52s\n",
      "793:\tlearn: 4.1098100\ttotal: 3m 51s\tremaining: 5m 51s\n",
      "794:\tlearn: 4.1095367\ttotal: 3m 51s\tremaining: 5m 51s\n",
      "795:\tlearn: 4.1089582\ttotal: 3m 52s\tremaining: 5m 51s\n",
      "796:\tlearn: 4.1086056\ttotal: 3m 52s\tremaining: 5m 50s\n",
      "797:\tlearn: 4.1084443\ttotal: 3m 52s\tremaining: 5m 50s\n",
      "798:\tlearn: 4.1082799\ttotal: 3m 52s\tremaining: 5m 50s\n",
      "799:\tlearn: 4.1080194\ttotal: 3m 53s\tremaining: 5m 49s\n",
      "800:\tlearn: 4.1077160\ttotal: 3m 53s\tremaining: 5m 49s\n",
      "801:\tlearn: 4.1072496\ttotal: 3m 53s\tremaining: 5m 49s\n",
      "802:\tlearn: 4.1066836\ttotal: 3m 54s\tremaining: 5m 49s\n",
      "803:\tlearn: 4.1063460\ttotal: 3m 54s\tremaining: 5m 48s\n",
      "804:\tlearn: 4.1058359\ttotal: 3m 54s\tremaining: 5m 48s\n",
      "805:\tlearn: 4.1052390\ttotal: 3m 55s\tremaining: 5m 48s\n",
      "806:\tlearn: 4.1049415\ttotal: 3m 55s\tremaining: 5m 47s\n",
      "807:\tlearn: 4.1046269\ttotal: 3m 55s\tremaining: 5m 47s\n",
      "808:\tlearn: 4.1042052\ttotal: 3m 55s\tremaining: 5m 47s\n",
      "809:\tlearn: 4.1040103\ttotal: 3m 56s\tremaining: 5m 46s\n",
      "810:\tlearn: 4.1036064\ttotal: 3m 56s\tremaining: 5m 46s\n",
      "811:\tlearn: 4.1032767\ttotal: 3m 56s\tremaining: 5m 46s\n",
      "812:\tlearn: 4.1026099\ttotal: 3m 57s\tremaining: 5m 46s\n",
      "813:\tlearn: 4.1023481\ttotal: 3m 57s\tremaining: 5m 45s\n",
      "814:\tlearn: 4.1020736\ttotal: 3m 57s\tremaining: 5m 45s\n",
      "815:\tlearn: 4.1015473\ttotal: 3m 57s\tremaining: 5m 45s\n",
      "816:\tlearn: 4.1011342\ttotal: 3m 58s\tremaining: 5m 44s\n",
      "817:\tlearn: 4.1008443\ttotal: 3m 58s\tremaining: 5m 44s\n",
      "818:\tlearn: 4.1006551\ttotal: 3m 58s\tremaining: 5m 44s\n",
      "819:\tlearn: 4.1000079\ttotal: 3m 59s\tremaining: 5m 44s\n",
      "820:\tlearn: 4.0996345\ttotal: 3m 59s\tremaining: 5m 43s\n",
      "821:\tlearn: 4.0994168\ttotal: 3m 59s\tremaining: 5m 43s\n",
      "822:\tlearn: 4.0990771\ttotal: 3m 59s\tremaining: 5m 43s\n",
      "823:\tlearn: 4.0988166\ttotal: 4m\tremaining: 5m 42s\n",
      "824:\tlearn: 4.0984766\ttotal: 4m\tremaining: 5m 42s\n",
      "825:\tlearn: 4.0982746\ttotal: 4m\tremaining: 5m 42s\n",
      "826:\tlearn: 4.0976112\ttotal: 4m 1s\tremaining: 5m 41s\n",
      "827:\tlearn: 4.0974740\ttotal: 4m 1s\tremaining: 5m 41s\n",
      "828:\tlearn: 4.0970943\ttotal: 4m 1s\tremaining: 5m 41s\n",
      "829:\tlearn: 4.0964567\ttotal: 4m 1s\tremaining: 5m 41s\n",
      "830:\tlearn: 4.0960191\ttotal: 4m 2s\tremaining: 5m 40s\n",
      "831:\tlearn: 4.0955374\ttotal: 4m 2s\tremaining: 5m 40s\n",
      "832:\tlearn: 4.0951963\ttotal: 4m 2s\tremaining: 5m 40s\n",
      "833:\tlearn: 4.0947450\ttotal: 4m 3s\tremaining: 5m 39s\n",
      "834:\tlearn: 4.0940183\ttotal: 4m 3s\tremaining: 5m 39s\n",
      "835:\tlearn: 4.0937527\ttotal: 4m 3s\tremaining: 5m 39s\n",
      "836:\tlearn: 4.0934393\ttotal: 4m 3s\tremaining: 5m 38s\n",
      "837:\tlearn: 4.0928497\ttotal: 4m 4s\tremaining: 5m 38s\n",
      "838:\tlearn: 4.0921067\ttotal: 4m 4s\tremaining: 5m 38s\n",
      "839:\tlearn: 4.0918324\ttotal: 4m 4s\tremaining: 5m 37s\n",
      "840:\tlearn: 4.0913860\ttotal: 4m 5s\tremaining: 5m 37s\n",
      "841:\tlearn: 4.0910977\ttotal: 4m 5s\tremaining: 5m 37s\n",
      "842:\tlearn: 4.0908016\ttotal: 4m 5s\tremaining: 5m 37s\n",
      "843:\tlearn: 4.0900754\ttotal: 4m 5s\tremaining: 5m 36s\n",
      "844:\tlearn: 4.0896782\ttotal: 4m 6s\tremaining: 5m 36s\n",
      "845:\tlearn: 4.0894512\ttotal: 4m 6s\tremaining: 5m 36s\n",
      "846:\tlearn: 4.0892566\ttotal: 4m 6s\tremaining: 5m 35s\n",
      "847:\tlearn: 4.0891670\ttotal: 4m 6s\tremaining: 5m 35s\n",
      "848:\tlearn: 4.0883396\ttotal: 4m 7s\tremaining: 5m 35s\n",
      "849:\tlearn: 4.0880780\ttotal: 4m 7s\tremaining: 5m 34s\n",
      "850:\tlearn: 4.0875147\ttotal: 4m 7s\tremaining: 5m 34s\n",
      "851:\tlearn: 4.0867826\ttotal: 4m 8s\tremaining: 5m 34s\n",
      "852:\tlearn: 4.0865088\ttotal: 4m 8s\tremaining: 5m 34s\n",
      "853:\tlearn: 4.0864073\ttotal: 4m 8s\tremaining: 5m 33s\n",
      "854:\tlearn: 4.0860190\ttotal: 4m 8s\tremaining: 5m 33s\n",
      "855:\tlearn: 4.0854332\ttotal: 4m 9s\tremaining: 5m 33s\n",
      "856:\tlearn: 4.0850826\ttotal: 4m 9s\tremaining: 5m 32s\n",
      "857:\tlearn: 4.0842746\ttotal: 4m 9s\tremaining: 5m 32s\n",
      "858:\tlearn: 4.0841448\ttotal: 4m 10s\tremaining: 5m 32s\n",
      "859:\tlearn: 4.0835747\ttotal: 4m 10s\tremaining: 5m 31s\n",
      "860:\tlearn: 4.0828774\ttotal: 4m 10s\tremaining: 5m 31s\n",
      "861:\tlearn: 4.0825643\ttotal: 4m 10s\tremaining: 5m 31s\n",
      "862:\tlearn: 4.0821267\ttotal: 4m 11s\tremaining: 5m 30s\n",
      "863:\tlearn: 4.0815317\ttotal: 4m 11s\tremaining: 5m 30s\n",
      "864:\tlearn: 4.0813761\ttotal: 4m 11s\tremaining: 5m 30s\n",
      "865:\tlearn: 4.0811339\ttotal: 4m 12s\tremaining: 5m 30s\n",
      "866:\tlearn: 4.0807305\ttotal: 4m 12s\tremaining: 5m 29s\n",
      "867:\tlearn: 4.0803248\ttotal: 4m 12s\tremaining: 5m 29s\n",
      "868:\tlearn: 4.0800686\ttotal: 4m 12s\tremaining: 5m 29s\n",
      "869:\tlearn: 4.0797639\ttotal: 4m 13s\tremaining: 5m 28s\n",
      "870:\tlearn: 4.0794594\ttotal: 4m 13s\tremaining: 5m 28s\n",
      "871:\tlearn: 4.0791917\ttotal: 4m 13s\tremaining: 5m 28s\n",
      "872:\tlearn: 4.0788184\ttotal: 4m 14s\tremaining: 5m 28s\n",
      "873:\tlearn: 4.0785935\ttotal: 4m 14s\tremaining: 5m 27s\n",
      "874:\tlearn: 4.0778165\ttotal: 4m 14s\tremaining: 5m 27s\n",
      "875:\tlearn: 4.0775549\ttotal: 4m 15s\tremaining: 5m 27s\n",
      "876:\tlearn: 4.0770798\ttotal: 4m 15s\tremaining: 5m 26s\n",
      "877:\tlearn: 4.0765343\ttotal: 4m 15s\tremaining: 5m 26s\n",
      "878:\tlearn: 4.0758776\ttotal: 4m 16s\tremaining: 5m 26s\n",
      "879:\tlearn: 4.0755137\ttotal: 4m 16s\tremaining: 5m 26s\n",
      "880:\tlearn: 4.0752794\ttotal: 4m 16s\tremaining: 5m 26s\n",
      "881:\tlearn: 4.0751446\ttotal: 4m 16s\tremaining: 5m 25s\n",
      "882:\tlearn: 4.0747667\ttotal: 4m 17s\tremaining: 5m 25s\n",
      "883:\tlearn: 4.0745053\ttotal: 4m 17s\tremaining: 5m 25s\n",
      "884:\tlearn: 4.0743497\ttotal: 4m 17s\tremaining: 5m 25s\n",
      "885:\tlearn: 4.0739483\ttotal: 4m 18s\tremaining: 5m 24s\n",
      "886:\tlearn: 4.0736440\ttotal: 4m 18s\tremaining: 5m 24s\n",
      "887:\tlearn: 4.0734409\ttotal: 4m 18s\tremaining: 5m 24s\n",
      "888:\tlearn: 4.0729324\ttotal: 4m 19s\tremaining: 5m 23s\n",
      "889:\tlearn: 4.0723407\ttotal: 4m 19s\tremaining: 5m 23s\n",
      "890:\tlearn: 4.0717512\ttotal: 4m 19s\tremaining: 5m 23s\n",
      "891:\tlearn: 4.0714007\ttotal: 4m 19s\tremaining: 5m 22s\n",
      "892:\tlearn: 4.0711359\ttotal: 4m 20s\tremaining: 5m 22s\n",
      "893:\tlearn: 4.0705860\ttotal: 4m 20s\tremaining: 5m 22s\n",
      "894:\tlearn: 4.0701709\ttotal: 4m 20s\tremaining: 5m 22s\n",
      "895:\tlearn: 4.0696559\ttotal: 4m 21s\tremaining: 5m 21s\n",
      "896:\tlearn: 4.0694330\ttotal: 4m 21s\tremaining: 5m 21s\n",
      "897:\tlearn: 4.0692077\ttotal: 4m 21s\tremaining: 5m 21s\n",
      "898:\tlearn: 4.0688606\ttotal: 4m 22s\tremaining: 5m 20s\n",
      "899:\tlearn: 4.0683567\ttotal: 4m 22s\tremaining: 5m 20s\n",
      "900:\tlearn: 4.0681065\ttotal: 4m 22s\tremaining: 5m 20s\n",
      "901:\tlearn: 4.0677179\ttotal: 4m 23s\tremaining: 5m 20s\n",
      "902:\tlearn: 4.0670532\ttotal: 4m 23s\tremaining: 5m 19s\n",
      "903:\tlearn: 4.0665279\ttotal: 4m 23s\tremaining: 5m 19s\n",
      "904:\tlearn: 4.0662413\ttotal: 4m 23s\tremaining: 5m 19s\n",
      "905:\tlearn: 4.0659846\ttotal: 4m 24s\tremaining: 5m 18s\n",
      "906:\tlearn: 4.0657386\ttotal: 4m 24s\tremaining: 5m 18s\n",
      "907:\tlearn: 4.0654595\ttotal: 4m 24s\tremaining: 5m 18s\n",
      "908:\tlearn: 4.0649963\ttotal: 4m 25s\tremaining: 5m 18s\n",
      "909:\tlearn: 4.0646205\ttotal: 4m 25s\tremaining: 5m 17s\n",
      "910:\tlearn: 4.0641165\ttotal: 4m 25s\tremaining: 5m 17s\n",
      "911:\tlearn: 4.0638225\ttotal: 4m 25s\tremaining: 5m 17s\n",
      "912:\tlearn: 4.0632318\ttotal: 4m 26s\tremaining: 5m 16s\n",
      "913:\tlearn: 4.0630469\ttotal: 4m 26s\tremaining: 5m 16s\n",
      "914:\tlearn: 4.0627327\ttotal: 4m 26s\tremaining: 5m 16s\n",
      "915:\tlearn: 4.0621910\ttotal: 4m 27s\tremaining: 5m 16s\n",
      "916:\tlearn: 4.0617544\ttotal: 4m 27s\tremaining: 5m 15s\n",
      "917:\tlearn: 4.0612006\ttotal: 4m 27s\tremaining: 5m 15s\n",
      "918:\tlearn: 4.0607224\ttotal: 4m 28s\tremaining: 5m 15s\n",
      "919:\tlearn: 4.0605818\ttotal: 4m 28s\tremaining: 5m 15s\n",
      "920:\tlearn: 4.0604608\ttotal: 4m 28s\tremaining: 5m 14s\n",
      "921:\tlearn: 4.0596994\ttotal: 4m 28s\tremaining: 5m 14s\n",
      "922:\tlearn: 4.0593998\ttotal: 4m 29s\tremaining: 5m 14s\n",
      "923:\tlearn: 4.0588794\ttotal: 4m 29s\tremaining: 5m 13s\n",
      "924:\tlearn: 4.0584638\ttotal: 4m 29s\tremaining: 5m 13s\n",
      "925:\tlearn: 4.0582558\ttotal: 4m 29s\tremaining: 5m 13s\n",
      "926:\tlearn: 4.0578373\ttotal: 4m 30s\tremaining: 5m 12s\n"
     ]
    },
    {
     "name": "stdout",
     "output_type": "stream",
     "text": [
      "927:\tlearn: 4.0575497\ttotal: 4m 30s\tremaining: 5m 12s\n",
      "928:\tlearn: 4.0568854\ttotal: 4m 30s\tremaining: 5m 12s\n",
      "929:\tlearn: 4.0564552\ttotal: 4m 31s\tremaining: 5m 11s\n",
      "930:\tlearn: 4.0560662\ttotal: 4m 31s\tremaining: 5m 11s\n",
      "931:\tlearn: 4.0557645\ttotal: 4m 31s\tremaining: 5m 11s\n",
      "932:\tlearn: 4.0554416\ttotal: 4m 31s\tremaining: 5m 10s\n",
      "933:\tlearn: 4.0552162\ttotal: 4m 32s\tremaining: 5m 10s\n",
      "934:\tlearn: 4.0550012\ttotal: 4m 32s\tremaining: 5m 10s\n",
      "935:\tlearn: 4.0548230\ttotal: 4m 32s\tremaining: 5m 9s\n",
      "936:\tlearn: 4.0544972\ttotal: 4m 32s\tremaining: 5m 9s\n",
      "937:\tlearn: 4.0542296\ttotal: 4m 33s\tremaining: 5m 9s\n",
      "938:\tlearn: 4.0539833\ttotal: 4m 33s\tremaining: 5m 9s\n",
      "939:\tlearn: 4.0536366\ttotal: 4m 33s\tremaining: 5m 8s\n",
      "940:\tlearn: 4.0535211\ttotal: 4m 34s\tremaining: 5m 8s\n",
      "941:\tlearn: 4.0530254\ttotal: 4m 34s\tremaining: 5m 8s\n",
      "942:\tlearn: 4.0522434\ttotal: 4m 34s\tremaining: 5m 7s\n",
      "943:\tlearn: 4.0519708\ttotal: 4m 34s\tremaining: 5m 7s\n",
      "944:\tlearn: 4.0515658\ttotal: 4m 35s\tremaining: 5m 7s\n",
      "945:\tlearn: 4.0511391\ttotal: 4m 35s\tremaining: 5m 6s\n",
      "946:\tlearn: 4.0509187\ttotal: 4m 35s\tremaining: 5m 6s\n",
      "947:\tlearn: 4.0506392\ttotal: 4m 36s\tremaining: 5m 6s\n",
      "948:\tlearn: 4.0503541\ttotal: 4m 36s\tremaining: 5m 6s\n",
      "949:\tlearn: 4.0499343\ttotal: 4m 36s\tremaining: 5m 5s\n",
      "950:\tlearn: 4.0496506\ttotal: 4m 36s\tremaining: 5m 5s\n",
      "951:\tlearn: 4.0492603\ttotal: 4m 37s\tremaining: 5m 5s\n",
      "952:\tlearn: 4.0490353\ttotal: 4m 37s\tremaining: 5m 4s\n",
      "953:\tlearn: 4.0487121\ttotal: 4m 37s\tremaining: 5m 4s\n",
      "954:\tlearn: 4.0485945\ttotal: 4m 37s\tremaining: 5m 4s\n",
      "955:\tlearn: 4.0479889\ttotal: 4m 38s\tremaining: 5m 3s\n",
      "956:\tlearn: 4.0478784\ttotal: 4m 38s\tremaining: 5m 3s\n",
      "957:\tlearn: 4.0475067\ttotal: 4m 38s\tremaining: 5m 3s\n",
      "958:\tlearn: 4.0470450\ttotal: 4m 39s\tremaining: 5m 2s\n",
      "959:\tlearn: 4.0467128\ttotal: 4m 39s\tremaining: 5m 2s\n",
      "960:\tlearn: 4.0465525\ttotal: 4m 39s\tremaining: 5m 2s\n",
      "961:\tlearn: 4.0458541\ttotal: 4m 39s\tremaining: 5m 2s\n",
      "962:\tlearn: 4.0452655\ttotal: 4m 40s\tremaining: 5m 1s\n",
      "963:\tlearn: 4.0449352\ttotal: 4m 40s\tremaining: 5m 1s\n",
      "964:\tlearn: 4.0446994\ttotal: 4m 40s\tremaining: 5m 1s\n",
      "965:\tlearn: 4.0445883\ttotal: 4m 41s\tremaining: 5m\n",
      "966:\tlearn: 4.0443574\ttotal: 4m 41s\tremaining: 5m\n",
      "967:\tlearn: 4.0440975\ttotal: 4m 41s\tremaining: 5m\n",
      "968:\tlearn: 4.0436764\ttotal: 4m 41s\tremaining: 5m\n",
      "969:\tlearn: 4.0431225\ttotal: 4m 42s\tremaining: 4m 59s\n",
      "970:\tlearn: 4.0429590\ttotal: 4m 42s\tremaining: 4m 59s\n",
      "971:\tlearn: 4.0428141\ttotal: 4m 42s\tremaining: 4m 59s\n",
      "972:\tlearn: 4.0424073\ttotal: 4m 43s\tremaining: 4m 58s\n",
      "973:\tlearn: 4.0422111\ttotal: 4m 43s\tremaining: 4m 58s\n",
      "974:\tlearn: 4.0415375\ttotal: 4m 43s\tremaining: 4m 58s\n",
      "975:\tlearn: 4.0410609\ttotal: 4m 43s\tremaining: 4m 57s\n",
      "976:\tlearn: 4.0409406\ttotal: 4m 44s\tremaining: 4m 57s\n",
      "977:\tlearn: 4.0407238\ttotal: 4m 44s\tremaining: 4m 57s\n",
      "978:\tlearn: 4.0400987\ttotal: 4m 44s\tremaining: 4m 57s\n",
      "979:\tlearn: 4.0395626\ttotal: 4m 45s\tremaining: 4m 56s\n",
      "980:\tlearn: 4.0392361\ttotal: 4m 45s\tremaining: 4m 56s\n",
      "981:\tlearn: 4.0386628\ttotal: 4m 45s\tremaining: 4m 56s\n",
      "982:\tlearn: 4.0384799\ttotal: 4m 45s\tremaining: 4m 55s\n",
      "983:\tlearn: 4.0381255\ttotal: 4m 46s\tremaining: 4m 55s\n",
      "984:\tlearn: 4.0378402\ttotal: 4m 46s\tremaining: 4m 55s\n",
      "985:\tlearn: 4.0376084\ttotal: 4m 46s\tremaining: 4m 54s\n",
      "986:\tlearn: 4.0374817\ttotal: 4m 47s\tremaining: 4m 54s\n",
      "987:\tlearn: 4.0373343\ttotal: 4m 47s\tremaining: 4m 54s\n",
      "988:\tlearn: 4.0369189\ttotal: 4m 47s\tremaining: 4m 54s\n",
      "989:\tlearn: 4.0366818\ttotal: 4m 48s\tremaining: 4m 53s\n",
      "990:\tlearn: 4.0364517\ttotal: 4m 48s\tremaining: 4m 53s\n",
      "991:\tlearn: 4.0359184\ttotal: 4m 48s\tremaining: 4m 53s\n",
      "992:\tlearn: 4.0357371\ttotal: 4m 48s\tremaining: 4m 53s\n",
      "993:\tlearn: 4.0351741\ttotal: 4m 49s\tremaining: 4m 52s\n",
      "994:\tlearn: 4.0349104\ttotal: 4m 49s\tremaining: 4m 52s\n",
      "995:\tlearn: 4.0346603\ttotal: 4m 49s\tremaining: 4m 52s\n",
      "996:\tlearn: 4.0341277\ttotal: 4m 50s\tremaining: 4m 51s\n",
      "997:\tlearn: 4.0338016\ttotal: 4m 50s\tremaining: 4m 51s\n",
      "998:\tlearn: 4.0332823\ttotal: 4m 50s\tremaining: 4m 51s\n",
      "999:\tlearn: 4.0325022\ttotal: 4m 51s\tremaining: 4m 51s\n",
      "1000:\tlearn: 4.0322421\ttotal: 4m 51s\tremaining: 4m 50s\n",
      "1001:\tlearn: 4.0319799\ttotal: 4m 51s\tremaining: 4m 50s\n",
      "1002:\tlearn: 4.0316302\ttotal: 4m 52s\tremaining: 4m 50s\n",
      "1003:\tlearn: 4.0314527\ttotal: 4m 52s\tremaining: 4m 49s\n",
      "1004:\tlearn: 4.0311162\ttotal: 4m 52s\tremaining: 4m 49s\n",
      "1005:\tlearn: 4.0308126\ttotal: 4m 52s\tremaining: 4m 49s\n",
      "1006:\tlearn: 4.0304668\ttotal: 4m 53s\tremaining: 4m 49s\n",
      "1007:\tlearn: 4.0301690\ttotal: 4m 53s\tremaining: 4m 48s\n",
      "1008:\tlearn: 4.0300399\ttotal: 4m 53s\tremaining: 4m 48s\n",
      "1009:\tlearn: 4.0292193\ttotal: 4m 53s\tremaining: 4m 48s\n",
      "1010:\tlearn: 4.0288604\ttotal: 4m 54s\tremaining: 4m 47s\n",
      "1011:\tlearn: 4.0284517\ttotal: 4m 54s\tremaining: 4m 47s\n",
      "1012:\tlearn: 4.0278576\ttotal: 4m 54s\tremaining: 4m 47s\n",
      "1013:\tlearn: 4.0275577\ttotal: 4m 55s\tremaining: 4m 47s\n",
      "1014:\tlearn: 4.0271620\ttotal: 4m 55s\tremaining: 4m 46s\n",
      "1015:\tlearn: 4.0269029\ttotal: 4m 55s\tremaining: 4m 46s\n",
      "1016:\tlearn: 4.0267192\ttotal: 4m 56s\tremaining: 4m 46s\n",
      "1017:\tlearn: 4.0265851\ttotal: 4m 56s\tremaining: 4m 45s\n",
      "1018:\tlearn: 4.0257471\ttotal: 4m 56s\tremaining: 4m 45s\n",
      "1019:\tlearn: 4.0253322\ttotal: 4m 57s\tremaining: 4m 45s\n",
      "1020:\tlearn: 4.0248922\ttotal: 4m 57s\tremaining: 4m 45s\n",
      "1021:\tlearn: 4.0246178\ttotal: 4m 57s\tremaining: 4m 44s\n",
      "1022:\tlearn: 4.0244187\ttotal: 4m 57s\tremaining: 4m 44s\n",
      "1023:\tlearn: 4.0240622\ttotal: 4m 58s\tremaining: 4m 44s\n",
      "1024:\tlearn: 4.0234507\ttotal: 4m 58s\tremaining: 4m 43s\n",
      "1025:\tlearn: 4.0231873\ttotal: 4m 58s\tremaining: 4m 43s\n",
      "1026:\tlearn: 4.0227015\ttotal: 4m 59s\tremaining: 4m 43s\n",
      "1027:\tlearn: 4.0217582\ttotal: 4m 59s\tremaining: 4m 43s\n",
      "1028:\tlearn: 4.0215648\ttotal: 4m 59s\tremaining: 4m 42s\n",
      "1029:\tlearn: 4.0213375\ttotal: 4m 59s\tremaining: 4m 42s\n",
      "1030:\tlearn: 4.0210757\ttotal: 5m\tremaining: 4m 42s\n",
      "1031:\tlearn: 4.0206945\ttotal: 5m\tremaining: 4m 41s\n",
      "1032:\tlearn: 4.0203643\ttotal: 5m\tremaining: 4m 41s\n",
      "1033:\tlearn: 4.0202129\ttotal: 5m 1s\tremaining: 4m 41s\n",
      "1034:\tlearn: 4.0200177\ttotal: 5m 1s\tremaining: 4m 40s\n",
      "1035:\tlearn: 4.0192910\ttotal: 5m 1s\tremaining: 4m 40s\n",
      "1036:\tlearn: 4.0190582\ttotal: 5m 1s\tremaining: 4m 40s\n",
      "1037:\tlearn: 4.0183423\ttotal: 5m 2s\tremaining: 4m 40s\n",
      "1038:\tlearn: 4.0177636\ttotal: 5m 2s\tremaining: 4m 39s\n",
      "1039:\tlearn: 4.0175610\ttotal: 5m 2s\tremaining: 4m 39s\n",
      "1040:\tlearn: 4.0172934\ttotal: 5m 3s\tremaining: 4m 39s\n",
      "1041:\tlearn: 4.0170731\ttotal: 5m 3s\tremaining: 4m 38s\n",
      "1042:\tlearn: 4.0168164\ttotal: 5m 3s\tremaining: 4m 38s\n",
      "1043:\tlearn: 4.0162955\ttotal: 5m 3s\tremaining: 4m 38s\n",
      "1044:\tlearn: 4.0160864\ttotal: 5m 4s\tremaining: 4m 38s\n",
      "1045:\tlearn: 4.0155712\ttotal: 5m 4s\tremaining: 4m 37s\n",
      "1046:\tlearn: 4.0153692\ttotal: 5m 4s\tremaining: 4m 37s\n",
      "1047:\tlearn: 4.0152089\ttotal: 5m 5s\tremaining: 4m 37s\n",
      "1048:\tlearn: 4.0151388\ttotal: 5m 5s\tremaining: 4m 36s\n",
      "1049:\tlearn: 4.0149392\ttotal: 5m 5s\tremaining: 4m 36s\n",
      "1050:\tlearn: 4.0146776\ttotal: 5m 5s\tremaining: 4m 36s\n",
      "1051:\tlearn: 4.0141096\ttotal: 5m 6s\tremaining: 4m 35s\n",
      "1052:\tlearn: 4.0138070\ttotal: 5m 6s\tremaining: 4m 35s\n",
      "1053:\tlearn: 4.0136361\ttotal: 5m 6s\tremaining: 4m 35s\n",
      "1054:\tlearn: 4.0135722\ttotal: 5m 6s\tremaining: 4m 34s\n",
      "1055:\tlearn: 4.0129678\ttotal: 5m 7s\tremaining: 4m 34s\n",
      "1056:\tlearn: 4.0128455\ttotal: 5m 7s\tremaining: 4m 34s\n",
      "1057:\tlearn: 4.0122258\ttotal: 5m 7s\tremaining: 4m 34s\n",
      "1058:\tlearn: 4.0114962\ttotal: 5m 8s\tremaining: 4m 33s\n",
      "1059:\tlearn: 4.0112299\ttotal: 5m 8s\tremaining: 4m 33s\n",
      "1060:\tlearn: 4.0109720\ttotal: 5m 8s\tremaining: 4m 33s\n",
      "1061:\tlearn: 4.0104435\ttotal: 5m 8s\tremaining: 4m 32s\n",
      "1062:\tlearn: 4.0098402\ttotal: 5m 9s\tremaining: 4m 32s\n",
      "1063:\tlearn: 4.0095253\ttotal: 5m 9s\tremaining: 4m 32s\n",
      "1064:\tlearn: 4.0088413\ttotal: 5m 9s\tremaining: 4m 32s\n",
      "1065:\tlearn: 4.0083717\ttotal: 5m 10s\tremaining: 4m 31s\n",
      "1066:\tlearn: 4.0080505\ttotal: 5m 10s\tremaining: 4m 31s\n",
      "1067:\tlearn: 4.0076520\ttotal: 5m 10s\tremaining: 4m 31s\n",
      "1068:\tlearn: 4.0074816\ttotal: 5m 11s\tremaining: 4m 30s\n",
      "1069:\tlearn: 4.0071909\ttotal: 5m 11s\tremaining: 4m 30s\n",
      "1070:\tlearn: 4.0069357\ttotal: 5m 11s\tremaining: 4m 30s\n",
      "1071:\tlearn: 4.0062909\ttotal: 5m 11s\tremaining: 4m 29s\n",
      "1072:\tlearn: 4.0057247\ttotal: 5m 12s\tremaining: 4m 29s\n",
      "1073:\tlearn: 4.0053469\ttotal: 5m 12s\tremaining: 4m 29s\n",
      "1074:\tlearn: 4.0049008\ttotal: 5m 12s\tremaining: 4m 29s\n",
      "1075:\tlearn: 4.0047249\ttotal: 5m 12s\tremaining: 4m 28s\n",
      "1076:\tlearn: 4.0044924\ttotal: 5m 13s\tremaining: 4m 28s\n",
      "1077:\tlearn: 4.0040945\ttotal: 5m 13s\tremaining: 4m 28s\n",
      "1078:\tlearn: 4.0039045\ttotal: 5m 13s\tremaining: 4m 27s\n"
     ]
    },
    {
     "name": "stdout",
     "output_type": "stream",
     "text": [
      "1079:\tlearn: 4.0037053\ttotal: 5m 14s\tremaining: 4m 27s\n",
      "1080:\tlearn: 4.0035367\ttotal: 5m 14s\tremaining: 4m 27s\n",
      "1081:\tlearn: 4.0033464\ttotal: 5m 14s\tremaining: 4m 26s\n",
      "1082:\tlearn: 4.0032272\ttotal: 5m 14s\tremaining: 4m 26s\n",
      "1083:\tlearn: 4.0029772\ttotal: 5m 15s\tremaining: 4m 26s\n",
      "1084:\tlearn: 4.0021350\ttotal: 5m 15s\tremaining: 4m 26s\n",
      "1085:\tlearn: 4.0019173\ttotal: 5m 15s\tremaining: 4m 25s\n",
      "1086:\tlearn: 4.0013488\ttotal: 5m 16s\tremaining: 4m 25s\n",
      "1087:\tlearn: 4.0010989\ttotal: 5m 16s\tremaining: 4m 25s\n",
      "1088:\tlearn: 4.0008377\ttotal: 5m 16s\tremaining: 4m 24s\n",
      "1089:\tlearn: 4.0006134\ttotal: 5m 16s\tremaining: 4m 24s\n",
      "1090:\tlearn: 4.0003253\ttotal: 5m 17s\tremaining: 4m 24s\n",
      "1091:\tlearn: 4.0000534\ttotal: 5m 17s\tremaining: 4m 24s\n",
      "1092:\tlearn: 3.9998374\ttotal: 5m 17s\tremaining: 4m 23s\n",
      "1093:\tlearn: 3.9992842\ttotal: 5m 18s\tremaining: 4m 23s\n",
      "1094:\tlearn: 3.9987904\ttotal: 5m 18s\tremaining: 4m 23s\n",
      "1095:\tlearn: 3.9985750\ttotal: 5m 18s\tremaining: 4m 22s\n",
      "1096:\tlearn: 3.9983565\ttotal: 5m 19s\tremaining: 4m 22s\n",
      "1097:\tlearn: 3.9981928\ttotal: 5m 19s\tremaining: 4m 22s\n",
      "1098:\tlearn: 3.9979480\ttotal: 5m 19s\tremaining: 4m 22s\n",
      "1099:\tlearn: 3.9973718\ttotal: 5m 19s\tremaining: 4m 21s\n",
      "1100:\tlearn: 3.9971164\ttotal: 5m 20s\tremaining: 4m 21s\n",
      "1101:\tlearn: 3.9969216\ttotal: 5m 20s\tremaining: 4m 21s\n",
      "1102:\tlearn: 3.9963805\ttotal: 5m 20s\tremaining: 4m 20s\n",
      "1103:\tlearn: 3.9961405\ttotal: 5m 20s\tremaining: 4m 20s\n",
      "1104:\tlearn: 3.9955557\ttotal: 5m 21s\tremaining: 4m 20s\n",
      "1105:\tlearn: 3.9953501\ttotal: 5m 21s\tremaining: 4m 19s\n",
      "1106:\tlearn: 3.9950072\ttotal: 5m 21s\tremaining: 4m 19s\n",
      "1107:\tlearn: 3.9949361\ttotal: 5m 22s\tremaining: 4m 19s\n",
      "1108:\tlearn: 3.9944087\ttotal: 5m 22s\tremaining: 4m 18s\n",
      "1109:\tlearn: 3.9941475\ttotal: 5m 22s\tremaining: 4m 18s\n",
      "1110:\tlearn: 3.9938995\ttotal: 5m 22s\tremaining: 4m 18s\n",
      "1111:\tlearn: 3.9933825\ttotal: 5m 23s\tremaining: 4m 18s\n",
      "1112:\tlearn: 3.9930185\ttotal: 5m 23s\tremaining: 4m 17s\n",
      "1113:\tlearn: 3.9927108\ttotal: 5m 23s\tremaining: 4m 17s\n",
      "1114:\tlearn: 3.9925462\ttotal: 5m 23s\tremaining: 4m 17s\n",
      "1115:\tlearn: 3.9922030\ttotal: 5m 24s\tremaining: 4m 16s\n",
      "1116:\tlearn: 3.9918774\ttotal: 5m 24s\tremaining: 4m 16s\n",
      "1117:\tlearn: 3.9916628\ttotal: 5m 24s\tremaining: 4m 16s\n",
      "1118:\tlearn: 3.9911201\ttotal: 5m 25s\tremaining: 4m 15s\n",
      "1119:\tlearn: 3.9908791\ttotal: 5m 25s\tremaining: 4m 15s\n",
      "1120:\tlearn: 3.9902646\ttotal: 5m 25s\tremaining: 4m 15s\n",
      "1121:\tlearn: 3.9899297\ttotal: 5m 25s\tremaining: 4m 15s\n",
      "1122:\tlearn: 3.9893680\ttotal: 5m 26s\tremaining: 4m 14s\n",
      "1123:\tlearn: 3.9891950\ttotal: 5m 26s\tremaining: 4m 14s\n",
      "1124:\tlearn: 3.9890961\ttotal: 5m 26s\tremaining: 4m 14s\n",
      "1125:\tlearn: 3.9887105\ttotal: 5m 27s\tremaining: 4m 13s\n",
      "1126:\tlearn: 3.9885751\ttotal: 5m 27s\tremaining: 4m 13s\n",
      "1127:\tlearn: 3.9881446\ttotal: 5m 27s\tremaining: 4m 13s\n",
      "1128:\tlearn: 3.9879936\ttotal: 5m 27s\tremaining: 4m 12s\n",
      "1129:\tlearn: 3.9875400\ttotal: 5m 28s\tremaining: 4m 12s\n",
      "1130:\tlearn: 3.9870584\ttotal: 5m 28s\tremaining: 4m 12s\n",
      "1131:\tlearn: 3.9863800\ttotal: 5m 28s\tremaining: 4m 12s\n",
      "1132:\tlearn: 3.9858831\ttotal: 5m 29s\tremaining: 4m 11s\n",
      "1133:\tlearn: 3.9857095\ttotal: 5m 29s\tremaining: 4m 11s\n",
      "1134:\tlearn: 3.9854720\ttotal: 5m 29s\tremaining: 4m 11s\n",
      "1135:\tlearn: 3.9851080\ttotal: 5m 29s\tremaining: 4m 10s\n",
      "1136:\tlearn: 3.9847000\ttotal: 5m 30s\tremaining: 4m 10s\n",
      "1137:\tlearn: 3.9845505\ttotal: 5m 30s\tremaining: 4m 10s\n",
      "1138:\tlearn: 3.9843664\ttotal: 5m 30s\tremaining: 4m 10s\n",
      "1139:\tlearn: 3.9840496\ttotal: 5m 31s\tremaining: 4m 9s\n",
      "1140:\tlearn: 3.9835149\ttotal: 5m 31s\tremaining: 4m 9s\n",
      "1141:\tlearn: 3.9833650\ttotal: 5m 31s\tremaining: 4m 9s\n",
      "1142:\tlearn: 3.9827579\ttotal: 5m 31s\tremaining: 4m 8s\n",
      "1143:\tlearn: 3.9821777\ttotal: 5m 32s\tremaining: 4m 8s\n",
      "1144:\tlearn: 3.9814703\ttotal: 5m 32s\tremaining: 4m 8s\n",
      "1145:\tlearn: 3.9808728\ttotal: 5m 32s\tremaining: 4m 8s\n",
      "1146:\tlearn: 3.9802536\ttotal: 5m 33s\tremaining: 4m 7s\n",
      "1147:\tlearn: 3.9800458\ttotal: 5m 33s\tremaining: 4m 7s\n",
      "1148:\tlearn: 3.9798293\ttotal: 5m 33s\tremaining: 4m 7s\n",
      "1149:\tlearn: 3.9794226\ttotal: 5m 33s\tremaining: 4m 6s\n",
      "1150:\tlearn: 3.9791305\ttotal: 5m 34s\tremaining: 4m 6s\n",
      "1151:\tlearn: 3.9787735\ttotal: 5m 34s\tremaining: 4m 6s\n",
      "1152:\tlearn: 3.9787083\ttotal: 5m 34s\tremaining: 4m 5s\n",
      "1153:\tlearn: 3.9785730\ttotal: 5m 35s\tremaining: 4m 5s\n",
      "1154:\tlearn: 3.9778382\ttotal: 5m 35s\tremaining: 4m 5s\n",
      "1155:\tlearn: 3.9775865\ttotal: 5m 35s\tremaining: 4m 5s\n",
      "1156:\tlearn: 3.9774008\ttotal: 5m 35s\tremaining: 4m 4s\n",
      "1157:\tlearn: 3.9772148\ttotal: 5m 36s\tremaining: 4m 4s\n",
      "1158:\tlearn: 3.9767629\ttotal: 5m 36s\tremaining: 4m 4s\n",
      "1159:\tlearn: 3.9764407\ttotal: 5m 36s\tremaining: 4m 3s\n",
      "1160:\tlearn: 3.9762011\ttotal: 5m 36s\tremaining: 4m 3s\n",
      "1161:\tlearn: 3.9758661\ttotal: 5m 37s\tremaining: 4m 3s\n",
      "1162:\tlearn: 3.9757429\ttotal: 5m 37s\tremaining: 4m 2s\n",
      "1163:\tlearn: 3.9755286\ttotal: 5m 37s\tremaining: 4m 2s\n",
      "1164:\tlearn: 3.9748629\ttotal: 5m 38s\tremaining: 4m 2s\n",
      "1165:\tlearn: 3.9743259\ttotal: 5m 38s\tremaining: 4m 2s\n",
      "1166:\tlearn: 3.9738977\ttotal: 5m 38s\tremaining: 4m 1s\n",
      "1167:\tlearn: 3.9736406\ttotal: 5m 38s\tremaining: 4m 1s\n",
      "1168:\tlearn: 3.9729555\ttotal: 5m 39s\tremaining: 4m 1s\n",
      "1169:\tlearn: 3.9727778\ttotal: 5m 39s\tremaining: 4m\n",
      "1170:\tlearn: 3.9723820\ttotal: 5m 39s\tremaining: 4m\n",
      "1171:\tlearn: 3.9720370\ttotal: 5m 40s\tremaining: 4m\n",
      "1172:\tlearn: 3.9717241\ttotal: 5m 40s\tremaining: 3m 59s\n",
      "1173:\tlearn: 3.9714598\ttotal: 5m 40s\tremaining: 3m 59s\n",
      "1174:\tlearn: 3.9710757\ttotal: 5m 40s\tremaining: 3m 59s\n",
      "1175:\tlearn: 3.9709690\ttotal: 5m 41s\tremaining: 3m 59s\n",
      "1176:\tlearn: 3.9707535\ttotal: 5m 41s\tremaining: 3m 58s\n",
      "1177:\tlearn: 3.9702892\ttotal: 5m 42s\tremaining: 3m 58s\n",
      "1178:\tlearn: 3.9699088\ttotal: 5m 42s\tremaining: 3m 58s\n",
      "1179:\tlearn: 3.9694600\ttotal: 5m 42s\tremaining: 3m 58s\n",
      "1180:\tlearn: 3.9692164\ttotal: 5m 42s\tremaining: 3m 57s\n",
      "1181:\tlearn: 3.9689921\ttotal: 5m 43s\tremaining: 3m 57s\n",
      "1182:\tlearn: 3.9686311\ttotal: 5m 43s\tremaining: 3m 57s\n",
      "1183:\tlearn: 3.9684692\ttotal: 5m 43s\tremaining: 3m 56s\n",
      "1184:\tlearn: 3.9684111\ttotal: 5m 44s\tremaining: 3m 56s\n",
      "1185:\tlearn: 3.9678065\ttotal: 5m 44s\tremaining: 3m 56s\n",
      "1186:\tlearn: 3.9675360\ttotal: 5m 44s\tremaining: 3m 56s\n",
      "1187:\tlearn: 3.9673374\ttotal: 5m 44s\tremaining: 3m 55s\n",
      "1188:\tlearn: 3.9668517\ttotal: 5m 45s\tremaining: 3m 55s\n",
      "1189:\tlearn: 3.9666866\ttotal: 5m 45s\tremaining: 3m 55s\n",
      "1190:\tlearn: 3.9662000\ttotal: 5m 45s\tremaining: 3m 54s\n",
      "1191:\tlearn: 3.9656641\ttotal: 5m 46s\tremaining: 3m 54s\n",
      "1192:\tlearn: 3.9651586\ttotal: 5m 46s\tremaining: 3m 54s\n",
      "1193:\tlearn: 3.9650023\ttotal: 5m 46s\tremaining: 3m 54s\n",
      "1194:\tlearn: 3.9648125\ttotal: 5m 47s\tremaining: 3m 53s\n",
      "1195:\tlearn: 3.9644883\ttotal: 5m 47s\tremaining: 3m 53s\n",
      "1196:\tlearn: 3.9642487\ttotal: 5m 47s\tremaining: 3m 53s\n",
      "1197:\tlearn: 3.9640586\ttotal: 5m 47s\tremaining: 3m 52s\n",
      "1198:\tlearn: 3.9639653\ttotal: 5m 48s\tremaining: 3m 52s\n",
      "1199:\tlearn: 3.9637473\ttotal: 5m 48s\tremaining: 3m 52s\n",
      "1200:\tlearn: 3.9634531\ttotal: 5m 48s\tremaining: 3m 52s\n",
      "1201:\tlearn: 3.9631596\ttotal: 5m 49s\tremaining: 3m 51s\n",
      "1202:\tlearn: 3.9629082\ttotal: 5m 49s\tremaining: 3m 51s\n",
      "1203:\tlearn: 3.9627016\ttotal: 5m 49s\tremaining: 3m 51s\n",
      "1204:\tlearn: 3.9623371\ttotal: 5m 50s\tremaining: 3m 50s\n",
      "1205:\tlearn: 3.9620404\ttotal: 5m 50s\tremaining: 3m 50s\n",
      "1206:\tlearn: 3.9618158\ttotal: 5m 50s\tremaining: 3m 50s\n",
      "1207:\tlearn: 3.9617123\ttotal: 5m 50s\tremaining: 3m 50s\n",
      "1208:\tlearn: 3.9614417\ttotal: 5m 51s\tremaining: 3m 49s\n",
      "1209:\tlearn: 3.9612626\ttotal: 5m 51s\tremaining: 3m 49s\n",
      "1210:\tlearn: 3.9611274\ttotal: 5m 51s\tremaining: 3m 49s\n",
      "1211:\tlearn: 3.9609581\ttotal: 5m 51s\tremaining: 3m 48s\n",
      "1212:\tlearn: 3.9601872\ttotal: 5m 52s\tremaining: 3m 48s\n",
      "1213:\tlearn: 3.9600831\ttotal: 5m 52s\tremaining: 3m 48s\n",
      "1214:\tlearn: 3.9596015\ttotal: 5m 52s\tremaining: 3m 47s\n",
      "1215:\tlearn: 3.9592238\ttotal: 5m 53s\tremaining: 3m 47s\n",
      "1216:\tlearn: 3.9588318\ttotal: 5m 53s\tremaining: 3m 47s\n",
      "1217:\tlearn: 3.9583576\ttotal: 5m 53s\tremaining: 3m 47s\n",
      "1218:\tlearn: 3.9582863\ttotal: 5m 54s\tremaining: 3m 46s\n",
      "1219:\tlearn: 3.9581314\ttotal: 5m 54s\tremaining: 3m 46s\n",
      "1220:\tlearn: 3.9575153\ttotal: 5m 54s\tremaining: 3m 46s\n",
      "1221:\tlearn: 3.9569947\ttotal: 5m 54s\tremaining: 3m 45s\n",
      "1222:\tlearn: 3.9566092\ttotal: 5m 55s\tremaining: 3m 45s\n",
      "1223:\tlearn: 3.9563317\ttotal: 5m 55s\tremaining: 3m 45s\n",
      "1224:\tlearn: 3.9560345\ttotal: 5m 55s\tremaining: 3m 45s\n",
      "1225:\tlearn: 3.9555380\ttotal: 5m 56s\tremaining: 3m 44s\n",
      "1226:\tlearn: 3.9554028\ttotal: 5m 56s\tremaining: 3m 44s\n",
      "1227:\tlearn: 3.9546348\ttotal: 5m 56s\tremaining: 3m 44s\n",
      "1228:\tlearn: 3.9542878\ttotal: 5m 56s\tremaining: 3m 43s\n"
     ]
    },
    {
     "name": "stdout",
     "output_type": "stream",
     "text": [
      "1229:\tlearn: 3.9538470\ttotal: 5m 57s\tremaining: 3m 43s\n",
      "1230:\tlearn: 3.9533919\ttotal: 5m 57s\tremaining: 3m 43s\n",
      "1231:\tlearn: 3.9531226\ttotal: 5m 57s\tremaining: 3m 43s\n",
      "1232:\tlearn: 3.9527232\ttotal: 5m 58s\tremaining: 3m 42s\n",
      "1233:\tlearn: 3.9525705\ttotal: 5m 58s\tremaining: 3m 42s\n",
      "1234:\tlearn: 3.9522824\ttotal: 5m 58s\tremaining: 3m 42s\n",
      "1235:\tlearn: 3.9518245\ttotal: 5m 58s\tremaining: 3m 41s\n",
      "1236:\tlearn: 3.9516512\ttotal: 5m 59s\tremaining: 3m 41s\n",
      "1237:\tlearn: 3.9514428\ttotal: 5m 59s\tremaining: 3m 41s\n",
      "1238:\tlearn: 3.9509036\ttotal: 5m 59s\tremaining: 3m 40s\n",
      "1239:\tlearn: 3.9505677\ttotal: 5m 59s\tremaining: 3m 40s\n",
      "1240:\tlearn: 3.9502536\ttotal: 6m\tremaining: 3m 40s\n",
      "1241:\tlearn: 3.9498438\ttotal: 6m\tremaining: 3m 40s\n",
      "1242:\tlearn: 3.9494104\ttotal: 6m\tremaining: 3m 39s\n",
      "1243:\tlearn: 3.9491903\ttotal: 6m 1s\tremaining: 3m 39s\n",
      "1244:\tlearn: 3.9490091\ttotal: 6m 1s\tremaining: 3m 39s\n",
      "1245:\tlearn: 3.9486055\ttotal: 6m 1s\tremaining: 3m 38s\n",
      "1246:\tlearn: 3.9483537\ttotal: 6m 1s\tremaining: 3m 38s\n",
      "1247:\tlearn: 3.9479911\ttotal: 6m 2s\tremaining: 3m 38s\n",
      "1248:\tlearn: 3.9477926\ttotal: 6m 2s\tremaining: 3m 37s\n",
      "1249:\tlearn: 3.9475207\ttotal: 6m 2s\tremaining: 3m 37s\n",
      "1250:\tlearn: 3.9470653\ttotal: 6m 2s\tremaining: 3m 37s\n",
      "1251:\tlearn: 3.9465598\ttotal: 6m 3s\tremaining: 3m 37s\n",
      "1252:\tlearn: 3.9461780\ttotal: 6m 3s\tremaining: 3m 36s\n",
      "1253:\tlearn: 3.9456469\ttotal: 6m 3s\tremaining: 3m 36s\n",
      "1254:\tlearn: 3.9455768\ttotal: 6m 4s\tremaining: 3m 36s\n",
      "1255:\tlearn: 3.9450551\ttotal: 6m 4s\tremaining: 3m 35s\n",
      "1256:\tlearn: 3.9448235\ttotal: 6m 4s\tremaining: 3m 35s\n",
      "1257:\tlearn: 3.9443692\ttotal: 6m 4s\tremaining: 3m 35s\n",
      "1258:\tlearn: 3.9441746\ttotal: 6m 5s\tremaining: 3m 34s\n",
      "1259:\tlearn: 3.9436773\ttotal: 6m 5s\tremaining: 3m 34s\n",
      "1260:\tlearn: 3.9433743\ttotal: 6m 5s\tremaining: 3m 34s\n",
      "1261:\tlearn: 3.9431671\ttotal: 6m 6s\tremaining: 3m 34s\n",
      "1262:\tlearn: 3.9430043\ttotal: 6m 6s\tremaining: 3m 33s\n",
      "1263:\tlearn: 3.9428241\ttotal: 6m 6s\tremaining: 3m 33s\n",
      "1264:\tlearn: 3.9427407\ttotal: 6m 6s\tremaining: 3m 33s\n",
      "1265:\tlearn: 3.9424623\ttotal: 6m 7s\tremaining: 3m 32s\n",
      "1266:\tlearn: 3.9422569\ttotal: 6m 7s\tremaining: 3m 32s\n",
      "1267:\tlearn: 3.9417524\ttotal: 6m 7s\tremaining: 3m 32s\n",
      "1268:\tlearn: 3.9415423\ttotal: 6m 8s\tremaining: 3m 32s\n",
      "1269:\tlearn: 3.9410338\ttotal: 6m 8s\tremaining: 3m 31s\n",
      "1270:\tlearn: 3.9407733\ttotal: 6m 8s\tremaining: 3m 31s\n",
      "1271:\tlearn: 3.9406114\ttotal: 6m 8s\tremaining: 3m 31s\n",
      "1272:\tlearn: 3.9403555\ttotal: 6m 9s\tremaining: 3m 30s\n",
      "1273:\tlearn: 3.9399548\ttotal: 6m 9s\tremaining: 3m 30s\n",
      "1274:\tlearn: 3.9397516\ttotal: 6m 9s\tremaining: 3m 30s\n",
      "1275:\tlearn: 3.9392114\ttotal: 6m 10s\tremaining: 3m 30s\n",
      "1276:\tlearn: 3.9390196\ttotal: 6m 10s\tremaining: 3m 29s\n",
      "1277:\tlearn: 3.9385522\ttotal: 6m 10s\tremaining: 3m 29s\n",
      "1278:\tlearn: 3.9383568\ttotal: 6m 11s\tremaining: 3m 29s\n",
      "1279:\tlearn: 3.9381287\ttotal: 6m 11s\tremaining: 3m 28s\n",
      "1280:\tlearn: 3.9377494\ttotal: 6m 11s\tremaining: 3m 28s\n",
      "1281:\tlearn: 3.9374198\ttotal: 6m 11s\tremaining: 3m 28s\n",
      "1282:\tlearn: 3.9371850\ttotal: 6m 12s\tremaining: 3m 28s\n",
      "1283:\tlearn: 3.9367988\ttotal: 6m 12s\tremaining: 3m 27s\n",
      "1284:\tlearn: 3.9366414\ttotal: 6m 12s\tremaining: 3m 27s\n",
      "1285:\tlearn: 3.9361922\ttotal: 6m 13s\tremaining: 3m 27s\n",
      "1286:\tlearn: 3.9361051\ttotal: 6m 13s\tremaining: 3m 26s\n",
      "1287:\tlearn: 3.9354812\ttotal: 6m 13s\tremaining: 3m 26s\n",
      "1288:\tlearn: 3.9351507\ttotal: 6m 14s\tremaining: 3m 26s\n",
      "1289:\tlearn: 3.9350644\ttotal: 6m 14s\tremaining: 3m 26s\n",
      "1290:\tlearn: 3.9348651\ttotal: 6m 14s\tremaining: 3m 25s\n",
      "1291:\tlearn: 3.9346397\ttotal: 6m 14s\tremaining: 3m 25s\n",
      "1292:\tlearn: 3.9344118\ttotal: 6m 15s\tremaining: 3m 25s\n",
      "1293:\tlearn: 3.9341711\ttotal: 6m 15s\tremaining: 3m 24s\n",
      "1294:\tlearn: 3.9339394\ttotal: 6m 15s\tremaining: 3m 24s\n",
      "1295:\tlearn: 3.9338337\ttotal: 6m 16s\tremaining: 3m 24s\n",
      "1296:\tlearn: 3.9332691\ttotal: 6m 16s\tremaining: 3m 24s\n",
      "1297:\tlearn: 3.9330001\ttotal: 6m 16s\tremaining: 3m 23s\n",
      "1298:\tlearn: 3.9325782\ttotal: 6m 16s\tremaining: 3m 23s\n",
      "1299:\tlearn: 3.9323688\ttotal: 6m 17s\tremaining: 3m 23s\n",
      "1300:\tlearn: 3.9321518\ttotal: 6m 17s\tremaining: 3m 22s\n",
      "1301:\tlearn: 3.9319942\ttotal: 6m 17s\tremaining: 3m 22s\n",
      "1302:\tlearn: 3.9317820\ttotal: 6m 18s\tremaining: 3m 22s\n",
      "1303:\tlearn: 3.9316453\ttotal: 6m 18s\tremaining: 3m 21s\n",
      "1304:\tlearn: 3.9314540\ttotal: 6m 18s\tremaining: 3m 21s\n",
      "1305:\tlearn: 3.9312354\ttotal: 6m 18s\tremaining: 3m 21s\n",
      "1306:\tlearn: 3.9307296\ttotal: 6m 19s\tremaining: 3m 21s\n",
      "1307:\tlearn: 3.9304861\ttotal: 6m 19s\tremaining: 3m 20s\n",
      "1308:\tlearn: 3.9298757\ttotal: 6m 19s\tremaining: 3m 20s\n",
      "1309:\tlearn: 3.9297678\ttotal: 6m 20s\tremaining: 3m 20s\n",
      "1310:\tlearn: 3.9295210\ttotal: 6m 20s\tremaining: 3m 19s\n",
      "1311:\tlearn: 3.9293467\ttotal: 6m 20s\tremaining: 3m 19s\n",
      "1312:\tlearn: 3.9291906\ttotal: 6m 20s\tremaining: 3m 19s\n",
      "1313:\tlearn: 3.9287714\ttotal: 6m 21s\tremaining: 3m 18s\n",
      "1314:\tlearn: 3.9281688\ttotal: 6m 21s\tremaining: 3m 18s\n",
      "1315:\tlearn: 3.9277889\ttotal: 6m 21s\tremaining: 3m 18s\n",
      "1316:\tlearn: 3.9272534\ttotal: 6m 21s\tremaining: 3m 18s\n",
      "1317:\tlearn: 3.9269710\ttotal: 6m 22s\tremaining: 3m 17s\n",
      "1318:\tlearn: 3.9267273\ttotal: 6m 22s\tremaining: 3m 17s\n",
      "1319:\tlearn: 3.9261906\ttotal: 6m 22s\tremaining: 3m 17s\n",
      "1320:\tlearn: 3.9260399\ttotal: 6m 23s\tremaining: 3m 16s\n",
      "1321:\tlearn: 3.9258343\ttotal: 6m 23s\tremaining: 3m 16s\n",
      "1322:\tlearn: 3.9257064\ttotal: 6m 23s\tremaining: 3m 16s\n",
      "1323:\tlearn: 3.9255464\ttotal: 6m 23s\tremaining: 3m 16s\n",
      "1324:\tlearn: 3.9253794\ttotal: 6m 24s\tremaining: 3m 15s\n",
      "1325:\tlearn: 3.9250109\ttotal: 6m 24s\tremaining: 3m 15s\n",
      "1326:\tlearn: 3.9245338\ttotal: 6m 24s\tremaining: 3m 15s\n",
      "1327:\tlearn: 3.9242882\ttotal: 6m 24s\tremaining: 3m 14s\n",
      "1328:\tlearn: 3.9237964\ttotal: 6m 25s\tremaining: 3m 14s\n",
      "1329:\tlearn: 3.9231906\ttotal: 6m 25s\tremaining: 3m 14s\n",
      "1330:\tlearn: 3.9227688\ttotal: 6m 25s\tremaining: 3m 13s\n",
      "1331:\tlearn: 3.9222132\ttotal: 6m 26s\tremaining: 3m 13s\n",
      "1332:\tlearn: 3.9218740\ttotal: 6m 26s\tremaining: 3m 13s\n",
      "1333:\tlearn: 3.9213726\ttotal: 6m 26s\tremaining: 3m 13s\n",
      "1334:\tlearn: 3.9212936\ttotal: 6m 26s\tremaining: 3m 12s\n",
      "1335:\tlearn: 3.9212179\ttotal: 6m 27s\tremaining: 3m 12s\n",
      "1336:\tlearn: 3.9208402\ttotal: 6m 27s\tremaining: 3m 12s\n",
      "1337:\tlearn: 3.9205134\ttotal: 6m 27s\tremaining: 3m 11s\n",
      "1338:\tlearn: 3.9199682\ttotal: 6m 28s\tremaining: 3m 11s\n",
      "1339:\tlearn: 3.9197041\ttotal: 6m 28s\tremaining: 3m 11s\n",
      "1340:\tlearn: 3.9193556\ttotal: 6m 28s\tremaining: 3m 10s\n",
      "1341:\tlearn: 3.9190233\ttotal: 6m 28s\tremaining: 3m 10s\n",
      "1342:\tlearn: 3.9184974\ttotal: 6m 29s\tremaining: 3m 10s\n",
      "1343:\tlearn: 3.9180878\ttotal: 6m 29s\tremaining: 3m 10s\n",
      "1344:\tlearn: 3.9178752\ttotal: 6m 29s\tremaining: 3m 9s\n",
      "1345:\tlearn: 3.9177631\ttotal: 6m 30s\tremaining: 3m 9s\n",
      "1346:\tlearn: 3.9172844\ttotal: 6m 30s\tremaining: 3m 9s\n",
      "1347:\tlearn: 3.9169611\ttotal: 6m 30s\tremaining: 3m 8s\n",
      "1348:\tlearn: 3.9167492\ttotal: 6m 30s\tremaining: 3m 8s\n",
      "1349:\tlearn: 3.9165943\ttotal: 6m 31s\tremaining: 3m 8s\n",
      "1350:\tlearn: 3.9163453\ttotal: 6m 31s\tremaining: 3m 8s\n",
      "1351:\tlearn: 3.9161171\ttotal: 6m 31s\tremaining: 3m 7s\n",
      "1352:\tlearn: 3.9158824\ttotal: 6m 31s\tremaining: 3m 7s\n",
      "1353:\tlearn: 3.9158034\ttotal: 6m 32s\tremaining: 3m 7s\n",
      "1354:\tlearn: 3.9156195\ttotal: 6m 32s\tremaining: 3m 6s\n",
      "1355:\tlearn: 3.9151247\ttotal: 6m 32s\tremaining: 3m 6s\n",
      "1356:\tlearn: 3.9145238\ttotal: 6m 33s\tremaining: 3m 6s\n",
      "1357:\tlearn: 3.9142164\ttotal: 6m 33s\tremaining: 3m 5s\n",
      "1358:\tlearn: 3.9141196\ttotal: 6m 33s\tremaining: 3m 5s\n",
      "1359:\tlearn: 3.9135160\ttotal: 6m 33s\tremaining: 3m 5s\n",
      "1360:\tlearn: 3.9132381\ttotal: 6m 34s\tremaining: 3m 5s\n",
      "1361:\tlearn: 3.9131051\ttotal: 6m 34s\tremaining: 3m 4s\n",
      "1362:\tlearn: 3.9128700\ttotal: 6m 34s\tremaining: 3m 4s\n",
      "1363:\tlearn: 3.9127888\ttotal: 6m 34s\tremaining: 3m 4s\n",
      "1364:\tlearn: 3.9126512\ttotal: 6m 35s\tremaining: 3m 3s\n",
      "1365:\tlearn: 3.9124840\ttotal: 6m 35s\tremaining: 3m 3s\n",
      "1366:\tlearn: 3.9123328\ttotal: 6m 35s\tremaining: 3m 3s\n",
      "1367:\tlearn: 3.9121669\ttotal: 6m 36s\tremaining: 3m 2s\n",
      "1368:\tlearn: 3.9116977\ttotal: 6m 36s\tremaining: 3m 2s\n",
      "1369:\tlearn: 3.9114087\ttotal: 6m 36s\tremaining: 3m 2s\n",
      "1370:\tlearn: 3.9113263\ttotal: 6m 36s\tremaining: 3m 2s\n",
      "1371:\tlearn: 3.9112417\ttotal: 6m 37s\tremaining: 3m 1s\n",
      "1372:\tlearn: 3.9106271\ttotal: 6m 37s\tremaining: 3m 1s\n",
      "1373:\tlearn: 3.9104079\ttotal: 6m 37s\tremaining: 3m 1s\n",
      "1374:\tlearn: 3.9096796\ttotal: 6m 38s\tremaining: 3m\n",
      "1375:\tlearn: 3.9095358\ttotal: 6m 38s\tremaining: 3m\n",
      "1376:\tlearn: 3.9089327\ttotal: 6m 38s\tremaining: 3m\n",
      "1377:\tlearn: 3.9088354\ttotal: 6m 39s\tremaining: 3m\n",
      "1378:\tlearn: 3.9082704\ttotal: 6m 39s\tremaining: 2m 59s\n",
      "1379:\tlearn: 3.9079429\ttotal: 6m 39s\tremaining: 2m 59s\n"
     ]
    },
    {
     "name": "stdout",
     "output_type": "stream",
     "text": [
      "1380:\tlearn: 3.9074112\ttotal: 6m 40s\tremaining: 2m 59s\n",
      "1381:\tlearn: 3.9073216\ttotal: 6m 40s\tremaining: 2m 59s\n",
      "1382:\tlearn: 3.9071082\ttotal: 6m 40s\tremaining: 2m 58s\n",
      "1383:\tlearn: 3.9065672\ttotal: 6m 40s\tremaining: 2m 58s\n",
      "1384:\tlearn: 3.9063715\ttotal: 6m 41s\tremaining: 2m 58s\n",
      "1385:\tlearn: 3.9058600\ttotal: 6m 41s\tremaining: 2m 57s\n",
      "1386:\tlearn: 3.9056985\ttotal: 6m 41s\tremaining: 2m 57s\n",
      "1387:\tlearn: 3.9054294\ttotal: 6m 42s\tremaining: 2m 57s\n",
      "1388:\tlearn: 3.9051434\ttotal: 6m 42s\tremaining: 2m 57s\n",
      "1389:\tlearn: 3.9047458\ttotal: 6m 42s\tremaining: 2m 56s\n",
      "1390:\tlearn: 3.9043640\ttotal: 6m 42s\tremaining: 2m 56s\n",
      "1391:\tlearn: 3.9040225\ttotal: 6m 43s\tremaining: 2m 56s\n",
      "1392:\tlearn: 3.9036755\ttotal: 6m 43s\tremaining: 2m 55s\n",
      "1393:\tlearn: 3.9033924\ttotal: 6m 43s\tremaining: 2m 55s\n",
      "1394:\tlearn: 3.9030350\ttotal: 6m 44s\tremaining: 2m 55s\n",
      "1395:\tlearn: 3.9025902\ttotal: 6m 44s\tremaining: 2m 54s\n",
      "1396:\tlearn: 3.9024327\ttotal: 6m 44s\tremaining: 2m 54s\n",
      "1397:\tlearn: 3.9023436\ttotal: 6m 44s\tremaining: 2m 54s\n",
      "1398:\tlearn: 3.9021610\ttotal: 6m 45s\tremaining: 2m 54s\n",
      "1399:\tlearn: 3.9019812\ttotal: 6m 45s\tremaining: 2m 53s\n",
      "1400:\tlearn: 3.9014979\ttotal: 6m 45s\tremaining: 2m 53s\n",
      "1401:\tlearn: 3.9009430\ttotal: 6m 46s\tremaining: 2m 53s\n",
      "1402:\tlearn: 3.9007538\ttotal: 6m 46s\tremaining: 2m 52s\n",
      "1403:\tlearn: 3.9004798\ttotal: 6m 46s\tremaining: 2m 52s\n",
      "1404:\tlearn: 3.9002783\ttotal: 6m 46s\tremaining: 2m 52s\n",
      "1405:\tlearn: 3.8999474\ttotal: 6m 47s\tremaining: 2m 51s\n",
      "1406:\tlearn: 3.8993587\ttotal: 6m 47s\tremaining: 2m 51s\n",
      "1407:\tlearn: 3.8990681\ttotal: 6m 47s\tremaining: 2m 51s\n",
      "1408:\tlearn: 3.8988878\ttotal: 6m 47s\tremaining: 2m 51s\n",
      "1409:\tlearn: 3.8987895\ttotal: 6m 48s\tremaining: 2m 50s\n",
      "1410:\tlearn: 3.8987180\ttotal: 6m 48s\tremaining: 2m 50s\n",
      "1411:\tlearn: 3.8981435\ttotal: 6m 48s\tremaining: 2m 50s\n",
      "1412:\tlearn: 3.8977034\ttotal: 6m 49s\tremaining: 2m 49s\n",
      "1413:\tlearn: 3.8974805\ttotal: 6m 49s\tremaining: 2m 49s\n",
      "1414:\tlearn: 3.8972395\ttotal: 6m 49s\tremaining: 2m 49s\n",
      "1415:\tlearn: 3.8968603\ttotal: 6m 49s\tremaining: 2m 49s\n",
      "1416:\tlearn: 3.8965758\ttotal: 6m 50s\tremaining: 2m 48s\n",
      "1417:\tlearn: 3.8963650\ttotal: 6m 50s\tremaining: 2m 48s\n",
      "1418:\tlearn: 3.8961968\ttotal: 6m 50s\tremaining: 2m 48s\n",
      "1419:\tlearn: 3.8960826\ttotal: 6m 51s\tremaining: 2m 47s\n",
      "1420:\tlearn: 3.8959689\ttotal: 6m 51s\tremaining: 2m 47s\n",
      "1421:\tlearn: 3.8956505\ttotal: 6m 51s\tremaining: 2m 47s\n",
      "1422:\tlearn: 3.8955276\ttotal: 6m 51s\tremaining: 2m 47s\n",
      "1423:\tlearn: 3.8948836\ttotal: 6m 52s\tremaining: 2m 46s\n",
      "1424:\tlearn: 3.8946920\ttotal: 6m 52s\tremaining: 2m 46s\n",
      "1425:\tlearn: 3.8945906\ttotal: 6m 52s\tremaining: 2m 46s\n",
      "1426:\tlearn: 3.8945263\ttotal: 6m 53s\tremaining: 2m 45s\n",
      "1427:\tlearn: 3.8942477\ttotal: 6m 53s\tremaining: 2m 45s\n",
      "1428:\tlearn: 3.8938309\ttotal: 6m 53s\tremaining: 2m 45s\n",
      "1429:\tlearn: 3.8936537\ttotal: 6m 54s\tremaining: 2m 45s\n",
      "1430:\tlearn: 3.8931642\ttotal: 6m 54s\tremaining: 2m 44s\n",
      "1431:\tlearn: 3.8930607\ttotal: 6m 54s\tremaining: 2m 44s\n",
      "1432:\tlearn: 3.8927472\ttotal: 6m 54s\tremaining: 2m 44s\n",
      "1433:\tlearn: 3.8924869\ttotal: 6m 55s\tremaining: 2m 43s\n",
      "1434:\tlearn: 3.8921976\ttotal: 6m 55s\tremaining: 2m 43s\n",
      "1435:\tlearn: 3.8918557\ttotal: 6m 55s\tremaining: 2m 43s\n",
      "1436:\tlearn: 3.8916870\ttotal: 6m 55s\tremaining: 2m 42s\n",
      "1437:\tlearn: 3.8912227\ttotal: 6m 56s\tremaining: 2m 42s\n",
      "1438:\tlearn: 3.8907681\ttotal: 6m 56s\tremaining: 2m 42s\n",
      "1439:\tlearn: 3.8906157\ttotal: 6m 56s\tremaining: 2m 42s\n",
      "1440:\tlearn: 3.8904193\ttotal: 6m 57s\tremaining: 2m 41s\n",
      "1441:\tlearn: 3.8900670\ttotal: 6m 57s\tremaining: 2m 41s\n",
      "1442:\tlearn: 3.8897875\ttotal: 6m 57s\tremaining: 2m 41s\n",
      "1443:\tlearn: 3.8892602\ttotal: 6m 57s\tremaining: 2m 40s\n",
      "1444:\tlearn: 3.8892017\ttotal: 6m 58s\tremaining: 2m 40s\n",
      "1445:\tlearn: 3.8887345\ttotal: 6m 58s\tremaining: 2m 40s\n",
      "1446:\tlearn: 3.8885254\ttotal: 6m 58s\tremaining: 2m 40s\n",
      "1447:\tlearn: 3.8882761\ttotal: 6m 59s\tremaining: 2m 39s\n",
      "1448:\tlearn: 3.8881099\ttotal: 6m 59s\tremaining: 2m 39s\n",
      "1449:\tlearn: 3.8873548\ttotal: 6m 59s\tremaining: 2m 39s\n",
      "1450:\tlearn: 3.8872483\ttotal: 7m\tremaining: 2m 38s\n",
      "1451:\tlearn: 3.8870762\ttotal: 7m\tremaining: 2m 38s\n",
      "1452:\tlearn: 3.8868087\ttotal: 7m\tremaining: 2m 38s\n",
      "1453:\tlearn: 3.8866500\ttotal: 7m\tremaining: 2m 38s\n",
      "1454:\tlearn: 3.8864725\ttotal: 7m 1s\tremaining: 2m 37s\n",
      "1455:\tlearn: 3.8861744\ttotal: 7m 1s\tremaining: 2m 37s\n",
      "1456:\tlearn: 3.8860497\ttotal: 7m 1s\tremaining: 2m 37s\n",
      "1457:\tlearn: 3.8858709\ttotal: 7m 2s\tremaining: 2m 36s\n",
      "1458:\tlearn: 3.8855600\ttotal: 7m 2s\tremaining: 2m 36s\n",
      "1459:\tlearn: 3.8853903\ttotal: 7m 2s\tremaining: 2m 36s\n",
      "1460:\tlearn: 3.8851812\ttotal: 7m 3s\tremaining: 2m 36s\n",
      "1461:\tlearn: 3.8844682\ttotal: 7m 3s\tremaining: 2m 35s\n",
      "1462:\tlearn: 3.8839448\ttotal: 7m 3s\tremaining: 2m 35s\n",
      "1463:\tlearn: 3.8834945\ttotal: 7m 3s\tremaining: 2m 35s\n",
      "1464:\tlearn: 3.8833651\ttotal: 7m 4s\tremaining: 2m 34s\n",
      "1465:\tlearn: 3.8831443\ttotal: 7m 4s\tremaining: 2m 34s\n",
      "1466:\tlearn: 3.8826671\ttotal: 7m 4s\tremaining: 2m 34s\n",
      "1467:\tlearn: 3.8824807\ttotal: 7m 5s\tremaining: 2m 34s\n",
      "1468:\tlearn: 3.8823136\ttotal: 7m 5s\tremaining: 2m 33s\n",
      "1469:\tlearn: 3.8820581\ttotal: 7m 5s\tremaining: 2m 33s\n",
      "1470:\tlearn: 3.8819382\ttotal: 7m 5s\tremaining: 2m 33s\n",
      "1471:\tlearn: 3.8813706\ttotal: 7m 6s\tremaining: 2m 32s\n",
      "1472:\tlearn: 3.8810695\ttotal: 7m 6s\tremaining: 2m 32s\n",
      "1473:\tlearn: 3.8806880\ttotal: 7m 6s\tremaining: 2m 32s\n",
      "1474:\tlearn: 3.8805466\ttotal: 7m 7s\tremaining: 2m 32s\n",
      "1475:\tlearn: 3.8803480\ttotal: 7m 7s\tremaining: 2m 31s\n",
      "1476:\tlearn: 3.8802621\ttotal: 7m 7s\tremaining: 2m 31s\n",
      "1477:\tlearn: 3.8797040\ttotal: 7m 7s\tremaining: 2m 31s\n",
      "1478:\tlearn: 3.8794526\ttotal: 7m 8s\tremaining: 2m 30s\n",
      "1479:\tlearn: 3.8793305\ttotal: 7m 8s\tremaining: 2m 30s\n",
      "1480:\tlearn: 3.8790906\ttotal: 7m 8s\tremaining: 2m 30s\n",
      "1481:\tlearn: 3.8789034\ttotal: 7m 8s\tremaining: 2m 29s\n",
      "1482:\tlearn: 3.8785820\ttotal: 7m 9s\tremaining: 2m 29s\n",
      "1483:\tlearn: 3.8780353\ttotal: 7m 9s\tremaining: 2m 29s\n",
      "1484:\tlearn: 3.8772701\ttotal: 7m 9s\tremaining: 2m 29s\n",
      "1485:\tlearn: 3.8768494\ttotal: 7m 10s\tremaining: 2m 28s\n",
      "1486:\tlearn: 3.8767583\ttotal: 7m 10s\tremaining: 2m 28s\n",
      "1487:\tlearn: 3.8763567\ttotal: 7m 10s\tremaining: 2m 28s\n",
      "1488:\tlearn: 3.8761675\ttotal: 7m 11s\tremaining: 2m 27s\n",
      "1489:\tlearn: 3.8758904\ttotal: 7m 11s\tremaining: 2m 27s\n",
      "1490:\tlearn: 3.8757379\ttotal: 7m 11s\tremaining: 2m 27s\n",
      "1491:\tlearn: 3.8753890\ttotal: 7m 11s\tremaining: 2m 27s\n",
      "1492:\tlearn: 3.8750581\ttotal: 7m 12s\tremaining: 2m 26s\n",
      "1493:\tlearn: 3.8748505\ttotal: 7m 12s\tremaining: 2m 26s\n",
      "1494:\tlearn: 3.8745620\ttotal: 7m 12s\tremaining: 2m 26s\n",
      "1495:\tlearn: 3.8743040\ttotal: 7m 12s\tremaining: 2m 25s\n",
      "1496:\tlearn: 3.8742302\ttotal: 7m 13s\tremaining: 2m 25s\n",
      "1497:\tlearn: 3.8740762\ttotal: 7m 13s\tremaining: 2m 25s\n",
      "1498:\tlearn: 3.8738046\ttotal: 7m 13s\tremaining: 2m 24s\n",
      "1499:\tlearn: 3.8732725\ttotal: 7m 14s\tremaining: 2m 24s\n",
      "1500:\tlearn: 3.8729953\ttotal: 7m 14s\tremaining: 2m 24s\n",
      "1501:\tlearn: 3.8724432\ttotal: 7m 14s\tremaining: 2m 24s\n",
      "1502:\tlearn: 3.8722524\ttotal: 7m 14s\tremaining: 2m 23s\n",
      "1503:\tlearn: 3.8718169\ttotal: 7m 15s\tremaining: 2m 23s\n",
      "1504:\tlearn: 3.8713167\ttotal: 7m 15s\tremaining: 2m 23s\n",
      "1505:\tlearn: 3.8708027\ttotal: 7m 15s\tremaining: 2m 22s\n",
      "1506:\tlearn: 3.8704080\ttotal: 7m 16s\tremaining: 2m 22s\n",
      "1507:\tlearn: 3.8700074\ttotal: 7m 16s\tremaining: 2m 22s\n",
      "1508:\tlearn: 3.8697952\ttotal: 7m 16s\tremaining: 2m 22s\n",
      "1509:\tlearn: 3.8695430\ttotal: 7m 17s\tremaining: 2m 21s\n",
      "1510:\tlearn: 3.8693160\ttotal: 7m 17s\tremaining: 2m 21s\n",
      "1511:\tlearn: 3.8690749\ttotal: 7m 17s\tremaining: 2m 21s\n",
      "1512:\tlearn: 3.8689091\ttotal: 7m 17s\tremaining: 2m 20s\n",
      "1513:\tlearn: 3.8687020\ttotal: 7m 18s\tremaining: 2m 20s\n",
      "1514:\tlearn: 3.8685402\ttotal: 7m 18s\tremaining: 2m 20s\n",
      "1515:\tlearn: 3.8683970\ttotal: 7m 18s\tremaining: 2m 20s\n",
      "1516:\tlearn: 3.8682416\ttotal: 7m 18s\tremaining: 2m 19s\n",
      "1517:\tlearn: 3.8680343\ttotal: 7m 19s\tremaining: 2m 19s\n",
      "1518:\tlearn: 3.8679008\ttotal: 7m 19s\tremaining: 2m 19s\n",
      "1519:\tlearn: 3.8677381\ttotal: 7m 19s\tremaining: 2m 18s\n",
      "1520:\tlearn: 3.8676144\ttotal: 7m 19s\tremaining: 2m 18s\n",
      "1521:\tlearn: 3.8675397\ttotal: 7m 20s\tremaining: 2m 18s\n",
      "1522:\tlearn: 3.8673751\ttotal: 7m 20s\tremaining: 2m 17s\n",
      "1523:\tlearn: 3.8672411\ttotal: 7m 20s\tremaining: 2m 17s\n",
      "1524:\tlearn: 3.8670631\ttotal: 7m 21s\tremaining: 2m 17s\n",
      "1525:\tlearn: 3.8669698\ttotal: 7m 21s\tremaining: 2m 17s\n",
      "1526:\tlearn: 3.8665813\ttotal: 7m 21s\tremaining: 2m 16s\n",
      "1527:\tlearn: 3.8660710\ttotal: 7m 21s\tremaining: 2m 16s\n",
      "1528:\tlearn: 3.8654457\ttotal: 7m 22s\tremaining: 2m 16s\n",
      "1529:\tlearn: 3.8652593\ttotal: 7m 22s\tremaining: 2m 15s\n"
     ]
    },
    {
     "name": "stdout",
     "output_type": "stream",
     "text": [
      "1530:\tlearn: 3.8648593\ttotal: 7m 22s\tremaining: 2m 15s\n",
      "1531:\tlearn: 3.8647179\ttotal: 7m 22s\tremaining: 2m 15s\n",
      "1532:\tlearn: 3.8645253\ttotal: 7m 23s\tremaining: 2m 15s\n",
      "1533:\tlearn: 3.8643662\ttotal: 7m 23s\tremaining: 2m 14s\n",
      "1534:\tlearn: 3.8642896\ttotal: 7m 23s\tremaining: 2m 14s\n",
      "1535:\tlearn: 3.8641009\ttotal: 7m 24s\tremaining: 2m 14s\n",
      "1536:\tlearn: 3.8637308\ttotal: 7m 24s\tremaining: 2m 13s\n",
      "1537:\tlearn: 3.8635785\ttotal: 7m 24s\tremaining: 2m 13s\n",
      "1538:\tlearn: 3.8633685\ttotal: 7m 24s\tremaining: 2m 13s\n",
      "1539:\tlearn: 3.8632020\ttotal: 7m 25s\tremaining: 2m 12s\n",
      "1540:\tlearn: 3.8630539\ttotal: 7m 25s\tremaining: 2m 12s\n",
      "1541:\tlearn: 3.8628695\ttotal: 7m 25s\tremaining: 2m 12s\n",
      "1542:\tlearn: 3.8627139\ttotal: 7m 25s\tremaining: 2m 12s\n",
      "1543:\tlearn: 3.8626582\ttotal: 7m 26s\tremaining: 2m 11s\n",
      "1544:\tlearn: 3.8624376\ttotal: 7m 26s\tremaining: 2m 11s\n",
      "1545:\tlearn: 3.8622787\ttotal: 7m 26s\tremaining: 2m 11s\n",
      "1546:\tlearn: 3.8621627\ttotal: 7m 27s\tremaining: 2m 10s\n",
      "1547:\tlearn: 3.8618275\ttotal: 7m 27s\tremaining: 2m 10s\n",
      "1548:\tlearn: 3.8617294\ttotal: 7m 27s\tremaining: 2m 10s\n",
      "1549:\tlearn: 3.8610469\ttotal: 7m 27s\tremaining: 2m 10s\n",
      "1550:\tlearn: 3.8609494\ttotal: 7m 28s\tremaining: 2m 9s\n",
      "1551:\tlearn: 3.8606456\ttotal: 7m 28s\tremaining: 2m 9s\n",
      "1552:\tlearn: 3.8604667\ttotal: 7m 28s\tremaining: 2m 9s\n",
      "1553:\tlearn: 3.8602364\ttotal: 7m 29s\tremaining: 2m 8s\n",
      "1554:\tlearn: 3.8597878\ttotal: 7m 29s\tremaining: 2m 8s\n",
      "1555:\tlearn: 3.8593653\ttotal: 7m 29s\tremaining: 2m 8s\n",
      "1556:\tlearn: 3.8591477\ttotal: 7m 30s\tremaining: 2m 8s\n",
      "1557:\tlearn: 3.8589316\ttotal: 7m 30s\tremaining: 2m 7s\n",
      "1558:\tlearn: 3.8586532\ttotal: 7m 30s\tremaining: 2m 7s\n",
      "1559:\tlearn: 3.8585782\ttotal: 7m 30s\tremaining: 2m 7s\n",
      "1560:\tlearn: 3.8582618\ttotal: 7m 31s\tremaining: 2m 6s\n",
      "1561:\tlearn: 3.8580378\ttotal: 7m 31s\tremaining: 2m 6s\n",
      "1562:\tlearn: 3.8575106\ttotal: 7m 31s\tremaining: 2m 6s\n",
      "1563:\tlearn: 3.8573442\ttotal: 7m 32s\tremaining: 2m 6s\n",
      "1564:\tlearn: 3.8569707\ttotal: 7m 32s\tremaining: 2m 5s\n",
      "1565:\tlearn: 3.8568073\ttotal: 7m 32s\tremaining: 2m 5s\n",
      "1566:\tlearn: 3.8567096\ttotal: 7m 33s\tremaining: 2m 5s\n",
      "1567:\tlearn: 3.8565342\ttotal: 7m 33s\tremaining: 2m 4s\n",
      "1568:\tlearn: 3.8563364\ttotal: 7m 33s\tremaining: 2m 4s\n",
      "1569:\tlearn: 3.8562532\ttotal: 7m 33s\tremaining: 2m 4s\n",
      "1570:\tlearn: 3.8557579\ttotal: 7m 34s\tremaining: 2m 4s\n",
      "1571:\tlearn: 3.8554187\ttotal: 7m 34s\tremaining: 2m 3s\n",
      "1572:\tlearn: 3.8553045\ttotal: 7m 34s\tremaining: 2m 3s\n",
      "1573:\tlearn: 3.8548440\ttotal: 7m 35s\tremaining: 2m 3s\n",
      "1574:\tlearn: 3.8546164\ttotal: 7m 35s\tremaining: 2m 2s\n",
      "1575:\tlearn: 3.8544497\ttotal: 7m 35s\tremaining: 2m 2s\n",
      "1576:\tlearn: 3.8543375\ttotal: 7m 35s\tremaining: 2m 2s\n",
      "1577:\tlearn: 3.8542099\ttotal: 7m 36s\tremaining: 2m 2s\n",
      "1578:\tlearn: 3.8537553\ttotal: 7m 36s\tremaining: 2m 1s\n",
      "1579:\tlearn: 3.8536115\ttotal: 7m 36s\tremaining: 2m 1s\n",
      "1580:\tlearn: 3.8532936\ttotal: 7m 37s\tremaining: 2m 1s\n",
      "1581:\tlearn: 3.8530858\ttotal: 7m 37s\tremaining: 2m\n",
      "1582:\tlearn: 3.8529397\ttotal: 7m 37s\tremaining: 2m\n",
      "1583:\tlearn: 3.8527247\ttotal: 7m 37s\tremaining: 2m\n",
      "1584:\tlearn: 3.8523890\ttotal: 7m 38s\tremaining: 1m 59s\n",
      "1585:\tlearn: 3.8521494\ttotal: 7m 38s\tremaining: 1m 59s\n",
      "1586:\tlearn: 3.8517441\ttotal: 7m 38s\tremaining: 1m 59s\n",
      "1587:\tlearn: 3.8515503\ttotal: 7m 39s\tremaining: 1m 59s\n",
      "1588:\tlearn: 3.8510718\ttotal: 7m 39s\tremaining: 1m 58s\n",
      "1589:\tlearn: 3.8506286\ttotal: 7m 39s\tremaining: 1m 58s\n",
      "1590:\tlearn: 3.8504803\ttotal: 7m 40s\tremaining: 1m 58s\n",
      "1591:\tlearn: 3.8502771\ttotal: 7m 40s\tremaining: 1m 57s\n",
      "1592:\tlearn: 3.8499110\ttotal: 7m 40s\tremaining: 1m 57s\n",
      "1593:\tlearn: 3.8493437\ttotal: 7m 40s\tremaining: 1m 57s\n",
      "1594:\tlearn: 3.8492698\ttotal: 7m 41s\tremaining: 1m 57s\n",
      "1595:\tlearn: 3.8488931\ttotal: 7m 41s\tremaining: 1m 56s\n",
      "1596:\tlearn: 3.8487071\ttotal: 7m 41s\tremaining: 1m 56s\n",
      "1597:\tlearn: 3.8484435\ttotal: 7m 42s\tremaining: 1m 56s\n",
      "1598:\tlearn: 3.8481445\ttotal: 7m 42s\tremaining: 1m 55s\n",
      "1599:\tlearn: 3.8477392\ttotal: 7m 42s\tremaining: 1m 55s\n",
      "1600:\tlearn: 3.8471390\ttotal: 7m 42s\tremaining: 1m 55s\n",
      "1601:\tlearn: 3.8466079\ttotal: 7m 43s\tremaining: 1m 55s\n",
      "1602:\tlearn: 3.8463415\ttotal: 7m 43s\tremaining: 1m 54s\n",
      "1603:\tlearn: 3.8460757\ttotal: 7m 43s\tremaining: 1m 54s\n",
      "1604:\tlearn: 3.8459242\ttotal: 7m 44s\tremaining: 1m 54s\n",
      "1605:\tlearn: 3.8457096\ttotal: 7m 44s\tremaining: 1m 53s\n",
      "1606:\tlearn: 3.8455504\ttotal: 7m 44s\tremaining: 1m 53s\n",
      "1607:\tlearn: 3.8454186\ttotal: 7m 44s\tremaining: 1m 53s\n",
      "1608:\tlearn: 3.8450379\ttotal: 7m 45s\tremaining: 1m 53s\n",
      "1609:\tlearn: 3.8445393\ttotal: 7m 45s\tremaining: 1m 52s\n",
      "1610:\tlearn: 3.8441407\ttotal: 7m 45s\tremaining: 1m 52s\n",
      "1611:\tlearn: 3.8440252\ttotal: 7m 46s\tremaining: 1m 52s\n",
      "1612:\tlearn: 3.8438405\ttotal: 7m 46s\tremaining: 1m 51s\n",
      "1613:\tlearn: 3.8437285\ttotal: 7m 46s\tremaining: 1m 51s\n",
      "1614:\tlearn: 3.8433418\ttotal: 7m 46s\tremaining: 1m 51s\n",
      "1615:\tlearn: 3.8432478\ttotal: 7m 47s\tremaining: 1m 51s\n",
      "1616:\tlearn: 3.8430504\ttotal: 7m 47s\tremaining: 1m 50s\n",
      "1617:\tlearn: 3.8426438\ttotal: 7m 47s\tremaining: 1m 50s\n",
      "1618:\tlearn: 3.8424019\ttotal: 7m 48s\tremaining: 1m 50s\n",
      "1619:\tlearn: 3.8419587\ttotal: 7m 48s\tremaining: 1m 49s\n",
      "1620:\tlearn: 3.8415089\ttotal: 7m 48s\tremaining: 1m 49s\n",
      "1621:\tlearn: 3.8414400\ttotal: 7m 48s\tremaining: 1m 49s\n",
      "1622:\tlearn: 3.8407830\ttotal: 7m 49s\tremaining: 1m 49s\n",
      "1623:\tlearn: 3.8406184\ttotal: 7m 49s\tremaining: 1m 48s\n",
      "1624:\tlearn: 3.8404049\ttotal: 7m 49s\tremaining: 1m 48s\n",
      "1625:\tlearn: 3.8402231\ttotal: 7m 50s\tremaining: 1m 48s\n",
      "1626:\tlearn: 3.8398932\ttotal: 7m 50s\tremaining: 1m 47s\n",
      "1627:\tlearn: 3.8396555\ttotal: 7m 50s\tremaining: 1m 47s\n",
      "1628:\tlearn: 3.8394483\ttotal: 7m 51s\tremaining: 1m 47s\n",
      "1629:\tlearn: 3.8393269\ttotal: 7m 51s\tremaining: 1m 46s\n",
      "1630:\tlearn: 3.8387760\ttotal: 7m 51s\tremaining: 1m 46s\n",
      "1631:\tlearn: 3.8384817\ttotal: 7m 51s\tremaining: 1m 46s\n",
      "1632:\tlearn: 3.8383581\ttotal: 7m 52s\tremaining: 1m 46s\n",
      "1633:\tlearn: 3.8381343\ttotal: 7m 52s\tremaining: 1m 45s\n",
      "1634:\tlearn: 3.8380782\ttotal: 7m 52s\tremaining: 1m 45s\n",
      "1635:\tlearn: 3.8376060\ttotal: 7m 53s\tremaining: 1m 45s\n",
      "1636:\tlearn: 3.8373538\ttotal: 7m 53s\tremaining: 1m 44s\n",
      "1637:\tlearn: 3.8370924\ttotal: 7m 53s\tremaining: 1m 44s\n",
      "1638:\tlearn: 3.8367910\ttotal: 7m 54s\tremaining: 1m 44s\n",
      "1639:\tlearn: 3.8362478\ttotal: 7m 54s\tremaining: 1m 44s\n",
      "1640:\tlearn: 3.8359023\ttotal: 7m 54s\tremaining: 1m 43s\n",
      "1641:\tlearn: 3.8354229\ttotal: 7m 55s\tremaining: 1m 43s\n",
      "1642:\tlearn: 3.8348631\ttotal: 7m 55s\tremaining: 1m 43s\n",
      "1643:\tlearn: 3.8347320\ttotal: 7m 55s\tremaining: 1m 43s\n",
      "1644:\tlearn: 3.8342870\ttotal: 7m 56s\tremaining: 1m 42s\n",
      "1645:\tlearn: 3.8339789\ttotal: 7m 56s\tremaining: 1m 42s\n",
      "1646:\tlearn: 3.8337717\ttotal: 7m 56s\tremaining: 1m 42s\n",
      "1647:\tlearn: 3.8334842\ttotal: 7m 57s\tremaining: 1m 41s\n",
      "1648:\tlearn: 3.8332448\ttotal: 7m 57s\tremaining: 1m 41s\n",
      "1649:\tlearn: 3.8326567\ttotal: 7m 57s\tremaining: 1m 41s\n",
      "1650:\tlearn: 3.8325261\ttotal: 7m 57s\tremaining: 1m 41s\n",
      "1651:\tlearn: 3.8321011\ttotal: 7m 58s\tremaining: 1m 40s\n",
      "1652:\tlearn: 3.8319608\ttotal: 7m 58s\tremaining: 1m 40s\n",
      "1653:\tlearn: 3.8318290\ttotal: 7m 58s\tremaining: 1m 40s\n",
      "1654:\tlearn: 3.8317220\ttotal: 7m 59s\tremaining: 1m 39s\n",
      "1655:\tlearn: 3.8312763\ttotal: 7m 59s\tremaining: 1m 39s\n",
      "1656:\tlearn: 3.8310972\ttotal: 7m 59s\tremaining: 1m 39s\n",
      "1657:\tlearn: 3.8309100\ttotal: 8m\tremaining: 1m 39s\n",
      "1658:\tlearn: 3.8306816\ttotal: 8m\tremaining: 1m 38s\n",
      "1659:\tlearn: 3.8305399\ttotal: 8m\tremaining: 1m 38s\n",
      "1660:\tlearn: 3.8304771\ttotal: 8m\tremaining: 1m 38s\n",
      "1661:\tlearn: 3.8303864\ttotal: 8m 1s\tremaining: 1m 37s\n",
      "1662:\tlearn: 3.8300854\ttotal: 8m 1s\tremaining: 1m 37s\n",
      "1663:\tlearn: 3.8298739\ttotal: 8m 1s\tremaining: 1m 37s\n",
      "1664:\tlearn: 3.8297030\ttotal: 8m 2s\tremaining: 1m 37s\n",
      "1665:\tlearn: 3.8296062\ttotal: 8m 2s\tremaining: 1m 36s\n",
      "1666:\tlearn: 3.8293600\ttotal: 8m 2s\tremaining: 1m 36s\n",
      "1667:\tlearn: 3.8292778\ttotal: 8m 3s\tremaining: 1m 36s\n",
      "1668:\tlearn: 3.8289047\ttotal: 8m 3s\tremaining: 1m 35s\n",
      "1669:\tlearn: 3.8287629\ttotal: 8m 3s\tremaining: 1m 35s\n",
      "1670:\tlearn: 3.8286171\ttotal: 8m 3s\tremaining: 1m 35s\n",
      "1671:\tlearn: 3.8282241\ttotal: 8m 4s\tremaining: 1m 35s\n",
      "1672:\tlearn: 3.8280922\ttotal: 8m 4s\tremaining: 1m 34s\n",
      "1673:\tlearn: 3.8279423\ttotal: 8m 4s\tremaining: 1m 34s\n",
      "1674:\tlearn: 3.8275135\ttotal: 8m 5s\tremaining: 1m 34s\n",
      "1675:\tlearn: 3.8273464\ttotal: 8m 5s\tremaining: 1m 33s\n",
      "1676:\tlearn: 3.8269718\ttotal: 8m 5s\tremaining: 1m 33s\n",
      "1677:\tlearn: 3.8265209\ttotal: 8m 6s\tremaining: 1m 33s\n",
      "1678:\tlearn: 3.8260005\ttotal: 8m 6s\tremaining: 1m 32s\n",
      "1679:\tlearn: 3.8255115\ttotal: 8m 6s\tremaining: 1m 32s\n",
      "1680:\tlearn: 3.8253928\ttotal: 8m 6s\tremaining: 1m 32s\n"
     ]
    },
    {
     "name": "stdout",
     "output_type": "stream",
     "text": [
      "1681:\tlearn: 3.8248190\ttotal: 8m 7s\tremaining: 1m 32s\n",
      "1682:\tlearn: 3.8245827\ttotal: 8m 7s\tremaining: 1m 31s\n",
      "1683:\tlearn: 3.8244717\ttotal: 8m 7s\tremaining: 1m 31s\n",
      "1684:\tlearn: 3.8242237\ttotal: 8m 8s\tremaining: 1m 31s\n",
      "1685:\tlearn: 3.8240396\ttotal: 8m 8s\tremaining: 1m 30s\n",
      "1686:\tlearn: 3.8235247\ttotal: 8m 8s\tremaining: 1m 30s\n",
      "1687:\tlearn: 3.8233661\ttotal: 8m 9s\tremaining: 1m 30s\n",
      "1688:\tlearn: 3.8228087\ttotal: 8m 9s\tremaining: 1m 30s\n",
      "1689:\tlearn: 3.8226232\ttotal: 8m 9s\tremaining: 1m 29s\n",
      "1690:\tlearn: 3.8223341\ttotal: 8m 10s\tremaining: 1m 29s\n",
      "1691:\tlearn: 3.8222098\ttotal: 8m 10s\tremaining: 1m 29s\n",
      "1692:\tlearn: 3.8220775\ttotal: 8m 10s\tremaining: 1m 28s\n",
      "1693:\tlearn: 3.8219935\ttotal: 8m 10s\tremaining: 1m 28s\n",
      "1694:\tlearn: 3.8219345\ttotal: 8m 11s\tremaining: 1m 28s\n",
      "1695:\tlearn: 3.8217677\ttotal: 8m 11s\tremaining: 1m 28s\n",
      "1696:\tlearn: 3.8216180\ttotal: 8m 11s\tremaining: 1m 27s\n",
      "1697:\tlearn: 3.8215451\ttotal: 8m 11s\tremaining: 1m 27s\n",
      "1698:\tlearn: 3.8214053\ttotal: 8m 12s\tremaining: 1m 27s\n",
      "1699:\tlearn: 3.8213054\ttotal: 8m 12s\tremaining: 1m 26s\n",
      "1700:\tlearn: 3.8211013\ttotal: 8m 12s\tremaining: 1m 26s\n",
      "1701:\tlearn: 3.8206982\ttotal: 8m 13s\tremaining: 1m 26s\n",
      "1702:\tlearn: 3.8205537\ttotal: 8m 13s\tremaining: 1m 26s\n",
      "1703:\tlearn: 3.8200382\ttotal: 8m 13s\tremaining: 1m 25s\n",
      "1704:\tlearn: 3.8198626\ttotal: 8m 13s\tremaining: 1m 25s\n",
      "1705:\tlearn: 3.8194942\ttotal: 8m 14s\tremaining: 1m 25s\n",
      "1706:\tlearn: 3.8193275\ttotal: 8m 14s\tremaining: 1m 24s\n",
      "1707:\tlearn: 3.8188161\ttotal: 8m 14s\tremaining: 1m 24s\n",
      "1708:\tlearn: 3.8187084\ttotal: 8m 15s\tremaining: 1m 24s\n",
      "1709:\tlearn: 3.8185229\ttotal: 8m 15s\tremaining: 1m 24s\n",
      "1710:\tlearn: 3.8179227\ttotal: 8m 15s\tremaining: 1m 23s\n",
      "1711:\tlearn: 3.8173616\ttotal: 8m 16s\tremaining: 1m 23s\n",
      "1712:\tlearn: 3.8169864\ttotal: 8m 16s\tremaining: 1m 23s\n",
      "1713:\tlearn: 3.8168756\ttotal: 8m 16s\tremaining: 1m 22s\n",
      "1714:\tlearn: 3.8167361\ttotal: 8m 16s\tremaining: 1m 22s\n",
      "1715:\tlearn: 3.8163476\ttotal: 8m 17s\tremaining: 1m 22s\n",
      "1716:\tlearn: 3.8157411\ttotal: 8m 17s\tremaining: 1m 21s\n",
      "1717:\tlearn: 3.8153499\ttotal: 8m 17s\tremaining: 1m 21s\n",
      "1718:\tlearn: 3.8152826\ttotal: 8m 17s\tremaining: 1m 21s\n",
      "1719:\tlearn: 3.8151819\ttotal: 8m 18s\tremaining: 1m 21s\n",
      "1720:\tlearn: 3.8148303\ttotal: 8m 18s\tremaining: 1m 20s\n",
      "1721:\tlearn: 3.8145740\ttotal: 8m 18s\tremaining: 1m 20s\n",
      "1722:\tlearn: 3.8143942\ttotal: 8m 19s\tremaining: 1m 20s\n",
      "1723:\tlearn: 3.8142377\ttotal: 8m 19s\tremaining: 1m 19s\n",
      "1724:\tlearn: 3.8140347\ttotal: 8m 19s\tremaining: 1m 19s\n",
      "1725:\tlearn: 3.8138371\ttotal: 8m 19s\tremaining: 1m 19s\n",
      "1726:\tlearn: 3.8137752\ttotal: 8m 20s\tremaining: 1m 19s\n",
      "1727:\tlearn: 3.8128505\ttotal: 8m 20s\tremaining: 1m 18s\n",
      "1728:\tlearn: 3.8123726\ttotal: 8m 20s\tremaining: 1m 18s\n",
      "1729:\tlearn: 3.8123166\ttotal: 8m 20s\tremaining: 1m 18s\n",
      "1730:\tlearn: 3.8121791\ttotal: 8m 21s\tremaining: 1m 17s\n",
      "1731:\tlearn: 3.8119804\ttotal: 8m 21s\tremaining: 1m 17s\n",
      "1732:\tlearn: 3.8118435\ttotal: 8m 21s\tremaining: 1m 17s\n",
      "1733:\tlearn: 3.8117964\ttotal: 8m 22s\tremaining: 1m 17s\n",
      "1734:\tlearn: 3.8114530\ttotal: 8m 22s\tremaining: 1m 16s\n",
      "1735:\tlearn: 3.8111755\ttotal: 8m 22s\tremaining: 1m 16s\n",
      "1736:\tlearn: 3.8105232\ttotal: 8m 22s\tremaining: 1m 16s\n",
      "1737:\tlearn: 3.8104574\ttotal: 8m 23s\tremaining: 1m 15s\n",
      "1738:\tlearn: 3.8101618\ttotal: 8m 23s\tremaining: 1m 15s\n",
      "1739:\tlearn: 3.8100764\ttotal: 8m 23s\tremaining: 1m 15s\n",
      "1740:\tlearn: 3.8096316\ttotal: 8m 23s\tremaining: 1m 14s\n",
      "1741:\tlearn: 3.8093736\ttotal: 8m 24s\tremaining: 1m 14s\n",
      "1742:\tlearn: 3.8089826\ttotal: 8m 24s\tremaining: 1m 14s\n",
      "1743:\tlearn: 3.8085425\ttotal: 8m 24s\tremaining: 1m 14s\n",
      "1744:\tlearn: 3.8083718\ttotal: 8m 25s\tremaining: 1m 13s\n",
      "1745:\tlearn: 3.8082840\ttotal: 8m 25s\tremaining: 1m 13s\n",
      "1746:\tlearn: 3.8082140\ttotal: 8m 25s\tremaining: 1m 13s\n",
      "1747:\tlearn: 3.8079639\ttotal: 8m 25s\tremaining: 1m 12s\n",
      "1748:\tlearn: 3.8076140\ttotal: 8m 26s\tremaining: 1m 12s\n",
      "1749:\tlearn: 3.8074748\ttotal: 8m 26s\tremaining: 1m 12s\n",
      "1750:\tlearn: 3.8072162\ttotal: 8m 26s\tremaining: 1m 12s\n",
      "1751:\tlearn: 3.8070513\ttotal: 8m 26s\tremaining: 1m 11s\n",
      "1752:\tlearn: 3.8068486\ttotal: 8m 27s\tremaining: 1m 11s\n",
      "1753:\tlearn: 3.8067569\ttotal: 8m 27s\tremaining: 1m 11s\n",
      "1754:\tlearn: 3.8065347\ttotal: 8m 27s\tremaining: 1m 10s\n",
      "1755:\tlearn: 3.8064733\ttotal: 8m 28s\tremaining: 1m 10s\n",
      "1756:\tlearn: 3.8064197\ttotal: 8m 28s\tremaining: 1m 10s\n",
      "1757:\tlearn: 3.8062978\ttotal: 8m 28s\tremaining: 1m 10s\n",
      "1758:\tlearn: 3.8059632\ttotal: 8m 28s\tremaining: 1m 9s\n",
      "1759:\tlearn: 3.8057795\ttotal: 8m 29s\tremaining: 1m 9s\n",
      "1760:\tlearn: 3.8055500\ttotal: 8m 29s\tremaining: 1m 9s\n",
      "1761:\tlearn: 3.8053533\ttotal: 8m 29s\tremaining: 1m 8s\n",
      "1762:\tlearn: 3.8050718\ttotal: 8m 29s\tremaining: 1m 8s\n",
      "1763:\tlearn: 3.8049038\ttotal: 8m 30s\tremaining: 1m 8s\n",
      "1764:\tlearn: 3.8048217\ttotal: 8m 30s\tremaining: 1m 7s\n",
      "1765:\tlearn: 3.8045989\ttotal: 8m 30s\tremaining: 1m 7s\n",
      "1766:\tlearn: 3.8043340\ttotal: 8m 31s\tremaining: 1m 7s\n",
      "1767:\tlearn: 3.8041555\ttotal: 8m 31s\tremaining: 1m 7s\n",
      "1768:\tlearn: 3.8036450\ttotal: 8m 31s\tremaining: 1m 6s\n",
      "1769:\tlearn: 3.8034691\ttotal: 8m 31s\tremaining: 1m 6s\n",
      "1770:\tlearn: 3.8027449\ttotal: 8m 32s\tremaining: 1m 6s\n",
      "1771:\tlearn: 3.8022046\ttotal: 8m 32s\tremaining: 1m 5s\n",
      "1772:\tlearn: 3.8020530\ttotal: 8m 32s\tremaining: 1m 5s\n",
      "1773:\tlearn: 3.8017453\ttotal: 8m 33s\tremaining: 1m 5s\n",
      "1774:\tlearn: 3.8015941\ttotal: 8m 33s\tremaining: 1m 5s\n",
      "1775:\tlearn: 3.8014546\ttotal: 8m 33s\tremaining: 1m 4s\n",
      "1776:\tlearn: 3.8012294\ttotal: 8m 33s\tremaining: 1m 4s\n",
      "1777:\tlearn: 3.8010701\ttotal: 8m 34s\tremaining: 1m 4s\n",
      "1778:\tlearn: 3.8007737\ttotal: 8m 34s\tremaining: 1m 3s\n",
      "1779:\tlearn: 3.8004487\ttotal: 8m 34s\tremaining: 1m 3s\n",
      "1780:\tlearn: 3.8002613\ttotal: 8m 34s\tremaining: 1m 3s\n",
      "1781:\tlearn: 3.7999093\ttotal: 8m 35s\tremaining: 1m 3s\n",
      "1782:\tlearn: 3.7998153\ttotal: 8m 35s\tremaining: 1m 2s\n",
      "1783:\tlearn: 3.7996275\ttotal: 8m 35s\tremaining: 1m 2s\n",
      "1784:\tlearn: 3.7992626\ttotal: 8m 36s\tremaining: 1m 2s\n",
      "1785:\tlearn: 3.7992237\ttotal: 8m 36s\tremaining: 1m 1s\n",
      "1786:\tlearn: 3.7989606\ttotal: 8m 36s\tremaining: 1m 1s\n",
      "1787:\tlearn: 3.7988616\ttotal: 8m 36s\tremaining: 1m 1s\n",
      "1788:\tlearn: 3.7985161\ttotal: 8m 37s\tremaining: 1m\n",
      "1789:\tlearn: 3.7984235\ttotal: 8m 37s\tremaining: 1m\n",
      "1790:\tlearn: 3.7979161\ttotal: 8m 37s\tremaining: 1m\n",
      "1791:\tlearn: 3.7978721\ttotal: 8m 37s\tremaining: 1m\n",
      "1792:\tlearn: 3.7977455\ttotal: 8m 38s\tremaining: 59.8s\n",
      "1793:\tlearn: 3.7973899\ttotal: 8m 38s\tremaining: 59.5s\n",
      "1794:\tlearn: 3.7971016\ttotal: 8m 38s\tremaining: 59.2s\n",
      "1795:\tlearn: 3.7969974\ttotal: 8m 39s\tremaining: 59s\n",
      "1796:\tlearn: 3.7965340\ttotal: 8m 39s\tremaining: 58.7s\n",
      "1797:\tlearn: 3.7963941\ttotal: 8m 39s\tremaining: 58.4s\n",
      "1798:\tlearn: 3.7961813\ttotal: 8m 39s\tremaining: 58.1s\n",
      "1799:\tlearn: 3.7960823\ttotal: 8m 40s\tremaining: 57.8s\n",
      "1800:\tlearn: 3.7959851\ttotal: 8m 40s\tremaining: 57.5s\n",
      "1801:\tlearn: 3.7956616\ttotal: 8m 40s\tremaining: 57.2s\n",
      "1802:\tlearn: 3.7954132\ttotal: 8m 40s\tremaining: 56.9s\n",
      "1803:\tlearn: 3.7949878\ttotal: 8m 41s\tremaining: 56.6s\n",
      "1804:\tlearn: 3.7947290\ttotal: 8m 41s\tremaining: 56.3s\n",
      "1805:\tlearn: 3.7945985\ttotal: 8m 41s\tremaining: 56s\n",
      "1806:\tlearn: 3.7943563\ttotal: 8m 42s\tremaining: 55.8s\n",
      "1807:\tlearn: 3.7942289\ttotal: 8m 42s\tremaining: 55.5s\n",
      "1808:\tlearn: 3.7940865\ttotal: 8m 42s\tremaining: 55.2s\n",
      "1809:\tlearn: 3.7938767\ttotal: 8m 42s\tremaining: 54.9s\n",
      "1810:\tlearn: 3.7935516\ttotal: 8m 43s\tremaining: 54.6s\n",
      "1811:\tlearn: 3.7934427\ttotal: 8m 43s\tremaining: 54.3s\n",
      "1812:\tlearn: 3.7931592\ttotal: 8m 43s\tremaining: 54s\n",
      "1813:\tlearn: 3.7926985\ttotal: 8m 43s\tremaining: 53.7s\n",
      "1814:\tlearn: 3.7924064\ttotal: 8m 44s\tremaining: 53.4s\n",
      "1815:\tlearn: 3.7917307\ttotal: 8m 44s\tremaining: 53.1s\n",
      "1816:\tlearn: 3.7913318\ttotal: 8m 44s\tremaining: 52.9s\n",
      "1817:\tlearn: 3.7910577\ttotal: 8m 45s\tremaining: 52.6s\n",
      "1818:\tlearn: 3.7907173\ttotal: 8m 45s\tremaining: 52.3s\n",
      "1819:\tlearn: 3.7904823\ttotal: 8m 45s\tremaining: 52s\n",
      "1820:\tlearn: 3.7902893\ttotal: 8m 45s\tremaining: 51.7s\n",
      "1821:\tlearn: 3.7900445\ttotal: 8m 46s\tremaining: 51.4s\n",
      "1822:\tlearn: 3.7895700\ttotal: 8m 46s\tremaining: 51.1s\n",
      "1823:\tlearn: 3.7894739\ttotal: 8m 46s\tremaining: 50.8s\n",
      "1824:\tlearn: 3.7889795\ttotal: 8m 47s\tremaining: 50.5s\n",
      "1825:\tlearn: 3.7887236\ttotal: 8m 47s\tremaining: 50.3s\n",
      "1826:\tlearn: 3.7886518\ttotal: 8m 47s\tremaining: 50s\n",
      "1827:\tlearn: 3.7884346\ttotal: 8m 47s\tremaining: 49.7s\n",
      "1828:\tlearn: 3.7882954\ttotal: 8m 48s\tremaining: 49.4s\n",
      "1829:\tlearn: 3.7881120\ttotal: 8m 48s\tremaining: 49.1s\n",
      "1830:\tlearn: 3.7877206\ttotal: 8m 48s\tremaining: 48.8s\n",
      "1831:\tlearn: 3.7875963\ttotal: 8m 49s\tremaining: 48.5s\n"
     ]
    },
    {
     "name": "stdout",
     "output_type": "stream",
     "text": [
      "1832:\tlearn: 3.7873012\ttotal: 8m 49s\tremaining: 48.2s\n",
      "1833:\tlearn: 3.7871622\ttotal: 8m 49s\tremaining: 47.9s\n",
      "1834:\tlearn: 3.7869862\ttotal: 8m 49s\tremaining: 47.6s\n",
      "1835:\tlearn: 3.7865768\ttotal: 8m 50s\tremaining: 47.4s\n",
      "1836:\tlearn: 3.7864354\ttotal: 8m 50s\tremaining: 47.1s\n",
      "1837:\tlearn: 3.7860010\ttotal: 8m 51s\tremaining: 46.8s\n",
      "1838:\tlearn: 3.7857990\ttotal: 8m 51s\tremaining: 46.5s\n",
      "1839:\tlearn: 3.7856157\ttotal: 8m 51s\tremaining: 46.2s\n",
      "1840:\tlearn: 3.7854496\ttotal: 8m 51s\tremaining: 45.9s\n",
      "1841:\tlearn: 3.7852111\ttotal: 8m 52s\tremaining: 45.6s\n",
      "1842:\tlearn: 3.7850151\ttotal: 8m 52s\tremaining: 45.4s\n",
      "1843:\tlearn: 3.7849890\ttotal: 8m 52s\tremaining: 45.1s\n",
      "1844:\tlearn: 3.7848568\ttotal: 8m 52s\tremaining: 44.8s\n",
      "1845:\tlearn: 3.7845633\ttotal: 8m 53s\tremaining: 44.5s\n",
      "1846:\tlearn: 3.7844619\ttotal: 8m 53s\tremaining: 44.2s\n",
      "1847:\tlearn: 3.7842935\ttotal: 8m 53s\tremaining: 43.9s\n",
      "1848:\tlearn: 3.7837507\ttotal: 8m 54s\tremaining: 43.6s\n",
      "1849:\tlearn: 3.7836303\ttotal: 8m 54s\tremaining: 43.3s\n",
      "1850:\tlearn: 3.7833564\ttotal: 8m 54s\tremaining: 43s\n",
      "1851:\tlearn: 3.7830934\ttotal: 8m 54s\tremaining: 42.7s\n",
      "1852:\tlearn: 3.7829548\ttotal: 8m 55s\tremaining: 42.4s\n",
      "1853:\tlearn: 3.7825615\ttotal: 8m 55s\tremaining: 42.2s\n",
      "1854:\tlearn: 3.7825015\ttotal: 8m 55s\tremaining: 41.9s\n",
      "1855:\tlearn: 3.7821842\ttotal: 8m 55s\tremaining: 41.6s\n",
      "1856:\tlearn: 3.7819808\ttotal: 8m 56s\tremaining: 41.3s\n",
      "1857:\tlearn: 3.7816017\ttotal: 8m 56s\tremaining: 41s\n",
      "1858:\tlearn: 3.7815080\ttotal: 8m 56s\tremaining: 40.7s\n",
      "1859:\tlearn: 3.7812846\ttotal: 8m 57s\tremaining: 40.4s\n",
      "1860:\tlearn: 3.7809474\ttotal: 8m 57s\tremaining: 40.1s\n",
      "1861:\tlearn: 3.7807924\ttotal: 8m 57s\tremaining: 39.8s\n",
      "1862:\tlearn: 3.7803834\ttotal: 8m 57s\tremaining: 39.6s\n",
      "1863:\tlearn: 3.7802180\ttotal: 8m 58s\tremaining: 39.3s\n",
      "1864:\tlearn: 3.7801763\ttotal: 8m 58s\tremaining: 39s\n",
      "1865:\tlearn: 3.7800039\ttotal: 8m 58s\tremaining: 38.7s\n",
      "1866:\tlearn: 3.7797149\ttotal: 8m 58s\tremaining: 38.4s\n",
      "1867:\tlearn: 3.7795373\ttotal: 8m 59s\tremaining: 38.1s\n",
      "1868:\tlearn: 3.7792796\ttotal: 8m 59s\tremaining: 37.8s\n",
      "1869:\tlearn: 3.7789949\ttotal: 8m 59s\tremaining: 37.5s\n",
      "1870:\tlearn: 3.7788711\ttotal: 9m\tremaining: 37.2s\n",
      "1871:\tlearn: 3.7786184\ttotal: 9m\tremaining: 36.9s\n",
      "1872:\tlearn: 3.7781657\ttotal: 9m\tremaining: 36.7s\n",
      "1873:\tlearn: 3.7778414\ttotal: 9m\tremaining: 36.4s\n",
      "1874:\tlearn: 3.7776487\ttotal: 9m 1s\tremaining: 36.1s\n",
      "1875:\tlearn: 3.7775354\ttotal: 9m 1s\tremaining: 35.8s\n",
      "1876:\tlearn: 3.7771728\ttotal: 9m 1s\tremaining: 35.5s\n",
      "1877:\tlearn: 3.7770568\ttotal: 9m 1s\tremaining: 35.2s\n",
      "1878:\tlearn: 3.7768404\ttotal: 9m 2s\tremaining: 34.9s\n",
      "1879:\tlearn: 3.7765671\ttotal: 9m 2s\tremaining: 34.6s\n",
      "1880:\tlearn: 3.7764295\ttotal: 9m 2s\tremaining: 34.3s\n",
      "1881:\tlearn: 3.7763956\ttotal: 9m 3s\tremaining: 34.1s\n",
      "1882:\tlearn: 3.7759967\ttotal: 9m 3s\tremaining: 33.8s\n",
      "1883:\tlearn: 3.7757186\ttotal: 9m 3s\tremaining: 33.5s\n",
      "1884:\tlearn: 3.7754248\ttotal: 9m 3s\tremaining: 33.2s\n",
      "1885:\tlearn: 3.7752495\ttotal: 9m 4s\tremaining: 32.9s\n",
      "1886:\tlearn: 3.7750141\ttotal: 9m 4s\tremaining: 32.6s\n",
      "1887:\tlearn: 3.7746130\ttotal: 9m 4s\tremaining: 32.3s\n",
      "1888:\tlearn: 3.7744740\ttotal: 9m 5s\tremaining: 32s\n",
      "1889:\tlearn: 3.7742941\ttotal: 9m 5s\tremaining: 31.7s\n",
      "1890:\tlearn: 3.7741819\ttotal: 9m 5s\tremaining: 31.5s\n",
      "1891:\tlearn: 3.7736319\ttotal: 9m 5s\tremaining: 31.2s\n",
      "1892:\tlearn: 3.7735712\ttotal: 9m 6s\tremaining: 30.9s\n",
      "1893:\tlearn: 3.7731714\ttotal: 9m 6s\tremaining: 30.6s\n",
      "1894:\tlearn: 3.7728355\ttotal: 9m 6s\tremaining: 30.3s\n",
      "1895:\tlearn: 3.7724031\ttotal: 9m 7s\tremaining: 30s\n",
      "1896:\tlearn: 3.7720002\ttotal: 9m 7s\tremaining: 29.7s\n",
      "1897:\tlearn: 3.7715084\ttotal: 9m 7s\tremaining: 29.4s\n",
      "1898:\tlearn: 3.7712515\ttotal: 9m 8s\tremaining: 29.1s\n",
      "1899:\tlearn: 3.7711093\ttotal: 9m 8s\tremaining: 28.9s\n",
      "1900:\tlearn: 3.7709716\ttotal: 9m 8s\tremaining: 28.6s\n",
      "1901:\tlearn: 3.7708152\ttotal: 9m 8s\tremaining: 28.3s\n",
      "1902:\tlearn: 3.7707834\ttotal: 9m 9s\tremaining: 28s\n",
      "1903:\tlearn: 3.7706697\ttotal: 9m 9s\tremaining: 27.7s\n",
      "1904:\tlearn: 3.7703067\ttotal: 9m 9s\tremaining: 27.4s\n",
      "1905:\tlearn: 3.7701597\ttotal: 9m 9s\tremaining: 27.1s\n",
      "1906:\tlearn: 3.7701098\ttotal: 9m 10s\tremaining: 26.8s\n",
      "1907:\tlearn: 3.7697756\ttotal: 9m 10s\tremaining: 26.5s\n",
      "1908:\tlearn: 3.7697146\ttotal: 9m 10s\tremaining: 26.3s\n",
      "1909:\tlearn: 3.7693214\ttotal: 9m 11s\tremaining: 26s\n",
      "1910:\tlearn: 3.7692072\ttotal: 9m 11s\tremaining: 25.7s\n",
      "1911:\tlearn: 3.7691707\ttotal: 9m 11s\tremaining: 25.4s\n",
      "1912:\tlearn: 3.7689036\ttotal: 9m 11s\tremaining: 25.1s\n",
      "1913:\tlearn: 3.7686444\ttotal: 9m 12s\tremaining: 24.8s\n",
      "1914:\tlearn: 3.7685576\ttotal: 9m 12s\tremaining: 24.5s\n",
      "1915:\tlearn: 3.7683600\ttotal: 9m 12s\tremaining: 24.2s\n",
      "1916:\tlearn: 3.7680638\ttotal: 9m 13s\tremaining: 23.9s\n",
      "1917:\tlearn: 3.7674883\ttotal: 9m 13s\tremaining: 23.7s\n",
      "1918:\tlearn: 3.7671242\ttotal: 9m 13s\tremaining: 23.4s\n",
      "1919:\tlearn: 3.7668638\ttotal: 9m 14s\tremaining: 23.1s\n",
      "1920:\tlearn: 3.7660609\ttotal: 9m 14s\tremaining: 22.8s\n",
      "1921:\tlearn: 3.7658348\ttotal: 9m 14s\tremaining: 22.5s\n",
      "1922:\tlearn: 3.7656538\ttotal: 9m 14s\tremaining: 22.2s\n",
      "1923:\tlearn: 3.7652697\ttotal: 9m 15s\tremaining: 21.9s\n",
      "1924:\tlearn: 3.7650919\ttotal: 9m 15s\tremaining: 21.6s\n",
      "1925:\tlearn: 3.7645429\ttotal: 9m 15s\tremaining: 21.4s\n",
      "1926:\tlearn: 3.7644660\ttotal: 9m 16s\tremaining: 21.1s\n",
      "1927:\tlearn: 3.7640958\ttotal: 9m 16s\tremaining: 20.8s\n",
      "1928:\tlearn: 3.7639432\ttotal: 9m 16s\tremaining: 20.5s\n",
      "1929:\tlearn: 3.7635508\ttotal: 9m 17s\tremaining: 20.2s\n",
      "1930:\tlearn: 3.7634895\ttotal: 9m 17s\tremaining: 19.9s\n",
      "1931:\tlearn: 3.7633395\ttotal: 9m 17s\tremaining: 19.6s\n",
      "1932:\tlearn: 3.7632476\ttotal: 9m 17s\tremaining: 19.3s\n",
      "1933:\tlearn: 3.7631316\ttotal: 9m 18s\tremaining: 19s\n",
      "1934:\tlearn: 3.7625846\ttotal: 9m 18s\tremaining: 18.8s\n",
      "1935:\tlearn: 3.7621413\ttotal: 9m 18s\tremaining: 18.5s\n",
      "1936:\tlearn: 3.7620382\ttotal: 9m 18s\tremaining: 18.2s\n",
      "1937:\tlearn: 3.7619996\ttotal: 9m 19s\tremaining: 17.9s\n",
      "1938:\tlearn: 3.7617186\ttotal: 9m 19s\tremaining: 17.6s\n",
      "1939:\tlearn: 3.7615523\ttotal: 9m 19s\tremaining: 17.3s\n",
      "1940:\tlearn: 3.7612099\ttotal: 9m 20s\tremaining: 17s\n",
      "1941:\tlearn: 3.7606147\ttotal: 9m 20s\tremaining: 16.7s\n",
      "1942:\tlearn: 3.7600087\ttotal: 9m 20s\tremaining: 16.4s\n",
      "1943:\tlearn: 3.7598952\ttotal: 9m 20s\tremaining: 16.2s\n",
      "1944:\tlearn: 3.7595778\ttotal: 9m 21s\tremaining: 15.9s\n",
      "1945:\tlearn: 3.7590565\ttotal: 9m 21s\tremaining: 15.6s\n",
      "1946:\tlearn: 3.7588985\ttotal: 9m 21s\tremaining: 15.3s\n",
      "1947:\tlearn: 3.7585964\ttotal: 9m 22s\tremaining: 15s\n",
      "1948:\tlearn: 3.7581518\ttotal: 9m 22s\tremaining: 14.7s\n",
      "1949:\tlearn: 3.7580341\ttotal: 9m 22s\tremaining: 14.4s\n",
      "1950:\tlearn: 3.7578640\ttotal: 9m 22s\tremaining: 14.1s\n",
      "1951:\tlearn: 3.7576938\ttotal: 9m 23s\tremaining: 13.9s\n",
      "1952:\tlearn: 3.7574625\ttotal: 9m 23s\tremaining: 13.6s\n",
      "1953:\tlearn: 3.7567690\ttotal: 9m 23s\tremaining: 13.3s\n",
      "1954:\tlearn: 3.7564408\ttotal: 9m 24s\tremaining: 13s\n",
      "1955:\tlearn: 3.7562587\ttotal: 9m 24s\tremaining: 12.7s\n",
      "1956:\tlearn: 3.7556681\ttotal: 9m 24s\tremaining: 12.4s\n",
      "1957:\tlearn: 3.7553756\ttotal: 9m 25s\tremaining: 12.1s\n",
      "1958:\tlearn: 3.7551557\ttotal: 9m 25s\tremaining: 11.8s\n",
      "1959:\tlearn: 3.7548163\ttotal: 9m 25s\tremaining: 11.5s\n",
      "1960:\tlearn: 3.7546720\ttotal: 9m 26s\tremaining: 11.3s\n",
      "1961:\tlearn: 3.7545505\ttotal: 9m 26s\tremaining: 11s\n",
      "1962:\tlearn: 3.7543251\ttotal: 9m 26s\tremaining: 10.7s\n",
      "1963:\tlearn: 3.7542319\ttotal: 9m 27s\tremaining: 10.4s\n",
      "1964:\tlearn: 3.7540934\ttotal: 9m 27s\tremaining: 10.1s\n",
      "1965:\tlearn: 3.7540033\ttotal: 9m 27s\tremaining: 9.81s\n",
      "1966:\tlearn: 3.7536966\ttotal: 9m 27s\tremaining: 9.53s\n",
      "1967:\tlearn: 3.7534944\ttotal: 9m 28s\tremaining: 9.24s\n",
      "1968:\tlearn: 3.7533529\ttotal: 9m 28s\tremaining: 8.95s\n",
      "1969:\tlearn: 3.7532690\ttotal: 9m 28s\tremaining: 8.66s\n",
      "1970:\tlearn: 3.7531942\ttotal: 9m 28s\tremaining: 8.37s\n",
      "1971:\tlearn: 3.7529737\ttotal: 9m 29s\tremaining: 8.08s\n",
      "1972:\tlearn: 3.7527348\ttotal: 9m 29s\tremaining: 7.79s\n",
      "1973:\tlearn: 3.7526919\ttotal: 9m 29s\tremaining: 7.5s\n",
      "1974:\tlearn: 3.7524415\ttotal: 9m 30s\tremaining: 7.22s\n",
      "1975:\tlearn: 3.7523305\ttotal: 9m 30s\tremaining: 6.93s\n",
      "1976:\tlearn: 3.7520569\ttotal: 9m 30s\tremaining: 6.64s\n",
      "1977:\tlearn: 3.7519290\ttotal: 9m 30s\tremaining: 6.35s\n",
      "1978:\tlearn: 3.7517475\ttotal: 9m 31s\tremaining: 6.06s\n",
      "1979:\tlearn: 3.7516069\ttotal: 9m 31s\tremaining: 5.77s\n",
      "1980:\tlearn: 3.7514050\ttotal: 9m 31s\tremaining: 5.48s\n",
      "1981:\tlearn: 3.7509079\ttotal: 9m 32s\tremaining: 5.2s\n",
      "1982:\tlearn: 3.7507622\ttotal: 9m 32s\tremaining: 4.91s\n",
      "1983:\tlearn: 3.7504543\ttotal: 9m 32s\tremaining: 4.62s\n",
      "1984:\tlearn: 3.7503562\ttotal: 9m 32s\tremaining: 4.33s\n",
      "1985:\tlearn: 3.7501801\ttotal: 9m 33s\tremaining: 4.04s\n"
     ]
    },
    {
     "name": "stdout",
     "output_type": "stream",
     "text": [
      "1986:\tlearn: 3.7498673\ttotal: 9m 33s\tremaining: 3.75s\n",
      "1987:\tlearn: 3.7495870\ttotal: 9m 33s\tremaining: 3.46s\n",
      "1988:\tlearn: 3.7495082\ttotal: 9m 34s\tremaining: 3.17s\n",
      "1989:\tlearn: 3.7494181\ttotal: 9m 34s\tremaining: 2.89s\n",
      "1990:\tlearn: 3.7492594\ttotal: 9m 34s\tremaining: 2.6s\n",
      "1991:\tlearn: 3.7490311\ttotal: 9m 35s\tremaining: 2.31s\n",
      "1992:\tlearn: 3.7485966\ttotal: 9m 35s\tremaining: 2.02s\n",
      "1993:\tlearn: 3.7483649\ttotal: 9m 35s\tremaining: 1.73s\n",
      "1994:\tlearn: 3.7483270\ttotal: 9m 35s\tremaining: 1.44s\n",
      "1995:\tlearn: 3.7480726\ttotal: 9m 36s\tremaining: 1.15s\n",
      "1996:\tlearn: 3.7478531\ttotal: 9m 36s\tremaining: 866ms\n",
      "1997:\tlearn: 3.7477597\ttotal: 9m 36s\tremaining: 577ms\n",
      "1998:\tlearn: 3.7472041\ttotal: 9m 37s\tremaining: 289ms\n",
      "1999:\tlearn: 3.7470944\ttotal: 9m 37s\tremaining: 0us\n"
     ]
    },
    {
     "data": {
      "text/plain": [
       "<catboost.core.CatBoostClassifier at 0x1f650fe7c10>"
      ]
     },
     "execution_count": 12,
     "metadata": {},
     "output_type": "execute_result"
    }
   ],
   "source": [
    "clf = CatBoostClassifier(depth=4, iterations= 2000, l2_leaf_reg= 3, learning_rate= 0.03)\n",
    "clf.fit(train,y_train)"
   ]
  },
  {
   "cell_type": "code",
   "execution_count": 13,
   "id": "7b12335c",
   "metadata": {},
   "outputs": [],
   "source": [
    "predict=clf.predict(test)"
   ]
  },
  {
   "cell_type": "code",
   "execution_count": 14,
   "id": "76c63d5c",
   "metadata": {},
   "outputs": [
    {
     "name": "stdout",
     "output_type": "stream",
     "text": [
      "recall:  0.1245\n"
     ]
    }
   ],
   "source": [
    "from sklearn.metrics import r2_score, recall_score, mean_absolute_percentage_error\n",
    "print('recall: ', recall_score(y_test, predict, average='micro'))"
   ]
  },
  {
   "cell_type": "markdown",
   "id": "131dc49b",
   "metadata": {},
   "source": [
    "## Регрессия Catboost'ом"
   ]
  },
  {
   "cell_type": "code",
   "execution_count": 46,
   "id": "7628e3e3",
   "metadata": {},
   "outputs": [
    {
     "data": {
      "text/html": [
       "<div>\n",
       "<style scoped>\n",
       "    .dataframe tbody tr th:only-of-type {\n",
       "        vertical-align: middle;\n",
       "    }\n",
       "\n",
       "    .dataframe tbody tr th {\n",
       "        vertical-align: top;\n",
       "    }\n",
       "\n",
       "    .dataframe thead th {\n",
       "        text-align: right;\n",
       "    }\n",
       "</style>\n",
       "<table border=\"1\" class=\"dataframe\">\n",
       "  <thead>\n",
       "    <tr style=\"text-align: right;\">\n",
       "      <th></th>\n",
       "      <th>id</th>\n",
       "      <th>ticket_id</th>\n",
       "      <th>ticket_type_nm</th>\n",
       "      <th>entrance_id</th>\n",
       "      <th>entrance_nm</th>\n",
       "      <th>station_id</th>\n",
       "      <th>station_nm</th>\n",
       "      <th>line_id</th>\n",
       "      <th>line_nm</th>\n",
       "      <th>pass_dttm</th>\n",
       "      <th>time_to_under</th>\n",
       "      <th>label</th>\n",
       "    </tr>\n",
       "  </thead>\n",
       "  <tbody>\n",
       "    <tr>\n",
       "      <th>0</th>\n",
       "      <td>1</td>\n",
       "      <td>40BD89EC85646EFB69E283F39C298E60</td>\n",
       "      <td>Пропуск FacePay</td>\n",
       "      <td>2402</td>\n",
       "      <td>Лефортово БКЛ</td>\n",
       "      <td>11007</td>\n",
       "      <td>Лефортово</td>\n",
       "      <td>11</td>\n",
       "      <td>Большая кольцевая</td>\n",
       "      <td>2022-09-12 05:00:13</td>\n",
       "      <td>216.316667</td>\n",
       "      <td>8001</td>\n",
       "    </tr>\n",
       "    <tr>\n",
       "      <th>1</th>\n",
       "      <td>2</td>\n",
       "      <td>126727A96489CC976A8C08E5CEB00542</td>\n",
       "      <td>СК учащегося 30 дней</td>\n",
       "      <td>110</td>\n",
       "      <td>Войковская ( Южный )</td>\n",
       "      <td>2006</td>\n",
       "      <td>Войковская</td>\n",
       "      <td>2</td>\n",
       "      <td>Замоскворецкая</td>\n",
       "      <td>2022-09-12 05:00:54</td>\n",
       "      <td>648.183333</td>\n",
       "      <td>9011</td>\n",
       "    </tr>\n",
       "    <tr>\n",
       "      <th>2</th>\n",
       "      <td>3</td>\n",
       "      <td>D28CE6A9E0E5B6D213470A97CFF32485</td>\n",
       "      <td>БСК дружинника г.Москвы</td>\n",
       "      <td>110</td>\n",
       "      <td>Войковская ( Южный )</td>\n",
       "      <td>2006</td>\n",
       "      <td>Войковская</td>\n",
       "      <td>2</td>\n",
       "      <td>Замоскворецкая</td>\n",
       "      <td>2022-09-12 05:00:55</td>\n",
       "      <td>865.333333</td>\n",
       "      <td>7022</td>\n",
       "    </tr>\n",
       "    <tr>\n",
       "      <th>3</th>\n",
       "      <td>4</td>\n",
       "      <td>015DA44B523C062B5BFEFF3FB0E64B9E</td>\n",
       "      <td>30 дней</td>\n",
       "      <td>110</td>\n",
       "      <td>Войковская ( Южный )</td>\n",
       "      <td>2006</td>\n",
       "      <td>Войковская</td>\n",
       "      <td>2</td>\n",
       "      <td>Замоскворецкая</td>\n",
       "      <td>2022-09-12 05:01:13</td>\n",
       "      <td>1048.233333</td>\n",
       "      <td>2022</td>\n",
       "    </tr>\n",
       "    <tr>\n",
       "      <th>4</th>\n",
       "      <td>5</td>\n",
       "      <td>95B19C6F3A504727AC3EA56EB7E3E80F</td>\n",
       "      <td>КОШЕЛЕК</td>\n",
       "      <td>110</td>\n",
       "      <td>Войковская ( Южный )</td>\n",
       "      <td>2006</td>\n",
       "      <td>Войковская</td>\n",
       "      <td>2</td>\n",
       "      <td>Замоскворецкая</td>\n",
       "      <td>2022-09-12 05:02:55</td>\n",
       "      <td>965.600000</td>\n",
       "      <td>2017</td>\n",
       "    </tr>\n",
       "  </tbody>\n",
       "</table>\n",
       "</div>"
      ],
      "text/plain": [
       "   id                         ticket_id           ticket_type_nm  entrance_id  \\\n",
       "0   1  40BD89EC85646EFB69E283F39C298E60          Пропуск FacePay         2402   \n",
       "1   2  126727A96489CC976A8C08E5CEB00542     СК учащегося 30 дней          110   \n",
       "2   3  D28CE6A9E0E5B6D213470A97CFF32485  БСК дружинника г.Москвы          110   \n",
       "3   4  015DA44B523C062B5BFEFF3FB0E64B9E                  30 дней          110   \n",
       "4   5  95B19C6F3A504727AC3EA56EB7E3E80F                  КОШЕЛЕК          110   \n",
       "\n",
       "            entrance_nm  station_id  station_nm  line_id            line_nm  \\\n",
       "0         Лефортово БКЛ       11007   Лефортово       11  Большая кольцевая   \n",
       "1  Войковская ( Южный )        2006  Войковская        2     Замоскворецкая   \n",
       "2  Войковская ( Южный )        2006  Войковская        2     Замоскворецкая   \n",
       "3  Войковская ( Южный )        2006  Войковская        2     Замоскворецкая   \n",
       "4  Войковская ( Южный )        2006  Войковская        2     Замоскворецкая   \n",
       "\n",
       "             pass_dttm  time_to_under  label  \n",
       "0  2022-09-12 05:00:13     216.316667   8001  \n",
       "1  2022-09-12 05:00:54     648.183333   9011  \n",
       "2  2022-09-12 05:00:55     865.333333   7022  \n",
       "3  2022-09-12 05:01:13    1048.233333   2022  \n",
       "4  2022-09-12 05:02:55     965.600000   2017  "
      ]
     },
     "execution_count": 46,
     "metadata": {},
     "output_type": "execute_result"
    }
   ],
   "source": [
    "#Заново подгрузим таблицу. Не оптимально, но надежно\n",
    "df1 = pd.read_csv('train_dataset_train.csv')\n",
    "df1.head()"
   ]
  },
  {
   "cell_type": "markdown",
   "id": "9b1ebcb2",
   "metadata": {},
   "source": [
    "Подготовим данные: разобьем данные в столбце `pass_dttm` на дни недели и часы."
   ]
  },
  {
   "cell_type": "code",
   "execution_count": 47,
   "id": "a00b9fe8",
   "metadata": {},
   "outputs": [],
   "source": [
    "df1.pass_dttm = pd.to_datetime(df1.pass_dttm)\n",
    "df1['day'] = df1.pass_dttm.dt.dayofweek #день недели\n",
    "df1['hour'] = df1.pass_dttm.dt.hour # час в формате 24\n",
    "df1['workday'] = df1['day'].apply(lambda x: 0 if x == 5 or x == 6 else 1)\n",
    "df1 = df1.drop(columns=['pass_dttm'])"
   ]
  },
  {
   "cell_type": "markdown",
   "id": "0d42e368",
   "metadata": {},
   "source": [
    "Объединим некоторые категории билетов."
   ]
  },
  {
   "cell_type": "code",
   "execution_count": 48,
   "id": "ffd501b7",
   "metadata": {},
   "outputs": [],
   "source": [
    "df1['ticket_type_nm'] = df1.ticket_type_nm.apply(lambda x: x.split(' ')[0])"
   ]
  },
  {
   "cell_type": "code",
   "execution_count": 49,
   "id": "d39e34af",
   "metadata": {},
   "outputs": [],
   "source": [
    "df1 = df1.drop(['ticket_id','id','station_id', 'line_id','entrance_id','entrance_nm','label'], axis=1)"
   ]
  },
  {
   "cell_type": "code",
   "execution_count": 50,
   "id": "cda0ddfd",
   "metadata": {},
   "outputs": [
    {
     "data": {
      "text/html": [
       "<div>\n",
       "<style scoped>\n",
       "    .dataframe tbody tr th:only-of-type {\n",
       "        vertical-align: middle;\n",
       "    }\n",
       "\n",
       "    .dataframe tbody tr th {\n",
       "        vertical-align: top;\n",
       "    }\n",
       "\n",
       "    .dataframe thead th {\n",
       "        text-align: right;\n",
       "    }\n",
       "</style>\n",
       "<table border=\"1\" class=\"dataframe\">\n",
       "  <thead>\n",
       "    <tr style=\"text-align: right;\">\n",
       "      <th></th>\n",
       "      <th>ticket_type_nm</th>\n",
       "      <th>station_nm</th>\n",
       "      <th>line_nm</th>\n",
       "      <th>time_to_under</th>\n",
       "      <th>day</th>\n",
       "      <th>hour</th>\n",
       "      <th>workday</th>\n",
       "    </tr>\n",
       "  </thead>\n",
       "  <tbody>\n",
       "    <tr>\n",
       "      <th>0</th>\n",
       "      <td>Пропуск</td>\n",
       "      <td>Лефортово</td>\n",
       "      <td>Большая кольцевая</td>\n",
       "      <td>216.316667</td>\n",
       "      <td>0</td>\n",
       "      <td>5</td>\n",
       "      <td>1</td>\n",
       "    </tr>\n",
       "    <tr>\n",
       "      <th>1</th>\n",
       "      <td>СК</td>\n",
       "      <td>Войковская</td>\n",
       "      <td>Замоскворецкая</td>\n",
       "      <td>648.183333</td>\n",
       "      <td>0</td>\n",
       "      <td>5</td>\n",
       "      <td>1</td>\n",
       "    </tr>\n",
       "    <tr>\n",
       "      <th>2</th>\n",
       "      <td>БСК</td>\n",
       "      <td>Войковская</td>\n",
       "      <td>Замоскворецкая</td>\n",
       "      <td>865.333333</td>\n",
       "      <td>0</td>\n",
       "      <td>5</td>\n",
       "      <td>1</td>\n",
       "    </tr>\n",
       "    <tr>\n",
       "      <th>3</th>\n",
       "      <td>30</td>\n",
       "      <td>Войковская</td>\n",
       "      <td>Замоскворецкая</td>\n",
       "      <td>1048.233333</td>\n",
       "      <td>0</td>\n",
       "      <td>5</td>\n",
       "      <td>1</td>\n",
       "    </tr>\n",
       "    <tr>\n",
       "      <th>4</th>\n",
       "      <td>КОШЕЛЕК</td>\n",
       "      <td>Войковская</td>\n",
       "      <td>Замоскворецкая</td>\n",
       "      <td>965.600000</td>\n",
       "      <td>0</td>\n",
       "      <td>5</td>\n",
       "      <td>1</td>\n",
       "    </tr>\n",
       "  </tbody>\n",
       "</table>\n",
       "</div>"
      ],
      "text/plain": [
       "  ticket_type_nm  station_nm            line_nm  time_to_under  day  hour  \\\n",
       "0        Пропуск   Лефортово  Большая кольцевая     216.316667    0     5   \n",
       "1             СК  Войковская     Замоскворецкая     648.183333    0     5   \n",
       "2            БСК  Войковская     Замоскворецкая     865.333333    0     5   \n",
       "3             30  Войковская     Замоскворецкая    1048.233333    0     5   \n",
       "4        КОШЕЛЕК  Войковская     Замоскворецкая     965.600000    0     5   \n",
       "\n",
       "   workday  \n",
       "0        1  \n",
       "1        1  \n",
       "2        1  \n",
       "3        1  \n",
       "4        1  "
      ]
     },
     "execution_count": 50,
     "metadata": {},
     "output_type": "execute_result"
    }
   ],
   "source": [
    "df1.head()"
   ]
  },
  {
   "cell_type": "markdown",
   "id": "ac5701fb",
   "metadata": {},
   "source": [
    "### Исследование"
   ]
  },
  {
   "cell_type": "markdown",
   "id": "c6468e50",
   "metadata": {},
   "source": [
    "Узнаем, в какие часы больше всего посетителей в метро. "
   ]
  },
  {
   "cell_type": "code",
   "execution_count": 85,
   "id": "11ec4ba0",
   "metadata": {},
   "outputs": [],
   "source": [
    "unique_hours=df1.hour.unique()\n",
    "n_hours=df1['hour'].value_counts()"
   ]
  },
  {
   "cell_type": "code",
   "execution_count": 86,
   "id": "519ab116",
   "metadata": {},
   "outputs": [
    {
     "data": {
      "text/plain": [
       "Text(0.5, 0, 'Время входа в метро')"
      ]
     },
     "execution_count": 86,
     "metadata": {},
     "output_type": "execute_result"
    },
    {
     "data": {
      "image/png": "[encoded data removed]",
      "text/plain": [
       "<Figure size 800x300 with 1 Axes>"
      ]
     },
     "metadata": {},
     "output_type": "display_data"
    }
   ],
   "source": [
    "plt.figure(figsize=(8,3))\n",
    "plt.bar(unique_hours, n_hours,)\n",
    "plt.title('Количество вошедших в метро в разное время суток')\n",
    "plt.ylabel('Количество вошедших')\n",
    "plt.xlabel('Время входа в метро')"
   ]
  },
  {
   "cell_type": "markdown",
   "id": "78c81c39",
   "metadata": {},
   "source": [
    "Из графика можно сделать вывод, что большая часть людей заходит в метро в промежуток с 5 до 6 утра, затем количество вошедших убывает."
   ]
  },
  {
   "cell_type": "markdown",
   "id": "088e3a95",
   "metadata": {},
   "source": [
    "## Продолжение метода регрессии"
   ]
  },
  {
   "cell_type": "code",
   "execution_count": 20,
   "id": "23364b48",
   "metadata": {},
   "outputs": [],
   "source": [
    "from sklearn.model_selection import train_test_split\n",
    "train1, test1, y_train1, y_test1 = train_test_split(df1.drop(['time_to_under'],  axis=1), df1['time_to_under'], test_size=0.4, random_state=42)"
   ]
  },
  {
   "cell_type": "code",
   "execution_count": 21,
   "id": "bf45793a",
   "metadata": {},
   "outputs": [],
   "source": [
    "cat_features=['ticket_type_nm', 'station_nm', 'line_nm','workday']"
   ]
  },
  {
   "cell_type": "code",
   "execution_count": 22,
   "id": "42b15e83",
   "metadata": {},
   "outputs": [],
   "source": [
    "model = CatBoostRegressor(iterations=225,\n",
    "                          learning_rate=0.1,\n",
    "                          cat_features=cat_features,\n",
    "                          l2_leaf_reg=0.01,\n",
    "                          random_strength=0.3,\n",
    "                          depth=16)"
   ]
  },
  {
   "cell_type": "code",
   "execution_count": 23,
   "id": "7843a177",
   "metadata": {},
   "outputs": [
    {
     "name": "stdout",
     "output_type": "stream",
     "text": [
      "0:\tlearn: 221.3041523\ttotal: 1.21s\tremaining: 4m 31s\n",
      "1:\tlearn: 211.4947467\ttotal: 2.39s\tremaining: 4m 26s\n",
      "2:\tlearn: 203.1451891\ttotal: 3.4s\tremaining: 4m 11s\n",
      "3:\tlearn: 196.1039486\ttotal: 4.52s\tremaining: 4m 9s\n",
      "4:\tlearn: 190.2084200\ttotal: 5.83s\tremaining: 4m 16s\n",
      "5:\tlearn: 185.2954405\ttotal: 6.99s\tremaining: 4m 15s\n",
      "6:\tlearn: 181.1834652\ttotal: 8.16s\tremaining: 4m 14s\n",
      "7:\tlearn: 177.7909266\ttotal: 9.07s\tremaining: 4m 6s\n",
      "8:\tlearn: 174.9652296\ttotal: 10.2s\tremaining: 4m 5s\n",
      "9:\tlearn: 172.6386199\ttotal: 11.5s\tremaining: 4m 7s\n",
      "10:\tlearn: 170.7271704\ttotal: 12.7s\tremaining: 4m 6s\n",
      "11:\tlearn: 169.1517164\ttotal: 13.8s\tremaining: 4m 4s\n",
      "12:\tlearn: 167.8505023\ttotal: 14.9s\tremaining: 4m 3s\n",
      "13:\tlearn: 166.7791812\ttotal: 16s\tremaining: 4m\n",
      "14:\tlearn: 165.8961419\ttotal: 17s\tremaining: 3m 58s\n",
      "15:\tlearn: 165.1422388\ttotal: 18.2s\tremaining: 3m 58s\n",
      "16:\tlearn: 164.4581650\ttotal: 19.3s\tremaining: 3m 56s\n",
      "17:\tlearn: 163.9057858\ttotal: 20.4s\tremaining: 3m 55s\n",
      "18:\tlearn: 163.4362007\ttotal: 21.5s\tremaining: 3m 53s\n",
      "19:\tlearn: 163.0537320\ttotal: 22.6s\tremaining: 3m 51s\n",
      "20:\tlearn: 162.7325620\ttotal: 23.7s\tremaining: 3m 50s\n",
      "21:\tlearn: 162.4238547\ttotal: 24.8s\tremaining: 3m 49s\n",
      "22:\tlearn: 162.1206441\ttotal: 25.9s\tremaining: 3m 47s\n",
      "23:\tlearn: 161.8457274\ttotal: 27s\tremaining: 3m 45s\n",
      "24:\tlearn: 161.6511595\ttotal: 28.1s\tremaining: 3m 44s\n",
      "25:\tlearn: 161.4695026\ttotal: 29.2s\tremaining: 3m 43s\n",
      "26:\tlearn: 161.3217862\ttotal: 30.4s\tremaining: 3m 42s\n",
      "27:\tlearn: 161.1525000\ttotal: 31.6s\tremaining: 3m 42s\n",
      "28:\tlearn: 161.0117701\ttotal: 32.8s\tremaining: 3m 41s\n",
      "29:\tlearn: 160.9175136\ttotal: 34.1s\tremaining: 3m 41s\n",
      "30:\tlearn: 160.8163937\ttotal: 35.5s\tremaining: 3m 42s\n",
      "31:\tlearn: 160.7001266\ttotal: 36.8s\tremaining: 3m 41s\n",
      "32:\tlearn: 160.5943314\ttotal: 38.1s\tremaining: 3m 41s\n",
      "33:\tlearn: 160.5151509\ttotal: 39.2s\tremaining: 3m 40s\n",
      "34:\tlearn: 160.4423036\ttotal: 40.3s\tremaining: 3m 38s\n",
      "35:\tlearn: 160.2756237\ttotal: 41.6s\tremaining: 3m 38s\n",
      "36:\tlearn: 160.2052915\ttotal: 42.7s\tremaining: 3m 36s\n",
      "37:\tlearn: 160.0738383\ttotal: 44.1s\tremaining: 3m 37s\n",
      "38:\tlearn: 159.9393541\ttotal: 45.4s\tremaining: 3m 36s\n",
      "39:\tlearn: 159.8604364\ttotal: 46.4s\tremaining: 3m 34s\n",
      "40:\tlearn: 159.7100558\ttotal: 47.7s\tremaining: 3m 33s\n",
      "41:\tlearn: 159.6440556\ttotal: 48.9s\tremaining: 3m 32s\n",
      "42:\tlearn: 159.5160508\ttotal: 50s\tremaining: 3m 31s\n",
      "43:\tlearn: 159.4462163\ttotal: 51.2s\tremaining: 3m 30s\n",
      "44:\tlearn: 159.3111689\ttotal: 52.7s\tremaining: 3m 30s\n",
      "45:\tlearn: 159.1971825\ttotal: 54.1s\tremaining: 3m 30s\n",
      "46:\tlearn: 159.1497050\ttotal: 55.4s\tremaining: 3m 29s\n",
      "47:\tlearn: 159.0990089\ttotal: 56.8s\tremaining: 3m 29s\n",
      "48:\tlearn: 159.0226823\ttotal: 58.1s\tremaining: 3m 28s\n",
      "49:\tlearn: 158.8869066\ttotal: 59.4s\tremaining: 3m 27s\n",
      "50:\tlearn: 158.8259275\ttotal: 1m\tremaining: 3m 26s\n",
      "51:\tlearn: 158.7232488\ttotal: 1m 1s\tremaining: 3m 25s\n",
      "52:\tlearn: 158.6937521\ttotal: 1m 3s\tremaining: 3m 25s\n",
      "53:\tlearn: 158.6106821\ttotal: 1m 4s\tremaining: 3m 23s\n",
      "54:\tlearn: 158.5464609\ttotal: 1m 5s\tremaining: 3m 23s\n",
      "55:\tlearn: 158.5035149\ttotal: 1m 6s\tremaining: 3m 22s\n",
      "56:\tlearn: 158.3902459\ttotal: 1m 8s\tremaining: 3m 21s\n",
      "57:\tlearn: 158.2997540\ttotal: 1m 9s\tremaining: 3m 20s\n",
      "58:\tlearn: 158.2159021\ttotal: 1m 11s\tremaining: 3m 20s\n",
      "59:\tlearn: 158.1739552\ttotal: 1m 12s\tremaining: 3m 18s\n",
      "60:\tlearn: 158.1028641\ttotal: 1m 13s\tremaining: 3m 18s\n",
      "61:\tlearn: 158.0461194\ttotal: 1m 15s\tremaining: 3m 17s\n",
      "62:\tlearn: 158.0148336\ttotal: 1m 16s\tremaining: 3m 16s\n",
      "63:\tlearn: 157.9123786\ttotal: 1m 17s\tremaining: 3m 15s\n",
      "64:\tlearn: 157.8702016\ttotal: 1m 18s\tremaining: 3m 14s\n",
      "65:\tlearn: 157.7962578\ttotal: 1m 20s\tremaining: 3m 13s\n",
      "66:\tlearn: 157.7712622\ttotal: 1m 21s\tremaining: 3m 12s\n",
      "67:\tlearn: 157.7270192\ttotal: 1m 22s\tremaining: 3m 11s\n",
      "68:\tlearn: 157.6966890\ttotal: 1m 24s\tremaining: 3m 10s\n",
      "69:\tlearn: 157.6438650\ttotal: 1m 25s\tremaining: 3m 9s\n",
      "70:\tlearn: 157.6071126\ttotal: 1m 26s\tremaining: 3m 7s\n",
      "71:\tlearn: 157.5500481\ttotal: 1m 27s\tremaining: 3m 6s\n",
      "72:\tlearn: 157.4797791\ttotal: 1m 29s\tremaining: 3m 5s\n",
      "73:\tlearn: 157.4366625\ttotal: 1m 30s\tremaining: 3m 4s\n",
      "74:\tlearn: 157.3738291\ttotal: 1m 32s\tremaining: 3m 4s\n",
      "75:\tlearn: 157.3215534\ttotal: 1m 33s\tremaining: 3m 3s\n",
      "76:\tlearn: 157.2778823\ttotal: 1m 34s\tremaining: 3m 1s\n",
      "77:\tlearn: 157.2305679\ttotal: 1m 35s\tremaining: 3m\n",
      "78:\tlearn: 157.1860916\ttotal: 1m 37s\tremaining: 2m 59s\n",
      "79:\tlearn: 157.1110349\ttotal: 1m 38s\tremaining: 2m 58s\n",
      "80:\tlearn: 157.0492737\ttotal: 1m 39s\tremaining: 2m 57s\n",
      "81:\tlearn: 156.9875655\ttotal: 1m 40s\tremaining: 2m 56s\n",
      "82:\tlearn: 156.8960891\ttotal: 1m 42s\tremaining: 2m 55s\n",
      "83:\tlearn: 156.8306711\ttotal: 1m 43s\tremaining: 2m 54s\n",
      "84:\tlearn: 156.8046683\ttotal: 1m 44s\tremaining: 2m 52s\n",
      "85:\tlearn: 156.7683545\ttotal: 1m 46s\tremaining: 2m 51s\n",
      "86:\tlearn: 156.6683366\ttotal: 1m 47s\tremaining: 2m 50s\n",
      "87:\tlearn: 156.6338547\ttotal: 1m 48s\tremaining: 2m 49s\n",
      "88:\tlearn: 156.5931024\ttotal: 1m 50s\tremaining: 2m 48s\n",
      "89:\tlearn: 156.5311437\ttotal: 1m 51s\tremaining: 2m 46s\n",
      "90:\tlearn: 156.5010020\ttotal: 1m 52s\tremaining: 2m 45s\n",
      "91:\tlearn: 156.4337287\ttotal: 1m 53s\tremaining: 2m 44s\n",
      "92:\tlearn: 156.4086292\ttotal: 1m 55s\tremaining: 2m 43s\n",
      "93:\tlearn: 156.3746254\ttotal: 1m 56s\tremaining: 2m 42s\n",
      "94:\tlearn: 156.3371722\ttotal: 1m 58s\tremaining: 2m 41s\n",
      "95:\tlearn: 156.2928770\ttotal: 1m 59s\tremaining: 2m 40s\n",
      "96:\tlearn: 156.2449525\ttotal: 2m\tremaining: 2m 39s\n",
      "97:\tlearn: 156.2300786\ttotal: 2m 2s\tremaining: 2m 38s\n",
      "98:\tlearn: 156.1724445\ttotal: 2m 3s\tremaining: 2m 37s\n",
      "99:\tlearn: 156.1403989\ttotal: 2m 5s\tremaining: 2m 36s\n",
      "100:\tlearn: 156.0837509\ttotal: 2m 6s\tremaining: 2m 35s\n",
      "101:\tlearn: 156.0452695\ttotal: 2m 8s\tremaining: 2m 34s\n",
      "102:\tlearn: 156.0031706\ttotal: 2m 9s\tremaining: 2m 33s\n",
      "103:\tlearn: 155.9113974\ttotal: 2m 11s\tremaining: 2m 32s\n",
      "104:\tlearn: 155.8520983\ttotal: 2m 12s\tremaining: 2m 31s\n",
      "105:\tlearn: 155.8223571\ttotal: 2m 13s\tremaining: 2m 29s\n",
      "106:\tlearn: 155.7702031\ttotal: 2m 14s\tremaining: 2m 28s\n",
      "107:\tlearn: 155.6954862\ttotal: 2m 15s\tremaining: 2m 27s\n",
      "108:\tlearn: 155.6358004\ttotal: 2m 17s\tremaining: 2m 26s\n",
      "109:\tlearn: 155.5569682\ttotal: 2m 18s\tremaining: 2m 25s\n",
      "110:\tlearn: 155.4608817\ttotal: 2m 20s\tremaining: 2m 24s\n",
      "111:\tlearn: 155.3962495\ttotal: 2m 21s\tremaining: 2m 23s\n",
      "112:\tlearn: 155.3883286\ttotal: 2m 23s\tremaining: 2m 22s\n",
      "113:\tlearn: 155.3713823\ttotal: 2m 24s\tremaining: 2m 20s\n",
      "114:\tlearn: 155.3404042\ttotal: 2m 26s\tremaining: 2m 19s\n",
      "115:\tlearn: 155.2616318\ttotal: 2m 27s\tremaining: 2m 18s\n",
      "116:\tlearn: 155.2334504\ttotal: 2m 28s\tremaining: 2m 17s\n",
      "117:\tlearn: 155.1787113\ttotal: 2m 30s\tremaining: 2m 16s\n",
      "118:\tlearn: 155.1414922\ttotal: 2m 31s\tremaining: 2m 15s\n",
      "119:\tlearn: 155.1119549\ttotal: 2m 32s\tremaining: 2m 13s\n",
      "120:\tlearn: 155.0790859\ttotal: 2m 34s\tremaining: 2m 12s\n",
      "121:\tlearn: 155.0476938\ttotal: 2m 35s\tremaining: 2m 11s\n",
      "122:\tlearn: 155.0036503\ttotal: 2m 36s\tremaining: 2m 10s\n",
      "123:\tlearn: 154.9555813\ttotal: 2m 38s\tremaining: 2m 8s\n",
      "124:\tlearn: 154.9238224\ttotal: 2m 39s\tremaining: 2m 7s\n",
      "125:\tlearn: 154.9037237\ttotal: 2m 40s\tremaining: 2m 6s\n",
      "126:\tlearn: 154.8226296\ttotal: 2m 42s\tremaining: 2m 5s\n",
      "127:\tlearn: 154.7848188\ttotal: 2m 43s\tremaining: 2m 4s\n",
      "128:\tlearn: 154.7569086\ttotal: 2m 44s\tremaining: 2m 2s\n",
      "129:\tlearn: 154.7032492\ttotal: 2m 46s\tremaining: 2m 1s\n",
      "130:\tlearn: 154.6726141\ttotal: 2m 47s\tremaining: 2m\n",
      "131:\tlearn: 154.6048235\ttotal: 2m 48s\tremaining: 1m 59s\n",
      "132:\tlearn: 154.5490188\ttotal: 2m 50s\tremaining: 1m 57s\n",
      "133:\tlearn: 154.4680213\ttotal: 2m 51s\tremaining: 1m 56s\n",
      "134:\tlearn: 154.4302050\ttotal: 2m 53s\tremaining: 1m 55s\n",
      "135:\tlearn: 154.3930706\ttotal: 2m 54s\tremaining: 1m 54s\n",
      "136:\tlearn: 154.3608457\ttotal: 2m 55s\tremaining: 1m 52s\n",
      "137:\tlearn: 154.3168734\ttotal: 2m 57s\tremaining: 1m 51s\n",
      "138:\tlearn: 154.2727520\ttotal: 2m 58s\tremaining: 1m 50s\n",
      "139:\tlearn: 154.2436562\ttotal: 3m\tremaining: 1m 49s\n",
      "140:\tlearn: 154.1992965\ttotal: 3m 1s\tremaining: 1m 48s\n",
      "141:\tlearn: 154.1803828\ttotal: 3m 2s\tremaining: 1m 46s\n",
      "142:\tlearn: 154.1304962\ttotal: 3m 4s\tremaining: 1m 45s\n",
      "143:\tlearn: 154.1034971\ttotal: 3m 5s\tremaining: 1m 44s\n",
      "144:\tlearn: 154.0907371\ttotal: 3m 7s\tremaining: 1m 43s\n",
      "145:\tlearn: 154.0805734\ttotal: 3m 8s\tremaining: 1m 42s\n",
      "146:\tlearn: 154.0242343\ttotal: 3m 10s\tremaining: 1m 40s\n",
      "147:\tlearn: 154.0134029\ttotal: 3m 11s\tremaining: 1m 39s\n",
      "148:\tlearn: 154.0012192\ttotal: 3m 12s\tremaining: 1m 38s\n",
      "149:\tlearn: 153.9692319\ttotal: 3m 14s\tremaining: 1m 37s\n",
      "150:\tlearn: 153.9035319\ttotal: 3m 15s\tremaining: 1m 35s\n"
     ]
    },
    {
     "name": "stdout",
     "output_type": "stream",
     "text": [
      "151:\tlearn: 153.8818503\ttotal: 3m 16s\tremaining: 1m 34s\n",
      "152:\tlearn: 153.8201173\ttotal: 3m 17s\tremaining: 1m 33s\n",
      "153:\tlearn: 153.7988940\ttotal: 3m 19s\tremaining: 1m 31s\n",
      "154:\tlearn: 153.7452595\ttotal: 3m 20s\tremaining: 1m 30s\n",
      "155:\tlearn: 153.6899217\ttotal: 3m 21s\tremaining: 1m 29s\n",
      "156:\tlearn: 153.6644797\ttotal: 3m 22s\tremaining: 1m 27s\n",
      "157:\tlearn: 153.6029622\ttotal: 3m 24s\tremaining: 1m 26s\n",
      "158:\tlearn: 153.5483651\ttotal: 3m 25s\tremaining: 1m 25s\n",
      "159:\tlearn: 153.4980891\ttotal: 3m 27s\tremaining: 1m 24s\n",
      "160:\tlearn: 153.4612192\ttotal: 3m 28s\tremaining: 1m 22s\n",
      "161:\tlearn: 153.4359484\ttotal: 3m 29s\tremaining: 1m 21s\n",
      "162:\tlearn: 153.4161095\ttotal: 3m 31s\tremaining: 1m 20s\n",
      "163:\tlearn: 153.3734446\ttotal: 3m 32s\tremaining: 1m 19s\n",
      "164:\tlearn: 153.3617238\ttotal: 3m 33s\tremaining: 1m 17s\n",
      "165:\tlearn: 153.3082530\ttotal: 3m 34s\tremaining: 1m 16s\n",
      "166:\tlearn: 153.2453285\ttotal: 3m 36s\tremaining: 1m 15s\n",
      "167:\tlearn: 153.2281396\ttotal: 3m 37s\tremaining: 1m 13s\n",
      "168:\tlearn: 153.1765976\ttotal: 3m 38s\tremaining: 1m 12s\n",
      "169:\tlearn: 153.1284789\ttotal: 3m 40s\tremaining: 1m 11s\n",
      "170:\tlearn: 153.0862874\ttotal: 3m 41s\tremaining: 1m 9s\n",
      "171:\tlearn: 153.0554960\ttotal: 3m 42s\tremaining: 1m 8s\n",
      "172:\tlearn: 153.0188505\ttotal: 3m 43s\tremaining: 1m 7s\n",
      "173:\tlearn: 152.9759669\ttotal: 3m 45s\tremaining: 1m 5s\n",
      "174:\tlearn: 152.9494465\ttotal: 3m 46s\tremaining: 1m 4s\n",
      "175:\tlearn: 152.9227599\ttotal: 3m 47s\tremaining: 1m 3s\n",
      "176:\tlearn: 152.9070972\ttotal: 3m 48s\tremaining: 1m 2s\n",
      "177:\tlearn: 152.8909913\ttotal: 3m 50s\tremaining: 1m\n",
      "178:\tlearn: 152.8469473\ttotal: 3m 51s\tremaining: 59.5s\n",
      "179:\tlearn: 152.8158184\ttotal: 3m 52s\tremaining: 58.2s\n",
      "180:\tlearn: 152.7650369\ttotal: 3m 54s\tremaining: 56.9s\n",
      "181:\tlearn: 152.7189782\ttotal: 3m 55s\tremaining: 55.6s\n",
      "182:\tlearn: 152.6806010\ttotal: 3m 56s\tremaining: 54.3s\n",
      "183:\tlearn: 152.6442627\ttotal: 3m 57s\tremaining: 53s\n",
      "184:\tlearn: 152.6322217\ttotal: 3m 59s\tremaining: 51.7s\n",
      "185:\tlearn: 152.6087578\ttotal: 4m\tremaining: 50.4s\n",
      "186:\tlearn: 152.5984348\ttotal: 4m 1s\tremaining: 49.1s\n",
      "187:\tlearn: 152.5864085\ttotal: 4m 2s\tremaining: 47.8s\n",
      "188:\tlearn: 152.5350679\ttotal: 4m 4s\tremaining: 46.5s\n",
      "189:\tlearn: 152.5054051\ttotal: 4m 5s\tremaining: 45.2s\n",
      "190:\tlearn: 152.4572094\ttotal: 4m 6s\tremaining: 43.9s\n",
      "191:\tlearn: 152.4295376\ttotal: 4m 8s\tremaining: 42.6s\n",
      "192:\tlearn: 152.3908225\ttotal: 4m 9s\tremaining: 41.3s\n",
      "193:\tlearn: 152.3414221\ttotal: 4m 10s\tremaining: 40s\n",
      "194:\tlearn: 152.3075472\ttotal: 4m 11s\tremaining: 38.7s\n",
      "195:\tlearn: 152.2691091\ttotal: 4m 12s\tremaining: 37.4s\n",
      "196:\tlearn: 152.2530028\ttotal: 4m 13s\tremaining: 36.1s\n",
      "197:\tlearn: 152.2412499\ttotal: 4m 15s\tremaining: 34.8s\n",
      "198:\tlearn: 152.2077539\ttotal: 4m 16s\tremaining: 33.5s\n",
      "199:\tlearn: 152.1793691\ttotal: 4m 17s\tremaining: 32.2s\n",
      "200:\tlearn: 152.1553461\ttotal: 4m 18s\tremaining: 30.9s\n",
      "201:\tlearn: 152.1233424\ttotal: 4m 19s\tremaining: 29.6s\n",
      "202:\tlearn: 152.1048038\ttotal: 4m 21s\tremaining: 28.3s\n",
      "203:\tlearn: 152.0783092\ttotal: 4m 22s\tremaining: 27.1s\n",
      "204:\tlearn: 152.0296248\ttotal: 4m 24s\tremaining: 25.8s\n",
      "205:\tlearn: 152.0185431\ttotal: 4m 25s\tremaining: 24.5s\n",
      "206:\tlearn: 151.9655868\ttotal: 4m 26s\tremaining: 23.2s\n",
      "207:\tlearn: 151.9260138\ttotal: 4m 27s\tremaining: 21.9s\n",
      "208:\tlearn: 151.8840146\ttotal: 4m 28s\tremaining: 20.6s\n",
      "209:\tlearn: 151.8216362\ttotal: 4m 30s\tremaining: 19.3s\n",
      "210:\tlearn: 151.7729866\ttotal: 4m 31s\tremaining: 18s\n",
      "211:\tlearn: 151.7300385\ttotal: 4m 32s\tremaining: 16.7s\n",
      "212:\tlearn: 151.6993764\ttotal: 4m 33s\tremaining: 15.4s\n",
      "213:\tlearn: 151.6679712\ttotal: 4m 35s\tremaining: 14.1s\n",
      "214:\tlearn: 151.6440006\ttotal: 4m 36s\tremaining: 12.8s\n",
      "215:\tlearn: 151.6120204\ttotal: 4m 37s\tremaining: 11.6s\n",
      "216:\tlearn: 151.6023418\ttotal: 4m 38s\tremaining: 10.3s\n",
      "217:\tlearn: 151.5860575\ttotal: 4m 40s\tremaining: 9s\n",
      "218:\tlearn: 151.5448461\ttotal: 4m 41s\tremaining: 7.71s\n",
      "219:\tlearn: 151.5212958\ttotal: 4m 42s\tremaining: 6.43s\n",
      "220:\tlearn: 151.5050162\ttotal: 4m 43s\tremaining: 5.14s\n",
      "221:\tlearn: 151.4384661\ttotal: 4m 45s\tremaining: 3.85s\n",
      "222:\tlearn: 151.4013184\ttotal: 4m 46s\tremaining: 2.57s\n",
      "223:\tlearn: 151.3661991\ttotal: 4m 47s\tremaining: 1.28s\n",
      "224:\tlearn: 151.3343995\ttotal: 4m 48s\tremaining: 0us\n"
     ]
    },
    {
     "data": {
      "text/plain": [
       "<catboost.core.CatBoostRegressor at 0x1f6c92b98a0>"
      ]
     },
     "execution_count": 23,
     "metadata": {},
     "output_type": "execute_result"
    }
   ],
   "source": [
    "model.fit(train1, y_train1)"
   ]
  },
  {
   "cell_type": "code",
   "execution_count": 24,
   "id": "55d28bb8",
   "metadata": {},
   "outputs": [
    {
     "name": "stdout",
     "output_type": "stream",
     "text": [
      "R2:  0.5115700267184482\n"
     ]
    }
   ],
   "source": [
    "pred = model.predict(test1)\n",
    "from sklearn.metrics import r2_score, recall_score, mean_absolute_percentage_error\n",
    "print('R2: ', r2_score(y_test1, pred))"
   ]
  },
  {
   "cell_type": "markdown",
   "id": "05676925",
   "metadata": {},
   "source": [
    "## Окончательный результат"
   ]
  },
  {
   "cell_type": "code",
   "execution_count": 25,
   "id": "5edf4b6b",
   "metadata": {},
   "outputs": [
    {
     "name": "stdout",
     "output_type": "stream",
     "text": [
      "result:  0.31803501335922413\n"
     ]
    }
   ],
   "source": [
    "R2= r2_score(y_test1, pred)\n",
    "recall = recall_score(y_test, predict, average='micro')\n",
    "print('result: ',(recall+R2)/2)"
   ]
  }
 ],
 "metadata": {
  "kernelspec": {
   "display_name": "Python 3 (ipykernel)",
   "language": "python",
   "name": "python3"
  },
  "language_info": {
   "codemirror_mode": {
    "name": "ipython",
    "version": 3
   },
   "file_extension": ".py",
   "mimetype": "text/x-python",
   "name": "python",
   "nbconvert_exporter": "python",
   "pygments_lexer": "ipython3",
   "version": "3.10.4"
  }
 },
 "nbformat": 4,
 "nbformat_minor": 5
}
